{
 "cells": [
  {
   "cell_type": "markdown",
   "id": "1e37b8a8-3f5c-472e-a181-702021f309df",
   "metadata": {},
   "source": [
    "<div> <h1> Session 6 Pytho 1 </h1> \n",
    "</div>"
   ]
  },
  {
   "cell_type": "markdown",
   "id": "eda1ed53-07b1-45ca-85ce-ac45f2f3e6f2",
   "metadata": {},
   "source": [
    "<div> <h3>\n",
    "Using arrays to have some mathematical operations on Lists </h3>\n",
    "</div>"
   ]
  },
  {
   "cell_type": "code",
   "execution_count": 7,
   "id": "66d6fbdb-e9df-4dd4-a248-5944ef9a8454",
   "metadata": {},
   "outputs": [],
   "source": [
    "import numpy as np"
   ]
  },
  {
   "cell_type": "code",
   "execution_count": 83,
   "id": "2f9e0561-712c-415a-9eb0-1745b6cdc532",
   "metadata": {},
   "outputs": [],
   "source": [
    "height = [1.76, 1.73, 1.67, 1.82, 1.75]\n",
    "weight = [65.4, 67.3, 83.1, 79.2, 69.5]"
   ]
  },
  {
   "cell_type": "markdown",
   "id": "eb71796c-19c6-421c-9941-1b8037962071",
   "metadata": {},
   "source": [
    "<div> \n",
    "<h3> Using arrays </h3>\n",
    "</div>"
   ]
  },
  {
   "cell_type": "code",
   "execution_count": 86,
   "id": "b3e03c44-187e-4f34-bf52-2198e698ee2b",
   "metadata": {},
   "outputs": [
    {
     "data": {
      "text/plain": [
       "array([1.76, 1.73, 1.67, 1.82, 1.75])"
      ]
     },
     "execution_count": 86,
     "metadata": {},
     "output_type": "execute_result"
    }
   ],
   "source": [
    "np_height = np.array([1.76, 1.73, 1.67, 1.82, 1.75])\n",
    "np_height"
   ]
  },
  {
   "cell_type": "code",
   "execution_count": 88,
   "id": "28164892-55fe-40c1-82c7-ba9d3e21d7f3",
   "metadata": {},
   "outputs": [
    {
     "data": {
      "text/plain": [
       "array([65.4, 67.3, 83.1, 79.2, 69.5])"
      ]
     },
     "execution_count": 88,
     "metadata": {},
     "output_type": "execute_result"
    }
   ],
   "source": [
    "np_weight = np.array([65.4, 67.3, 83.1, 79.2, 69.5])\n",
    "np_weight"
   ]
  },
  {
   "cell_type": "code",
   "execution_count": 96,
   "id": "214bca7c-ae9a-43b8-8059-29920f97a7d4",
   "metadata": {},
   "outputs": [
    {
     "data": {
      "text/plain": [
       "array([21.11311983, 22.48655151, 29.79669404, 23.91015578, 22.69387755])"
      ]
     },
     "execution_count": 96,
     "metadata": {},
     "output_type": "execute_result"
    }
   ],
   "source": [
    "IBM = np_weight / np_height**2\n",
    "IBM"
   ]
  },
  {
   "cell_type": "markdown",
   "id": "5df97cb1-93df-47ee-a95f-f81904aa5482",
   "metadata": {},
   "source": [
    "<div> <h2> 2 dimension array </h2>\n",
    "</div>"
   ]
  },
  {
   "cell_type": "code",
   "execution_count": 41,
   "id": "944f2e01-63ed-4804-8161-75169d6178ff",
   "metadata": {},
   "outputs": [
    {
     "data": {
      "text/plain": [
       "array([[ 1.76,  1.73,  1.67,  1.82,  1.75],\n",
       "       [65.4 , 67.3 , 83.1 , 79.2 , 69.5 ]])"
      ]
     },
     "execution_count": 41,
     "metadata": {},
     "output_type": "execute_result"
    }
   ],
   "source": [
    "np_2d = np.array([[1.76, 1.73, 1.67, 1.82, 1.75],\n",
    "                 [65.4, 67.3, 83.1, 79.2, 69.5]])\n",
    "np_2d"
   ]
  },
  {
   "cell_type": "code",
   "execution_count": 43,
   "id": "0de4f2f4-3037-4e30-b608-22e32e7e5424",
   "metadata": {},
   "outputs": [
    {
     "data": {
      "text/plain": [
       "(2, 5)"
      ]
     },
     "execution_count": 43,
     "metadata": {},
     "output_type": "execute_result"
    }
   ],
   "source": [
    "np_2d.shape"
   ]
  },
  {
   "cell_type": "code",
   "execution_count": 45,
   "id": "ef42ccd3-8f2f-48de-8a8f-5cca719e4cc5",
   "metadata": {},
   "outputs": [
    {
     "data": {
      "text/plain": [
       "array([[ 1.76, 65.4 ],\n",
       "       [ 1.73, 67.3 ],\n",
       "       [ 1.67, 83.1 ],\n",
       "       [ 1.82, 79.2 ],\n",
       "       [ 1.75, 69.5 ]])"
      ]
     },
     "execution_count": 45,
     "metadata": {},
     "output_type": "execute_result"
    }
   ],
   "source": [
    "np_2d.T"
   ]
  },
  {
   "cell_type": "code",
   "execution_count": 57,
   "id": "8da686cf-958b-47c1-8832-127bc9052dbc",
   "metadata": {},
   "outputs": [
    {
     "data": {
      "text/plain": [
       "array([[  1.73,   1.68],\n",
       "       [880.4 ,  59.2 ]])"
      ]
     },
     "execution_count": 57,
     "metadata": {},
     "output_type": "execute_result"
    }
   ],
   "source": [
    "xx = np.array([[1.73, 1.68],\n",
    "               [880.4,59.2]])\n",
    "xx"
   ]
  },
  {
   "cell_type": "markdown",
   "id": "9d092c31-d445-471b-9679-9c6f7a0c54d5",
   "metadata": {},
   "source": [
    "<div> <h2> Descriptive stat in arrays </h2>\n",
    "</div>"
   ]
  },
  {
   "cell_type": "code",
   "execution_count": 60,
   "id": "ccd53314-8e2a-4fce-80e7-5a69d3f0bf57",
   "metadata": {},
   "outputs": [
    {
     "data": {
      "text/plain": [
       "880.4"
      ]
     },
     "execution_count": 60,
     "metadata": {},
     "output_type": "execute_result"
    }
   ],
   "source": [
    "xx.max()"
   ]
  },
  {
   "cell_type": "code",
   "execution_count": 62,
   "id": "8166982f-1113-4cf3-af00-8acbd15fc172",
   "metadata": {},
   "outputs": [
    {
     "data": {
      "text/plain": [
       "array([[19, 22],\n",
       "       [43, 50]])"
      ]
     },
     "execution_count": 62,
     "metadata": {},
     "output_type": "execute_result"
    }
   ],
   "source": [
    "x = np.array([[1,2],\n",
    "             [3,4]])\n",
    "y = np.array([[5,6],\n",
    "             [7,8]])\n",
    "np.dot(x,y)"
   ]
  },
  {
   "cell_type": "code",
   "execution_count": 64,
   "id": "ea689818-edad-48fb-86fa-94bdc26871d0",
   "metadata": {},
   "outputs": [
    {
     "data": {
      "text/plain": [
       "array([[  1.7,   1.7],\n",
       "       [880.4,  59.2]])"
      ]
     },
     "execution_count": 64,
     "metadata": {},
     "output_type": "execute_result"
    }
   ],
   "source": [
    "xx.round(1)"
   ]
  },
  {
   "cell_type": "markdown",
   "id": "694059ea-f1e0-411c-8b54-acdb8062add0",
   "metadata": {},
   "source": [
    "<div> <h2> subsetting numpy (array) </h2>\n",
    "</div>"
   ]
  },
  {
   "cell_type": "code",
   "execution_count": 77,
   "id": "88b83270-beb4-4637-97b7-8b332c11c859",
   "metadata": {},
   "outputs": [
    {
     "data": {
      "text/plain": [
       "array([[ 1.76,  1.73,  1.67,  1.82,  1.75],\n",
       "       [65.4 , 67.3 , 83.1 , 79.2 , 69.5 ]])"
      ]
     },
     "execution_count": 77,
     "metadata": {},
     "output_type": "execute_result"
    }
   ],
   "source": [
    "np_2d"
   ]
  },
  {
   "cell_type": "code",
   "execution_count": 98,
   "id": "256fc6fe-c55c-4ff7-82c7-9ec7194dc53f",
   "metadata": {},
   "outputs": [
    {
     "data": {
      "text/plain": [
       "array([21.11311983, 22.48655151, 29.79669404, 23.91015578, 22.69387755])"
      ]
     },
     "execution_count": 98,
     "metadata": {},
     "output_type": "execute_result"
    }
   ],
   "source": [
    "IBM"
   ]
  },
  {
   "cell_type": "code",
   "execution_count": 100,
   "id": "32961998-8b56-4657-ae77-2721e496991c",
   "metadata": {},
   "outputs": [
    {
     "data": {
      "text/plain": [
       "22.48655150522904"
      ]
     },
     "execution_count": 100,
     "metadata": {},
     "output_type": "execute_result"
    }
   ],
   "source": [
    "IBM[1]"
   ]
  },
  {
   "cell_type": "code",
   "execution_count": 102,
   "id": "2b6b9ab8-b3d7-4a84-8823-2e2233f98591",
   "metadata": {},
   "outputs": [
    {
     "data": {
      "text/plain": [
       "array([29.79669404, 23.91015578])"
      ]
     },
     "execution_count": 102,
     "metadata": {},
     "output_type": "execute_result"
    }
   ],
   "source": [
    "IBM[IBM>23]"
   ]
  },
  {
   "cell_type": "markdown",
   "id": "899194cf-fdce-47fe-8b79-d56328b57fb1",
   "metadata": {},
   "source": [
    "<div> \n",
    "<h1> Dictionary in Python </h1>\n",
    "</div>"
   ]
  },
  {
   "cell_type": "code",
   "execution_count": 125,
   "id": "04fbad1f-2c90-4ca9-b767-0039cb027b72",
   "metadata": {},
   "outputs": [
    {
     "data": {
      "text/plain": [
       "{'afgh': 30.2, 'albania': 2.77, 'algeria': 39.21}"
      ]
     },
     "execution_count": 125,
     "metadata": {},
     "output_type": "execute_result"
    }
   ],
   "source": [
    "word = {\"afgh\":30.2, \"albania\":2.77, \"algeria\":39.21 }\n",
    "word"
   ]
  },
  {
   "cell_type": "code",
   "execution_count": 140,
   "id": "afbec786-c351-47ad-8c76-a24eaf45676a",
   "metadata": {},
   "outputs": [
    {
     "data": {
      "text/plain": [
       "{'afgh': 30.2, 'albania': 2.77, 'algeria': 39.21, 'iran': 400}"
      ]
     },
     "execution_count": 140,
     "metadata": {},
     "output_type": "execute_result"
    }
   ],
   "source": [
    "word"
   ]
  },
  {
   "cell_type": "code",
   "execution_count": 131,
   "id": "9b6d18dc-41ac-4687-a117-12a9b78c83d8",
   "metadata": {},
   "outputs": [
    {
     "data": {
      "text/plain": [
       "30.2"
      ]
     },
     "execution_count": 131,
     "metadata": {},
     "output_type": "execute_result"
    }
   ],
   "source": [
    "word[\"afgh\"]"
   ]
  },
  {
   "cell_type": "code",
   "execution_count": 137,
   "id": "2b931489-3017-4db3-8dd0-cd8a3398835b",
   "metadata": {},
   "outputs": [],
   "source": [
    "word[\"iran\"] = 400"
   ]
  },
  {
   "cell_type": "raw",
   "id": "e68b9869-5279-4f25-9ec7-78dfc339584c",
   "metadata": {},
   "source": [
    "word"
   ]
  },
  {
   "cell_type": "code",
   "execution_count": 146,
   "id": "10bb1b2d-5520-4b95-a830-6c65aadad956",
   "metadata": {},
   "outputs": [],
   "source": [
    "word[\"afgh\"]= 50"
   ]
  },
  {
   "cell_type": "code",
   "execution_count": 162,
   "id": "a4b54773-81da-4683-b01e-e7d80090b0e1",
   "metadata": {},
   "outputs": [
    {
     "data": {
      "text/plain": [
       "{'afgh': 50, 'albania': 2.77, 'algeria': 39.21, 'iran': 400}"
      ]
     },
     "execution_count": 162,
     "metadata": {},
     "output_type": "execute_result"
    }
   ],
   "source": [
    "word"
   ]
  },
  {
   "cell_type": "code",
   "execution_count": 179,
   "id": "11aa695c-fef3-4ec1-8da4-6e6c6d1827f1",
   "metadata": {},
   "outputs": [],
   "source": [
    "import pandas as pd"
   ]
  },
  {
   "cell_type": "code",
   "execution_count": 181,
   "id": "bdad64a9-810e-4bbc-8750-a79e7625792a",
   "metadata": {},
   "outputs": [],
   "source": [
    "ooo = {\n",
    "    \"Country\":[\"Brazil\",\"Russia\",\"India\",\"China\",\"Sount Africa\"],\n",
    "    \"Capital\":[\"Brasilia\",\"Moscow\",\"New dehli\", \"beijing\", \"Pretoria\"],\n",
    "    \"Area\":[8.651, 17.10, 3.286, 9.656, 1.221],    \n",
    "    \"Population\":[200.4, 143.5, 1252, 1357, 52.98]\n",
    "}"
   ]
  },
  {
   "cell_type": "code",
   "execution_count": 189,
   "id": "feeb367f-d689-4828-8a98-74f156b0e72b",
   "metadata": {},
   "outputs": [
    {
     "data": {
      "text/html": [
       "<div>\n",
       "<style scoped>\n",
       "    .dataframe tbody tr th:only-of-type {\n",
       "        vertical-align: middle;\n",
       "    }\n",
       "\n",
       "    .dataframe tbody tr th {\n",
       "        vertical-align: top;\n",
       "    }\n",
       "\n",
       "    .dataframe thead th {\n",
       "        text-align: right;\n",
       "    }\n",
       "</style>\n",
       "<table border=\"1\" class=\"dataframe\">\n",
       "  <thead>\n",
       "    <tr style=\"text-align: right;\">\n",
       "      <th></th>\n",
       "      <th>Country</th>\n",
       "      <th>Capital</th>\n",
       "      <th>Area</th>\n",
       "      <th>Population</th>\n",
       "    </tr>\n",
       "  </thead>\n",
       "  <tbody>\n",
       "    <tr>\n",
       "      <th>0</th>\n",
       "      <td>Brazil</td>\n",
       "      <td>Brasilia</td>\n",
       "      <td>8.651</td>\n",
       "      <td>200.40</td>\n",
       "    </tr>\n",
       "    <tr>\n",
       "      <th>1</th>\n",
       "      <td>Russia</td>\n",
       "      <td>Moscow</td>\n",
       "      <td>17.100</td>\n",
       "      <td>143.50</td>\n",
       "    </tr>\n",
       "    <tr>\n",
       "      <th>2</th>\n",
       "      <td>India</td>\n",
       "      <td>New dehli</td>\n",
       "      <td>3.286</td>\n",
       "      <td>1252.00</td>\n",
       "    </tr>\n",
       "    <tr>\n",
       "      <th>3</th>\n",
       "      <td>China</td>\n",
       "      <td>beijing</td>\n",
       "      <td>9.656</td>\n",
       "      <td>1357.00</td>\n",
       "    </tr>\n",
       "    <tr>\n",
       "      <th>4</th>\n",
       "      <td>Sount Africa</td>\n",
       "      <td>Pretoria</td>\n",
       "      <td>1.221</td>\n",
       "      <td>52.98</td>\n",
       "    </tr>\n",
       "  </tbody>\n",
       "</table>\n",
       "</div>"
      ],
      "text/plain": [
       "        Country    Capital    Area  Population\n",
       "0        Brazil   Brasilia   8.651      200.40\n",
       "1        Russia     Moscow  17.100      143.50\n",
       "2         India  New dehli   3.286     1252.00\n",
       "3         China    beijing   9.656     1357.00\n",
       "4  Sount Africa   Pretoria   1.221       52.98"
      ]
     },
     "execution_count": 189,
     "metadata": {},
     "output_type": "execute_result"
    }
   ],
   "source": [
    "brics = pd.DataFrame(ooo)\n",
    "brics"
   ]
  },
  {
   "cell_type": "code",
   "execution_count": 195,
   "id": "605956c6-aa3a-4d53-b293-461f0d11cb2a",
   "metadata": {},
   "outputs": [
    {
     "data": {
      "text/plain": [
       "4"
      ]
     },
     "execution_count": 195,
     "metadata": {},
     "output_type": "execute_result"
    }
   ],
   "source": [
    "brics.shape[1]"
   ]
  },
  {
   "cell_type": "code",
   "execution_count": 211,
   "id": "6e783304-6311-4626-9c54-0bf963f1e7ff",
   "metadata": {},
   "outputs": [],
   "source": [
    "my_array = np.array([[1,5,9,13],\n",
    "                    [2,6,10,14],\n",
    "                    [3,7,11,15],\n",
    "                    [4,8,12,16]])"
   ]
  },
  {
   "cell_type": "code",
   "execution_count": 217,
   "id": "1a52aaac-ce4e-4d8b-ae74-99b1d5127906",
   "metadata": {},
   "outputs": [
    {
     "data": {
      "text/html": [
       "<div>\n",
       "<style scoped>\n",
       "    .dataframe tbody tr th:only-of-type {\n",
       "        vertical-align: middle;\n",
       "    }\n",
       "\n",
       "    .dataframe tbody tr th {\n",
       "        vertical-align: top;\n",
       "    }\n",
       "\n",
       "    .dataframe thead th {\n",
       "        text-align: right;\n",
       "    }\n",
       "</style>\n",
       "<table border=\"1\" class=\"dataframe\">\n",
       "  <thead>\n",
       "    <tr style=\"text-align: right;\">\n",
       "      <th></th>\n",
       "      <th>Tehran</th>\n",
       "      <th>Rasht</th>\n",
       "      <th>Isfahan</th>\n",
       "      <th>Shiraz</th>\n",
       "    </tr>\n",
       "  </thead>\n",
       "  <tbody>\n",
       "    <tr>\n",
       "      <th>inventory1</th>\n",
       "      <td>1</td>\n",
       "      <td>5</td>\n",
       "      <td>9</td>\n",
       "      <td>13</td>\n",
       "    </tr>\n",
       "    <tr>\n",
       "      <th>inventory2</th>\n",
       "      <td>2</td>\n",
       "      <td>6</td>\n",
       "      <td>10</td>\n",
       "      <td>14</td>\n",
       "    </tr>\n",
       "    <tr>\n",
       "      <th>inventory3</th>\n",
       "      <td>3</td>\n",
       "      <td>7</td>\n",
       "      <td>11</td>\n",
       "      <td>15</td>\n",
       "    </tr>\n",
       "    <tr>\n",
       "      <th>inventory4</th>\n",
       "      <td>4</td>\n",
       "      <td>8</td>\n",
       "      <td>12</td>\n",
       "      <td>16</td>\n",
       "    </tr>\n",
       "  </tbody>\n",
       "</table>\n",
       "</div>"
      ],
      "text/plain": [
       "            Tehran  Rasht  Isfahan  Shiraz\n",
       "inventory1       1      5        9      13\n",
       "inventory2       2      6       10      14\n",
       "inventory3       3      7       11      15\n",
       "inventory4       4      8       12      16"
      ]
     },
     "execution_count": 217,
     "metadata": {},
     "output_type": "execute_result"
    }
   ],
   "source": [
    "my_df = pd.DataFrame(my_array,\n",
    "                    index =[\"inventory1\",\"inventory2\",\"inventory3\",\"inventory4\"],\n",
    "                    columns =[\"Tehran\",\"Rasht\",\"Isfahan\",\"Shiraz\"])\n",
    "my_df"
   ]
  },
  {
   "cell_type": "code",
   "execution_count": 219,
   "id": "91b0fbad-95a3-4c9b-b4a8-28bfc49523b2",
   "metadata": {},
   "outputs": [
    {
     "data": {
      "text/html": [
       "<div>\n",
       "<style scoped>\n",
       "    .dataframe tbody tr th:only-of-type {\n",
       "        vertical-align: middle;\n",
       "    }\n",
       "\n",
       "    .dataframe tbody tr th {\n",
       "        vertical-align: top;\n",
       "    }\n",
       "\n",
       "    .dataframe thead th {\n",
       "        text-align: right;\n",
       "    }\n",
       "</style>\n",
       "<table border=\"1\" class=\"dataframe\">\n",
       "  <thead>\n",
       "    <tr style=\"text-align: right;\">\n",
       "      <th></th>\n",
       "      <th>Country</th>\n",
       "      <th>Capital</th>\n",
       "      <th>Area</th>\n",
       "      <th>Population</th>\n",
       "    </tr>\n",
       "  </thead>\n",
       "  <tbody>\n",
       "    <tr>\n",
       "      <th>0</th>\n",
       "      <td>Brazil</td>\n",
       "      <td>Brasilia</td>\n",
       "      <td>8.651</td>\n",
       "      <td>200.40</td>\n",
       "    </tr>\n",
       "    <tr>\n",
       "      <th>1</th>\n",
       "      <td>Russia</td>\n",
       "      <td>Moscow</td>\n",
       "      <td>17.100</td>\n",
       "      <td>143.50</td>\n",
       "    </tr>\n",
       "    <tr>\n",
       "      <th>2</th>\n",
       "      <td>India</td>\n",
       "      <td>New dehli</td>\n",
       "      <td>3.286</td>\n",
       "      <td>1252.00</td>\n",
       "    </tr>\n",
       "    <tr>\n",
       "      <th>3</th>\n",
       "      <td>China</td>\n",
       "      <td>beijing</td>\n",
       "      <td>9.656</td>\n",
       "      <td>1357.00</td>\n",
       "    </tr>\n",
       "    <tr>\n",
       "      <th>4</th>\n",
       "      <td>Sount Africa</td>\n",
       "      <td>Pretoria</td>\n",
       "      <td>1.221</td>\n",
       "      <td>52.98</td>\n",
       "    </tr>\n",
       "  </tbody>\n",
       "</table>\n",
       "</div>"
      ],
      "text/plain": [
       "        Country    Capital    Area  Population\n",
       "0        Brazil   Brasilia   8.651      200.40\n",
       "1        Russia     Moscow  17.100      143.50\n",
       "2         India  New dehli   3.286     1252.00\n",
       "3         China    beijing   9.656     1357.00\n",
       "4  Sount Africa   Pretoria   1.221       52.98"
      ]
     },
     "execution_count": 219,
     "metadata": {},
     "output_type": "execute_result"
    }
   ],
   "source": [
    "brics"
   ]
  },
  {
   "cell_type": "code",
   "execution_count": 221,
   "id": "9cb0f9ac-fed5-4557-91c8-6b35dcea4a60",
   "metadata": {},
   "outputs": [
    {
     "data": {
      "text/plain": [
       "RangeIndex(start=0, stop=5, step=1)"
      ]
     },
     "execution_count": 221,
     "metadata": {},
     "output_type": "execute_result"
    }
   ],
   "source": [
    "brics.index"
   ]
  },
  {
   "cell_type": "code",
   "execution_count": 225,
   "id": "d79ac761-7e6b-474e-b188-706a32b580f0",
   "metadata": {},
   "outputs": [
    {
     "data": {
      "text/html": [
       "<div>\n",
       "<style scoped>\n",
       "    .dataframe tbody tr th:only-of-type {\n",
       "        vertical-align: middle;\n",
       "    }\n",
       "\n",
       "    .dataframe tbody tr th {\n",
       "        vertical-align: top;\n",
       "    }\n",
       "\n",
       "    .dataframe thead th {\n",
       "        text-align: right;\n",
       "    }\n",
       "</style>\n",
       "<table border=\"1\" class=\"dataframe\">\n",
       "  <thead>\n",
       "    <tr style=\"text-align: right;\">\n",
       "      <th></th>\n",
       "      <th>Country</th>\n",
       "      <th>Capital</th>\n",
       "      <th>Area</th>\n",
       "      <th>Population</th>\n",
       "    </tr>\n",
       "  </thead>\n",
       "  <tbody>\n",
       "    <tr>\n",
       "      <th>Br</th>\n",
       "      <td>Brazil</td>\n",
       "      <td>Brasilia</td>\n",
       "      <td>8.651</td>\n",
       "      <td>200.40</td>\n",
       "    </tr>\n",
       "    <tr>\n",
       "      <th>Ru</th>\n",
       "      <td>Russia</td>\n",
       "      <td>Moscow</td>\n",
       "      <td>17.100</td>\n",
       "      <td>143.50</td>\n",
       "    </tr>\n",
       "    <tr>\n",
       "      <th>In</th>\n",
       "      <td>India</td>\n",
       "      <td>New dehli</td>\n",
       "      <td>3.286</td>\n",
       "      <td>1252.00</td>\n",
       "    </tr>\n",
       "    <tr>\n",
       "      <th>Ch</th>\n",
       "      <td>China</td>\n",
       "      <td>beijing</td>\n",
       "      <td>9.656</td>\n",
       "      <td>1357.00</td>\n",
       "    </tr>\n",
       "    <tr>\n",
       "      <th>Sa</th>\n",
       "      <td>Sount Africa</td>\n",
       "      <td>Pretoria</td>\n",
       "      <td>1.221</td>\n",
       "      <td>52.98</td>\n",
       "    </tr>\n",
       "  </tbody>\n",
       "</table>\n",
       "</div>"
      ],
      "text/plain": [
       "         Country    Capital    Area  Population\n",
       "Br        Brazil   Brasilia   8.651      200.40\n",
       "Ru        Russia     Moscow  17.100      143.50\n",
       "In         India  New dehli   3.286     1252.00\n",
       "Ch         China    beijing   9.656     1357.00\n",
       "Sa  Sount Africa   Pretoria   1.221       52.98"
      ]
     },
     "execution_count": 225,
     "metadata": {},
     "output_type": "execute_result"
    }
   ],
   "source": [
    "brics.index = [\"Br\", \"Ru\",\"In\",\"Ch\",\"Sa\"]\n",
    "brics"
   ]
  },
  {
   "cell_type": "code",
   "execution_count": null,
   "id": "c993aff7-5ef5-4d42-8445-ee9da593c9ce",
   "metadata": {},
   "outputs": [],
   "source": []
  },
  {
   "cell_type": "code",
   "execution_count": 234,
   "id": "4d015c49-647a-49ca-a386-da8ed94df867",
   "metadata": {},
   "outputs": [
    {
     "data": {
      "text/plain": [
       "<bound method DataFrame.drop of   index       Country    Capital    Area  Population\n",
       "0    Br        Brazil   Brasilia   8.651      200.40\n",
       "1    Ru        Russia     Moscow  17.100      143.50\n",
       "2    In         India  New dehli   3.286     1252.00\n",
       "3    Ch         China    beijing   9.656     1357.00\n",
       "4    Sa  Sount Africa   Pretoria   1.221       52.98>"
      ]
     },
     "execution_count": 234,
     "metadata": {},
     "output_type": "execute_result"
    }
   ],
   "source": [
    "bricsnew = brics.reset_index()\n",
    "bricsnew.drop"
   ]
  },
  {
   "cell_type": "code",
   "execution_count": 244,
   "id": "52d00aff-6960-4720-818a-859fafad450f",
   "metadata": {},
   "outputs": [
    {
     "data": {
      "text/html": [
       "<div>\n",
       "<style scoped>\n",
       "    .dataframe tbody tr th:only-of-type {\n",
       "        vertical-align: middle;\n",
       "    }\n",
       "\n",
       "    .dataframe tbody tr th {\n",
       "        vertical-align: top;\n",
       "    }\n",
       "\n",
       "    .dataframe thead th {\n",
       "        text-align: right;\n",
       "    }\n",
       "</style>\n",
       "<table border=\"1\" class=\"dataframe\">\n",
       "  <thead>\n",
       "    <tr style=\"text-align: right;\">\n",
       "      <th></th>\n",
       "      <th>A</th>\n",
       "      <th>B</th>\n",
       "      <th>C</th>\n",
       "      <th>D</th>\n",
       "    </tr>\n",
       "  </thead>\n",
       "  <tbody>\n",
       "    <tr>\n",
       "      <th>0</th>\n",
       "      <td>0</td>\n",
       "      <td>1</td>\n",
       "      <td>2</td>\n",
       "      <td>3</td>\n",
       "    </tr>\n",
       "    <tr>\n",
       "      <th>1</th>\n",
       "      <td>4</td>\n",
       "      <td>5</td>\n",
       "      <td>6</td>\n",
       "      <td>7</td>\n",
       "    </tr>\n",
       "    <tr>\n",
       "      <th>2</th>\n",
       "      <td>8</td>\n",
       "      <td>9</td>\n",
       "      <td>10</td>\n",
       "      <td>11</td>\n",
       "    </tr>\n",
       "  </tbody>\n",
       "</table>\n",
       "</div>"
      ],
      "text/plain": [
       "   A  B   C   D\n",
       "0  0  1   2   3\n",
       "1  4  5   6   7\n",
       "2  8  9  10  11"
      ]
     },
     "execution_count": 244,
     "metadata": {},
     "output_type": "execute_result"
    }
   ],
   "source": [
    "df = pd.DataFrame(np.arange(12).reshape(3,4),\n",
    "                 columns= [\"A\",\"B\",\"C\", \"D\"])\n",
    "df"
   ]
  },
  {
   "cell_type": "code",
   "execution_count": 254,
   "id": "eb554328-9732-45ba-a2ff-139162a59280",
   "metadata": {},
   "outputs": [],
   "source": [
    "import pandas as pd\n",
    "data = {\"name\": [\"saly\",\"malo\"],\n",
    "        \"quali\": [True,False]}\n",
    "df_data = pd.DataFrame(data)\n"
   ]
  },
  {
   "cell_type": "code",
   "execution_count": 258,
   "id": "c79440be-6718-4b3c-85a8-c06bfd64adbb",
   "metadata": {},
   "outputs": [],
   "source": [
    "df_data.insert(1, \"age\", [17,15])"
   ]
  },
  {
   "cell_type": "code",
   "execution_count": 260,
   "id": "dbec6cbe-51b9-408e-8cd4-61eca85b7ed4",
   "metadata": {},
   "outputs": [
    {
     "data": {
      "text/html": [
       "<div>\n",
       "<style scoped>\n",
       "    .dataframe tbody tr th:only-of-type {\n",
       "        vertical-align: middle;\n",
       "    }\n",
       "\n",
       "    .dataframe tbody tr th {\n",
       "        vertical-align: top;\n",
       "    }\n",
       "\n",
       "    .dataframe thead th {\n",
       "        text-align: right;\n",
       "    }\n",
       "</style>\n",
       "<table border=\"1\" class=\"dataframe\">\n",
       "  <thead>\n",
       "    <tr style=\"text-align: right;\">\n",
       "      <th></th>\n",
       "      <th>name</th>\n",
       "      <th>age</th>\n",
       "      <th>quali</th>\n",
       "    </tr>\n",
       "  </thead>\n",
       "  <tbody>\n",
       "    <tr>\n",
       "      <th>0</th>\n",
       "      <td>saly</td>\n",
       "      <td>17</td>\n",
       "      <td>True</td>\n",
       "    </tr>\n",
       "    <tr>\n",
       "      <th>1</th>\n",
       "      <td>malo</td>\n",
       "      <td>15</td>\n",
       "      <td>False</td>\n",
       "    </tr>\n",
       "  </tbody>\n",
       "</table>\n",
       "</div>"
      ],
      "text/plain": [
       "   name  age  quali\n",
       "0  saly   17   True\n",
       "1  malo   15  False"
      ]
     },
     "execution_count": 260,
     "metadata": {},
     "output_type": "execute_result"
    }
   ],
   "source": [
    "df_data"
   ]
  },
  {
   "cell_type": "code",
   "execution_count": null,
   "id": "0a660eae-0d95-4f40-8ce1-1733ae0f5e9d",
   "metadata": {},
   "outputs": [],
   "source": []
  },
  {
   "cell_type": "code",
   "execution_count": null,
   "id": "1e680c06-a274-4397-8157-f77d2d51dd45",
   "metadata": {},
   "outputs": [],
   "source": []
  },
  {
   "cell_type": "code",
   "execution_count": null,
   "id": "de966349-2a33-4ff9-81be-d52f084dc628",
   "metadata": {},
   "outputs": [],
   "source": []
  },
  {
   "cell_type": "code",
   "execution_count": null,
   "id": "b0d87c52-e809-427b-aa9d-4a586808eb88",
   "metadata": {},
   "outputs": [],
   "source": []
  },
  {
   "cell_type": "code",
   "execution_count": null,
   "id": "87479986-a322-4da5-9b04-e1a340b52b1a",
   "metadata": {},
   "outputs": [],
   "source": []
  }
 ],
 "metadata": {
  "kernelspec": {
   "display_name": "Python 3 (ipykernel)",
   "language": "python",
   "name": "python3"
  },
  "language_info": {
   "codemirror_mode": {
    "name": "ipython",
    "version": 3
   },
   "file_extension": ".py",
   "mimetype": "text/x-python",
   "name": "python",
   "nbconvert_exporter": "python",
   "pygments_lexer": "ipython3",
   "version": "3.12.7"
  }
 },
 "nbformat": 4,
 "nbformat_minor": 5
}
