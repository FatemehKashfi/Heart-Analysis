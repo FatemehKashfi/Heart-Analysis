{
 "cells": [
  {
   "cell_type": "code",
   "execution_count": 3,
   "id": "ef52bd37-1a7a-4a10-8026-a4841159974d",
   "metadata": {},
   "outputs": [
    {
     "name": "stdout",
     "output_type": "stream",
     "text": [
      "i is Soheil\n"
     ]
    }
   ],
   "source": [
    "i = 'Soheil'\n",
    "print('i is {}'.format(i))"
   ]
  },
  {
   "cell_type": "code",
   "execution_count": 5,
   "id": "c0bb8abe-0890-4331-9384-4286cba1f241",
   "metadata": {},
   "outputs": [
    {
     "name": "stdout",
     "output_type": "stream",
     "text": [
      "i is 0\n",
      "i is 1\n",
      "i is 2\n",
      "i is 3\n"
     ]
    }
   ],
   "source": [
    "i = 0\n",
    "while i < 4:\n",
    "    print('i is {}'.format(i))\n",
    "    i+=1"
   ]
  },
  {
   "cell_type": "code",
   "execution_count": 9,
   "id": "b7330a24-d6d3-4b35-8f41-036d97d7b57e",
   "metadata": {},
   "outputs": [
    {
     "name": "stdout",
     "output_type": "stream",
     "text": [
      "This is a test for 2 \n",
      "This is a test for 3 \n",
      "This is a test for 4 \n",
      "This is a test for 5 \n"
     ]
    }
   ],
   "source": [
    "for i in range(2,6):\n",
    "    print('This is a test for {} '.format(i))\n",
    "    i+=1"
   ]
  },
  {
   "cell_type": "code",
   "execution_count": 17,
   "id": "82701cd2-dece-42ba-8c1a-15c9c03fa391",
   "metadata": {},
   "outputs": [
    {
     "name": "stdout",
     "output_type": "stream",
     "text": [
      "The second test for 2\n",
      "The second test for 5\n",
      "The second test for 8\n"
     ]
    }
   ],
   "source": [
    "for i in range(2,10,3):\n",
    "    print('The second test for {}'.format(i))\n",
    "    i+=1\n"
   ]
  },
  {
   "cell_type": "code",
   "execution_count": 36,
   "id": "b91e42c8-0aae-4402-8927-ca946409b394",
   "metadata": {},
   "outputs": [
    {
     "name": "stdout",
     "output_type": "stream",
     "text": [
      "[0, 1, 4, 9]\n"
     ]
    }
   ],
   "source": [
    "list_1 = []\n",
    "for i in range(4):\n",
    "    list_1.append(i**2)\n",
    "print(list_1)"
   ]
  },
  {
   "cell_type": "code",
   "execution_count": 40,
   "id": "1ab804a7-3382-412c-bfcf-d105c7b409a1",
   "metadata": {},
   "outputs": [
    {
     "name": "stdout",
     "output_type": "stream",
     "text": [
      "[0, 1, 4, 9]\n"
     ]
    }
   ],
   "source": [
    "list_2 = [i**2 for i in range(4)]\n",
    "print(list_2)"
   ]
  },
  {
   "cell_type": "code",
   "execution_count": 44,
   "id": "fdd6b003-5a43-48f3-b972-1901b13c2803",
   "metadata": {},
   "outputs": [
    {
     "name": "stdout",
     "output_type": "stream",
     "text": [
      "{'0': 0, '1': 1, '2': 8, '3': 27, '4': 64}\n"
     ]
    }
   ],
   "source": [
    "dict_1 = {str(i): i**3 for i in range(5)}\n",
    "print(dict_1)"
   ]
  },
  {
   "cell_type": "code",
   "execution_count": 61,
   "id": "701752ba-dee4-4dc9-a726-b0e364e1033a",
   "metadata": {},
   "outputs": [
    {
     "name": "stdin",
     "output_type": "stream",
     "text": [
      "Enter a Number:  5\n"
     ]
    },
    {
     "name": "stdout",
     "output_type": "stream",
     "text": [
      "The number 5 is divisible by neither 3 nor 2\n"
     ]
    }
   ],
   "source": [
    "number = int(input('Enter a Number: '))\n",
    "if number %3 == 0:\n",
    "    print('The number {} is divisible by 3' .format(number))\n",
    "elif number %2 == 0:\n",
    "    print('The number {} is even' .format(number))\n",
    "else:\n",
    "    print('The number {} is divisible by neither 3 nor 2'.format(number))"
   ]
  },
  {
   "cell_type": "code",
   "execution_count": 63,
   "id": "97d0af37-e199-4e9f-a3a8-d0fd82a5057b",
   "metadata": {},
   "outputs": [
    {
     "name": "stdout",
     "output_type": "stream",
     "text": [
      "3.12.7 | packaged by Anaconda, Inc. | (main, Oct  4 2024, 13:17:27) [MSC v.1929 64 bit (AMD64)]\n"
     ]
    }
   ],
   "source": [
    "import sys\n",
    "print(sys.version)"
   ]
  },
  {
   "cell_type": "code",
   "execution_count": 69,
   "id": "7c9f407b-d99e-4afb-a257-90fa28f1c740",
   "metadata": {},
   "outputs": [
    {
     "name": "stdout",
     "output_type": "stream",
     "text": [
      "fatemeh\n"
     ]
    },
    {
     "data": {
      "text/plain": [
       "'hemetaf'"
      ]
     },
     "execution_count": 69,
     "metadata": {},
     "output_type": "execute_result"
    }
   ],
   "source": [
    "def word_reverse(soheil):\n",
    "    word=soheil.lower()\n",
    "    print(word)\n",
    "    return word[::-1]\n",
    "word_reverse('Fatemeh')    "
   ]
  },
  {
   "cell_type": "code",
   "execution_count": 89,
   "id": "f2f9f205-f4da-484b-b18e-b94f1337fdf4",
   "metadata": {},
   "outputs": [
    {
     "name": "stdin",
     "output_type": "stream",
     "text": [
      "New Message:  50\n"
     ]
    },
    {
     "name": "stdout",
     "output_type": "stream",
     "text": [
      "Salam Honey\n",
      "50.0\n"
     ]
    }
   ],
   "source": [
    "def get_input(msg):\n",
    "    number= float(input('New Message: '))\n",
    "    print(msg)\n",
    "    return number\n",
    "def math_fanc(x):\n",
    "    return x**2+1\n",
    "adad = get_input('Salam Honey')\n",
    "print(adad)"
   ]
  },
  {
   "cell_type": "code",
   "execution_count": 97,
   "id": "261857e8-7402-419a-bcc9-d3136322230b",
   "metadata": {},
   "outputs": [
    {
     "name": "stdout",
     "output_type": "stream",
     "text": [
      "Requirement already satisfied: numpy in c:\\users\\mahsa\\anaconda3\\lib\\site-packages (1.26.4)\n"
     ]
    }
   ],
   "source": [
    "!pip install numpy"
   ]
  },
  {
   "cell_type": "code",
   "execution_count": 115,
   "id": "de56d943-8a6c-4618-b8da-a9beb0f5210f",
   "metadata": {},
   "outputs": [
    {
     "data": {
      "text/plain": [
       "'1.26.4'"
      ]
     },
     "execution_count": 115,
     "metadata": {},
     "output_type": "execute_result"
    }
   ],
   "source": [
    "import numpy as np\n",
    "np.__version__"
   ]
  },
  {
   "cell_type": "code",
   "execution_count": 121,
   "id": "2f034b5d-e66e-4df8-a4a3-0a9b4e2abc0f",
   "metadata": {},
   "outputs": [
    {
     "name": "stdout",
     "output_type": "stream",
     "text": [
      "[[ 1  2  3]\n",
      " [ 4  5  6]\n",
      " [ 7  8  9]\n",
      " [10 11 12]]\n"
     ]
    }
   ],
   "source": [
    "a = np.array([[1,2,3],[4,5,6],[7,8,9],[10,11,12]])\n",
    "print(a)"
   ]
  },
  {
   "cell_type": "code",
   "execution_count": 127,
   "id": "afde406e-95a7-4861-8344-af58d56ddd31",
   "metadata": {},
   "outputs": [
    {
     "name": "stdout",
     "output_type": "stream",
     "text": [
      "[[ 0  0  0]\n",
      " [ 0  0  6]\n",
      " [ 7  8  9]\n",
      " [10 11 12]]\n"
     ]
    }
   ],
   "source": [
    "print(np.where (a>5,a,0))"
   ]
  },
  {
   "cell_type": "code",
   "execution_count": 129,
   "id": "eae5df1c-d115-4437-9adb-e01ee4aa1973",
   "metadata": {},
   "outputs": [
    {
     "name": "stdout",
     "output_type": "stream",
     "text": [
      "[[-1 -1 -1]\n",
      " [-1 -1 -1]\n",
      " [-1 -1 -1]\n",
      " [-1 11 12]]\n"
     ]
    }
   ],
   "source": [
    "print(np.where (a>10,a, -1))"
   ]
  },
  {
   "cell_type": "code",
   "execution_count": 140,
   "id": "a988b51c-2401-401c-beb7-7011086653a6",
   "metadata": {},
   "outputs": [
    {
     "name": "stdout",
     "output_type": "stream",
     "text": [
      "(4, 3)\n"
     ]
    }
   ],
   "source": [
    "print(a.shape)"
   ]
  },
  {
   "cell_type": "code",
   "execution_count": 144,
   "id": "e94eb59f-0671-4b3b-a88d-042c830185fa",
   "metadata": {},
   "outputs": [
    {
     "name": "stdout",
     "output_type": "stream",
     "text": [
      "[[1 2 3]\n",
      " [4 5 6]]\n"
     ]
    }
   ],
   "source": [
    "b=np.array([[1,2,3],[4,5,6]])\n",
    "print(b)"
   ]
  },
  {
   "cell_type": "code",
   "execution_count": 147,
   "id": "224bc3c3-c407-4ffa-b627-233c803bc3c3",
   "metadata": {},
   "outputs": [
    {
     "name": "stdout",
     "output_type": "stream",
     "text": [
      "10.5 , <class 'float'>\n"
     ]
    }
   ],
   "source": [
    "v = 10.5\n",
    "print(v, ',', type(v))"
   ]
  },
  {
   "cell_type": "code",
   "execution_count": 149,
   "id": "2e96bab1-ec7b-42e1-8cfd-56a72b42611b",
   "metadata": {},
   "outputs": [
    {
     "name": "stdout",
     "output_type": "stream",
     "text": [
      "7\n"
     ]
    }
   ],
   "source": [
    "v_4 = [1,2,4,7,9,33]\n",
    "print(v_4[3])"
   ]
  },
  {
   "cell_type": "code",
   "execution_count": 151,
   "id": "ed8d7e60-cc72-42d2-8c35-e334f5a62ee6",
   "metadata": {},
   "outputs": [
    {
     "name": "stdout",
     "output_type": "stream",
     "text": [
      "[4, 7]\n"
     ]
    }
   ],
   "source": [
    "print(v_4[2:4])"
   ]
  },
  {
   "cell_type": "code",
   "execution_count": 162,
   "id": "a3c8036d-9ff8-4772-9f20-28f01563f358",
   "metadata": {},
   "outputs": [
    {
     "name": "stdin",
     "output_type": "stream",
     "text": [
      "Write your name, here:  mahi\n"
     ]
    },
    {
     "name": "stdout",
     "output_type": "stream",
     "text": [
      "iham\n"
     ]
    }
   ],
   "source": [
    "x = input(\"Write your name, here: \")\n",
    "print(x[::-1])"
   ]
  },
  {
   "cell_type": "code",
   "execution_count": 184,
   "id": "602e88de-ba83-4fef-8d02-a4c53689ea9c",
   "metadata": {},
   "outputs": [],
   "source": [
    "int_1 = 4\n",
    "float_1 = 10.74\n",
    "str_1 = 'it is a string'\n",
    "list_1 = ['x',2, 'd',[1,2,('x','y')]]\n",
    "dict_1 = {'a':[1,2,3], 'b':{'x':0}}\n"
   ]
  },
  {
   "cell_type": "code",
   "execution_count": 200,
   "id": "1ca455be-44f1-4534-a9a2-4713d88875e7",
   "metadata": {},
   "outputs": [
    {
     "name": "stdout",
     "output_type": "stream",
     "text": [
      "1: 14.74\n",
      "2: it is a stringit is a stringit is a stringit is a string\n",
      "3: ['x', 2, 'd', [1, 2, ('x', 'y')], 'x', 2, 'd', [1, 2, ('x', 'y')]]\n",
      "4: ['x', 2, 'd', [1, 2, ('x', 'y')], 'x', 2, 'd', [1, 2, ('x', 'y')]]\n",
      "5: 2.0\n"
     ]
    }
   ],
   "source": [
    "print('1:', int_1 + float_1)\n",
    "print('2:', str_1*int_1)\n",
    "print('3:', list_1+list_1)\n",
    "print('4:', list_1*2)\n",
    "print('5:', int_1/2)"
   ]
  },
  {
   "cell_type": "code",
   "execution_count": 202,
   "id": "15c904e0-178b-4320-86b6-2bc01b819934",
   "metadata": {},
   "outputs": [
    {
     "name": "stdout",
     "output_type": "stream",
     "text": [
      "3: True\n"
     ]
    }
   ],
   "source": [
    "print('3:', ['x'] in ['y', 'x', ['x']])"
   ]
  },
  {
   "cell_type": "code",
   "execution_count": 206,
   "id": "ff39e08e-2228-43c6-b61f-ea1ab26c5c3b",
   "metadata": {},
   "outputs": [
    {
     "name": "stdout",
     "output_type": "stream",
     "text": [
      "i is 1\n",
      "the outcome is 48\n"
     ]
    }
   ],
   "source": [
    "i = 1\n",
    "print('i is {}'.format(i))\n",
    "j = 24*2\n",
    "print('the outcome is {}'.format(j))"
   ]
  },
  {
   "cell_type": "code",
   "execution_count": 217,
   "id": "4e0e6747-b4ce-4a8c-8778-ef7d972bb247",
   "metadata": {},
   "outputs": [
    {
     "name": "stdout",
     "output_type": "stream",
     "text": [
      "i is 0\n",
      "i is 1\n",
      "i is 2\n",
      "i is 3\n"
     ]
    }
   ],
   "source": [
    "i = 0\n",
    "while i <4:\n",
    "    print('i is {}'.format(i))\n",
    "    i+=1"
   ]
  },
  {
   "cell_type": "code",
   "execution_count": 226,
   "id": "3cad2c5a-24dd-4d59-82bb-b8be05f64a9d",
   "metadata": {},
   "outputs": [
    {
     "name": "stdout",
     "output_type": "stream",
     "text": [
      "The number is 0\n",
      "The number is 1\n",
      "The number is 2\n",
      "The number is 3\n",
      "The number is 4\n"
     ]
    }
   ],
   "source": [
    "for i in range(5):\n",
    "    print('The number is {}' .format(i))\n"
   ]
  },
  {
   "cell_type": "code",
   "execution_count": 246,
   "id": "7a40faea-aeb8-47a9-91cd-d189405a1415",
   "metadata": {},
   "outputs": [
    {
     "name": "stdout",
     "output_type": "stream",
     "text": [
      "[0]\n",
      "[0, 1]\n",
      "[0, 1, 4]\n",
      "[0, 1, 4, 9]\n"
     ]
    }
   ],
   "source": [
    "list_1 =[]\n",
    "for i in range(4):\n",
    "    list_1.append(i**2)\n",
    "    print(list_1)\n",
    "    "
   ]
  },
  {
   "cell_type": "code",
   "execution_count": 248,
   "id": "172e6313-70d6-4618-ae2b-5454aeb448c6",
   "metadata": {},
   "outputs": [
    {
     "name": "stdout",
     "output_type": "stream",
     "text": [
      "[0, 1, 4, 9, 16, 25]\n"
     ]
    }
   ],
   "source": [
    "list_2 = [i**2 for i in range(6)]\n",
    "print(list_2)"
   ]
  },
  {
   "cell_type": "code",
   "execution_count": 250,
   "id": "06699037-be88-4ae7-b959-2eca3e37bbdf",
   "metadata": {},
   "outputs": [
    {
     "data": {
      "text/plain": [
       "{'0': 0, '1': 1, '2': 8, '3': 27, '4': 64}"
      ]
     },
     "execution_count": 250,
     "metadata": {},
     "output_type": "execute_result"
    }
   ],
   "source": [
    "dic_1 = {str(i):i**3 for i in range(5)}\n",
    "dic_1"
   ]
  },
  {
   "cell_type": "code",
   "execution_count": 254,
   "id": "61a786c0-3cd7-49d1-8200-832761057af3",
   "metadata": {},
   "outputs": [
    {
     "name": "stdin",
     "output_type": "stream",
     "text": [
      "Please enter a number:  45\n"
     ]
    },
    {
     "name": "stdout",
     "output_type": "stream",
     "text": [
      "Your number 45 is divisible by 3\n"
     ]
    }
   ],
   "source": [
    "number = int(input('Please enter a number: '))\n",
    "if number %3 == 0:\n",
    "    print('Your number {} is divisible by 3' .format(number))\n",
    "elif number %2 == 0:\n",
    "    print('Your number {} is even' .format(number))\n",
    "else:\n",
    "    print('You number {} is divisble neither by 2 nor 3')"
   ]
  },
  {
   "cell_type": "code",
   "execution_count": 258,
   "id": "314351a5-a79e-4316-816d-44cb1159023b",
   "metadata": {},
   "outputs": [
    {
     "name": "stdout",
     "output_type": "stream",
     "text": [
      "sample\n"
     ]
    },
    {
     "data": {
      "text/plain": [
       "'elpmas'"
      ]
     },
     "execution_count": 258,
     "metadata": {},
     "output_type": "execute_result"
    }
   ],
   "source": [
    "def word_reverse(soheil):\n",
    "    word= soheil.lower()\n",
    "    print(word)\n",
    "    return word[::-1]\n",
    "word_reverse('sample')    "
   ]
  },
  {
   "cell_type": "code",
   "execution_count": 266,
   "id": "1e802c38-0768-46dd-96f9-da0cfb88d949",
   "metadata": {},
   "outputs": [
    {
     "name": "stdout",
     "output_type": "stream",
     "text": [
      "0\n",
      "1\n",
      "2\n",
      "3\n",
      "It is a test\n"
     ]
    },
    {
     "data": {
      "text/plain": [
       "False"
      ]
     },
     "execution_count": 266,
     "metadata": {},
     "output_type": "execute_result"
    }
   ],
   "source": [
    "def my_func():\n",
    "    for i in range(4):\n",
    "        print(i)\n",
    "    print('It is a test')\n",
    "    return i > 3\n",
    "my_func()    \n"
   ]
  },
  {
   "cell_type": "code",
   "execution_count": 301,
   "id": "f4163ca4-6cf7-44fc-9b92-a99369b3313b",
   "metadata": {},
   "outputs": [
    {
     "name": "stdin",
     "output_type": "stream",
     "text": [
      "new number:  90\n"
     ]
    },
    {
     "name": "stdout",
     "output_type": "stream",
     "text": [
      "Salam Honey\n",
      "32401.0\n"
     ]
    }
   ],
   "source": [
    "def get_input(msg):\n",
    "    number = float(input('new number: '))\n",
    "    print(msg)\n",
    "    return number*2\n",
    "def math_func(x):\n",
    "     return x**2 +1\n",
    "adad = get_input ('Salam Honey')\n",
    "print(math_func(adad))"
   ]
  },
  {
   "cell_type": "code",
   "execution_count": 305,
   "id": "e5364adf-ae93-429b-a5f0-387cf8b5a216",
   "metadata": {},
   "outputs": [
    {
     "data": {
      "text/plain": [
       "9"
      ]
     },
     "execution_count": 305,
     "metadata": {},
     "output_type": "execute_result"
    }
   ],
   "source": [
    "def sum_(x,y):\n",
    "    return x+y\n",
    "sum_(2,7)    "
   ]
  },
  {
   "cell_type": "code",
   "execution_count": 315,
   "id": "402a4177-4ad8-4f6e-9267-a07e6732af47",
   "metadata": {},
   "outputs": [],
   "source": [
    "import numpy as np"
   ]
  },
  {
   "cell_type": "code",
   "execution_count": 341,
   "id": "fb41a127-4003-4da6-9b2e-11a673739e16",
   "metadata": {},
   "outputs": [
    {
     "name": "stdout",
     "output_type": "stream",
     "text": [
      "(3, 3)\n",
      "3\n"
     ]
    }
   ],
   "source": [
    "a1 = np.array([[1,23,45],[12,13,15],[14,23,45]])\n",
    "print(a1.shape)\n",
    "print(a1.shape[0])"
   ]
  },
  {
   "cell_type": "markdown",
   "id": "5ffee2be-3f0b-4c65-b8ae-b1453cae533c",
   "metadata": {},
   "source": [
    "import numpy as no\n",
    "import pandas as pd"
   ]
  },
  {
   "cell_type": "code",
   "execution_count": null,
   "id": "1a929aa3-301e-4250-9e95-23e93485e0e7",
   "metadata": {},
   "outputs": [],
   "source": []
  },
  {
   "cell_type": "code",
   "execution_count": null,
   "id": "67bc9f27-d760-4234-9307-ca0bc10c96f2",
   "metadata": {},
   "outputs": [],
   "source": []
  },
  {
   "cell_type": "code",
   "execution_count": null,
   "id": "0644da30-f898-458f-b83f-be317e8c9b67",
   "metadata": {},
   "outputs": [],
   "source": []
  },
  {
   "cell_type": "code",
   "execution_count": null,
   "id": "7fc930cd-d3f4-4544-a3e2-e1bb8f984f17",
   "metadata": {},
   "outputs": [],
   "source": []
  },
  {
   "cell_type": "code",
   "execution_count": 9,
   "id": "8673a272-166d-4e1c-832d-bf4afd758b68",
   "metadata": {},
   "outputs": [
    {
     "ename": "SyntaxError",
     "evalue": "invalid syntax (1426211937.py, line 1)",
     "output_type": "error",
     "traceback": [
      "\u001b[1;36m  Cell \u001b[1;32mIn[9], line 1\u001b[1;36m\u001b[0m\n\u001b[1;33m    <div>\u001b[0m\n\u001b[1;37m    ^\u001b[0m\n\u001b[1;31mSyntaxError\u001b[0m\u001b[1;31m:\u001b[0m invalid syntax\n"
     ]
    }
   ],
   "source": [
    "<div>\n",
    "    <h1 align=\"center\">Machine Learning in Python</h1>\n",
    "    <h3 align=\"center\">Session 1: Introduction</h3>\n",
    "    <h4 align=\"center\"><a href=\"http://www.iran-machinelearning.ir\">Soheil Tehranipour</a></h5>\n",
    "</div>"
   ]
  },
  {
   "cell_type": "markdown",
   "id": "77b7a964-f8fa-4a87-ab55-0e33e2b21248",
   "metadata": {},
   "source": []
  },
  {
   "cell_type": "code",
   "execution_count": null,
   "id": "3c1cba7c-1a5d-4bce-8f68-3ba4822d1b8b",
   "metadata": {},
   "outputs": [],
   "source": []
  }
 ],
 "metadata": {
  "kernelspec": {
   "display_name": "Python [conda env:base] *",
   "language": "python",
   "name": "conda-base-py"
  },
  "language_info": {
   "codemirror_mode": {
    "name": "ipython",
    "version": 3
   },
   "file_extension": ".py",
   "mimetype": "text/x-python",
   "name": "python",
   "nbconvert_exporter": "python",
   "pygments_lexer": "ipython3",
   "version": "3.12.7"
  }
 },
 "nbformat": 4,
 "nbformat_minor": 5
}
