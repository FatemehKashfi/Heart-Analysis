{
 "cells": [
  {
   "cell_type": "code",
   "execution_count": 1,
   "id": "9e5fe29c-19e4-4a01-8e37-f4fa70a5661e",
   "metadata": {},
   "outputs": [],
   "source": [
    "import numpy as np"
   ]
  },
  {
   "cell_type": "code",
   "execution_count": 21,
   "id": "44fc516e-3502-4e56-b2a4-f954bfa7723b",
   "metadata": {},
   "outputs": [
    {
     "ename": "TypeError",
     "evalue": "can't multiply sequence by non-int of type 'list'",
     "output_type": "error",
     "traceback": [
      "\u001b[1;31m---------------------------------------------------------------------------\u001b[0m",
      "\u001b[1;31mTypeError\u001b[0m                                 Traceback (most recent call last)",
      "Cell \u001b[1;32mIn[21], line 3\u001b[0m\n\u001b[0;32m      1\u001b[0m H \u001b[38;5;241m=\u001b[39m [\u001b[38;5;241m1.45\u001b[39m, \u001b[38;5;241m1.56\u001b[39m, \u001b[38;5;241m1.47\u001b[39m, \u001b[38;5;241m1.53\u001b[39m, \u001b[38;5;241m1.62\u001b[39m]\n\u001b[0;32m      2\u001b[0m W \u001b[38;5;241m=\u001b[39m [\u001b[38;5;241m45\u001b[39m, \u001b[38;5;241m50\u001b[39m, \u001b[38;5;241m41\u001b[39m, \u001b[38;5;241m56\u001b[39m, \u001b[38;5;241m62\u001b[39m]\n\u001b[1;32m----> 3\u001b[0m H\u001b[38;5;241m*\u001b[39mW\n",
      "\u001b[1;31mTypeError\u001b[0m: can't multiply sequence by non-int of type 'list'"
     ]
    }
   ],
   "source": [
    "H = [1.45, 1.56, 1.47, 1.53, 1.62]\n",
    "W = [45, 50, 41, 56, 62]"
   ]
  },
  {
   "cell_type": "code",
   "execution_count": 27,
   "id": "7c3563ec-c05f-436f-9be1-12bb508e9c4c",
   "metadata": {},
   "outputs": [],
   "source": [
    "H_np = np.array(H)\n",
    "W_np = np.array(W)"
   ]
  },
  {
   "cell_type": "code",
   "execution_count": 31,
   "id": "28f76ebc-3ce3-4775-b009-7c7aca0026e9",
   "metadata": {},
   "outputs": [
    {
     "data": {
      "text/plain": [
       "array([ 65.25,  78.  ,  60.27,  85.68, 100.44])"
      ]
     },
     "execution_count": 31,
     "metadata": {},
     "output_type": "execute_result"
    }
   ],
   "source": [
    "IBM = np.array(H_np*W_np)\n",
    "IBM"
   ]
  },
  {
   "cell_type": "code",
   "execution_count": 45,
   "id": "011c63e0-99fb-4867-9f3d-522177ea96c2",
   "metadata": {},
   "outputs": [
    {
     "data": {
      "text/plain": [
       "array([[3],\n",
       "       [4]])"
      ]
     },
     "execution_count": 45,
     "metadata": {},
     "output_type": "execute_result"
    }
   ],
   "source": [
    "Numbers = np.array([[3],[4]])\n",
    "Numbers"
   ]
  },
  {
   "cell_type": "code",
   "execution_count": 47,
   "id": "354f1c12-f039-42dc-b58d-de6cb6f6bc46",
   "metadata": {},
   "outputs": [
    {
     "data": {
      "text/plain": [
       "array([3, 4])"
      ]
     },
     "execution_count": 47,
     "metadata": {},
     "output_type": "execute_result"
    }
   ],
   "source": [
    "Numbers2 = np.array([3,4])\n",
    "Numbers2"
   ]
  },
  {
   "cell_type": "code",
   "execution_count": 57,
   "id": "ec03f158-edb3-4a87-a79e-4387f3217c73",
   "metadata": {},
   "outputs": [
    {
     "data": {
      "text/plain": [
       "array([[1, 2],\n",
       "       [2, 8],\n",
       "       [7, 3]])"
      ]
     },
     "execution_count": 57,
     "metadata": {},
     "output_type": "execute_result"
    }
   ],
   "source": [
    "numbers3 = np.array([[1,2], [2,8], [7,3]])\n",
    "numbers3"
   ]
  },
  {
   "cell_type": "code",
   "execution_count": 74,
   "id": "7ab132d8-8a80-4691-9dc6-fc558a323042",
   "metadata": {},
   "outputs": [],
   "source": [
    "x = np.array([[4,5,6],\n",
    "              [7,8,2],\n",
    "              [3,7,8]])\n",
    "y = np.array([\n",
    "    [1,2,3,1],\n",
    "    [2,0,3,3],\n",
    "    [0,4,1,1]\n",
    "])\n",
    "dd = np.dot(x,y)"
   ]
  },
  {
   "cell_type": "code",
   "execution_count": 76,
   "id": "edf5e65f-d8cc-42c4-953f-140c8ec68c8c",
   "metadata": {},
   "outputs": [
    {
     "data": {
      "text/plain": [
       "array([[14, 32, 33, 25],\n",
       "       [23, 22, 47, 33],\n",
       "       [17, 38, 38, 32]])"
      ]
     },
     "execution_count": 76,
     "metadata": {},
     "output_type": "execute_result"
    }
   ],
   "source": [
    "dd"
   ]
  },
  {
   "cell_type": "code",
   "execution_count": 86,
   "id": "3d292256-27a3-428f-a4a0-6570db026eaf",
   "metadata": {},
   "outputs": [
    {
     "data": {
      "text/plain": [
       "array([[14, 23, 32, 33],\n",
       "       [17, 25, 33, 38],\n",
       "       [22, 32, 38, 47]])"
      ]
     },
     "execution_count": 86,
     "metadata": {},
     "output_type": "execute_result"
    }
   ],
   "source": [
    "dd.sort(axis =1)\n",
    "dd"
   ]
  },
  {
   "cell_type": "markdown",
   "id": "166e3e5d-afed-4891-8075-9b723fcdafaa",
   "metadata": {},
   "source": [
    "<div> \n",
    "<h1> Dictionary </h1>\n",
    "</div>"
   ]
  },
  {
   "cell_type": "code",
   "execution_count": 100,
   "id": "5468f235-3f90-4422-9686-5a46981d953f",
   "metadata": {},
   "outputs": [],
   "source": [
    "word = {\"Russia\" : 302, \"India\": 500, \"UK\": 20, \"US\":200, \"SK\": 40}"
   ]
  },
  {
   "cell_type": "code",
   "execution_count": 102,
   "id": "7bc4c9e2-2779-4bae-9361-3d763c85b6f6",
   "metadata": {},
   "outputs": [
    {
     "data": {
      "text/plain": [
       "{'Russia': 302, 'India': 500, 'UK': 20, 'US': 200, 'SK': 40}"
      ]
     },
     "execution_count": 102,
     "metadata": {},
     "output_type": "execute_result"
    }
   ],
   "source": [
    "word"
   ]
  },
  {
   "cell_type": "code",
   "execution_count": 104,
   "id": "13234f1f-a434-48ee-8520-a855cac28250",
   "metadata": {},
   "outputs": [
    {
     "data": {
      "text/plain": [
       "302"
      ]
     },
     "execution_count": 104,
     "metadata": {},
     "output_type": "execute_result"
    }
   ],
   "source": [
    "word[\"Russia\"]"
   ]
  },
  {
   "cell_type": "code",
   "execution_count": 106,
   "id": "33d5e9a8-f941-4c05-9083-dcb0a0c6694c",
   "metadata": {},
   "outputs": [],
   "source": [
    "new_country = {\"Turkey\":90}\n",
    "word.update(new_country)"
   ]
  },
  {
   "cell_type": "code",
   "execution_count": 108,
   "id": "bafdb8a7-872b-4e9b-9753-f0b7e31d9760",
   "metadata": {},
   "outputs": [
    {
     "data": {
      "text/plain": [
       "{'Russia': 302, 'India': 500, 'UK': 20, 'US': 200, 'SK': 40, 'Turkey': 90}"
      ]
     },
     "execution_count": 108,
     "metadata": {},
     "output_type": "execute_result"
    }
   ],
   "source": [
    "word"
   ]
  },
  {
   "cell_type": "markdown",
   "id": "4bd6209c-4c2c-4f46-b0b8-9c9bf6a74224",
   "metadata": {},
   "source": [
    "<div> \n",
    "<h1> DataFrame </h1>\n",
    "</div>"
   ]
  },
  {
   "cell_type": "code",
   "execution_count": 120,
   "id": "597903c5-e07a-47f5-86e2-b2aaaf831027",
   "metadata": {},
   "outputs": [],
   "source": [
    "import pandas as pd"
   ]
  },
  {
   "cell_type": "code",
   "execution_count": 124,
   "id": "9f8cad14-4f73-4391-ba0a-9d5077399ad3",
   "metadata": {},
   "outputs": [
    {
     "data": {
      "text/plain": [
       "{'country': ['iran', 'US', 'UK', 'india'],\n",
       " 'capital': ['Tehran', 'NY', 'london', 'dehly'],\n",
       " 'continent': ['asia', 'america', 'europ', 'asia'],\n",
       " 'population': [80, 300, 60, 1000]}"
      ]
     },
     "execution_count": 124,
     "metadata": {},
     "output_type": "execute_result"
    }
   ],
   "source": [
    "ooo = {\n",
    "    \"country\": [\"iran\", \"US\",\"UK\",\"india\"],\n",
    "    \"capital\":[\"Tehran\", \"NY\",\"london\", \"dehly\"],\n",
    "    \"continent\":[\"asia\",\"america\",\"europ\",\"asia\"],\n",
    "    \"population\":[80,300,60,1000]\n",
    "}\n",
    "ooo"
   ]
  },
  {
   "cell_type": "code",
   "execution_count": 126,
   "id": "b3a62776-c4df-4949-a719-b0d24900d6e0",
   "metadata": {},
   "outputs": [],
   "source": [
    "brics = pd.DataFrame(ooo)"
   ]
  },
  {
   "cell_type": "code",
   "execution_count": 128,
   "id": "78751615-bc99-421e-9430-ee8fe8f25253",
   "metadata": {},
   "outputs": [
    {
     "data": {
      "text/html": [
       "<div>\n",
       "<style scoped>\n",
       "    .dataframe tbody tr th:only-of-type {\n",
       "        vertical-align: middle;\n",
       "    }\n",
       "\n",
       "    .dataframe tbody tr th {\n",
       "        vertical-align: top;\n",
       "    }\n",
       "\n",
       "    .dataframe thead th {\n",
       "        text-align: right;\n",
       "    }\n",
       "</style>\n",
       "<table border=\"1\" class=\"dataframe\">\n",
       "  <thead>\n",
       "    <tr style=\"text-align: right;\">\n",
       "      <th></th>\n",
       "      <th>country</th>\n",
       "      <th>capital</th>\n",
       "      <th>continent</th>\n",
       "      <th>population</th>\n",
       "    </tr>\n",
       "  </thead>\n",
       "  <tbody>\n",
       "    <tr>\n",
       "      <th>0</th>\n",
       "      <td>iran</td>\n",
       "      <td>Tehran</td>\n",
       "      <td>asia</td>\n",
       "      <td>80</td>\n",
       "    </tr>\n",
       "    <tr>\n",
       "      <th>1</th>\n",
       "      <td>US</td>\n",
       "      <td>NY</td>\n",
       "      <td>america</td>\n",
       "      <td>300</td>\n",
       "    </tr>\n",
       "    <tr>\n",
       "      <th>2</th>\n",
       "      <td>UK</td>\n",
       "      <td>london</td>\n",
       "      <td>europ</td>\n",
       "      <td>60</td>\n",
       "    </tr>\n",
       "    <tr>\n",
       "      <th>3</th>\n",
       "      <td>india</td>\n",
       "      <td>dehly</td>\n",
       "      <td>asia</td>\n",
       "      <td>1000</td>\n",
       "    </tr>\n",
       "  </tbody>\n",
       "</table>\n",
       "</div>"
      ],
      "text/plain": [
       "  country capital continent  population\n",
       "0    iran  Tehran      asia          80\n",
       "1      US      NY   america         300\n",
       "2      UK  london     europ          60\n",
       "3   india   dehly      asia        1000"
      ]
     },
     "execution_count": 128,
     "metadata": {},
     "output_type": "execute_result"
    }
   ],
   "source": [
    "brics"
   ]
  },
  {
   "cell_type": "code",
   "execution_count": 141,
   "id": "ef249907-48f1-495a-b478-893b59d10436",
   "metadata": {},
   "outputs": [
    {
     "data": {
      "text/plain": [
       "4"
      ]
     },
     "execution_count": 141,
     "metadata": {},
     "output_type": "execute_result"
    }
   ],
   "source": [
    "brics.shape[0]"
   ]
  },
  {
   "cell_type": "code",
   "execution_count": 143,
   "id": "65a39d9a-7eb3-4f2a-be2d-ab68948b90b2",
   "metadata": {},
   "outputs": [],
   "source": [
    "list2 = np.array([[1,2,3,4,5],\n",
    "                 [4,5,6,7,7],\n",
    "                 [1,0,2,3,1],\n",
    "                 [4,7,8,2,1],\n",
    "                 [5,8,0,1,2,]\n",
    "                 ])"
   ]
  },
  {
   "cell_type": "code",
   "execution_count": 149,
   "id": "3e4233bd-78ab-4eca-be38-48c2259e140f",
   "metadata": {},
   "outputs": [
    {
     "data": {
      "text/html": [
       "<div>\n",
       "<style scoped>\n",
       "    .dataframe tbody tr th:only-of-type {\n",
       "        vertical-align: middle;\n",
       "    }\n",
       "\n",
       "    .dataframe tbody tr th {\n",
       "        vertical-align: top;\n",
       "    }\n",
       "\n",
       "    .dataframe thead th {\n",
       "        text-align: right;\n",
       "    }\n",
       "</style>\n",
       "<table border=\"1\" class=\"dataframe\">\n",
       "  <thead>\n",
       "    <tr style=\"text-align: right;\">\n",
       "      <th></th>\n",
       "      <th>Tehran</th>\n",
       "      <th>Shiraz</th>\n",
       "      <th>Isfahan</th>\n",
       "      <th>Yazd</th>\n",
       "      <th>Tabriz</th>\n",
       "    </tr>\n",
       "  </thead>\n",
       "  <tbody>\n",
       "    <tr>\n",
       "      <th>part1</th>\n",
       "      <td>1</td>\n",
       "      <td>2</td>\n",
       "      <td>3</td>\n",
       "      <td>4</td>\n",
       "      <td>5</td>\n",
       "    </tr>\n",
       "    <tr>\n",
       "      <th>part2</th>\n",
       "      <td>4</td>\n",
       "      <td>5</td>\n",
       "      <td>6</td>\n",
       "      <td>7</td>\n",
       "      <td>7</td>\n",
       "    </tr>\n",
       "    <tr>\n",
       "      <th>part3</th>\n",
       "      <td>1</td>\n",
       "      <td>0</td>\n",
       "      <td>2</td>\n",
       "      <td>3</td>\n",
       "      <td>1</td>\n",
       "    </tr>\n",
       "    <tr>\n",
       "      <th>part4</th>\n",
       "      <td>4</td>\n",
       "      <td>7</td>\n",
       "      <td>8</td>\n",
       "      <td>2</td>\n",
       "      <td>1</td>\n",
       "    </tr>\n",
       "    <tr>\n",
       "      <th>part5</th>\n",
       "      <td>5</td>\n",
       "      <td>8</td>\n",
       "      <td>0</td>\n",
       "      <td>1</td>\n",
       "      <td>2</td>\n",
       "    </tr>\n",
       "  </tbody>\n",
       "</table>\n",
       "</div>"
      ],
      "text/plain": [
       "       Tehran  Shiraz  Isfahan  Yazd  Tabriz\n",
       "part1       1       2        3     4       5\n",
       "part2       4       5        6     7       7\n",
       "part3       1       0        2     3       1\n",
       "part4       4       7        8     2       1\n",
       "part5       5       8        0     1       2"
      ]
     },
     "execution_count": 149,
     "metadata": {},
     "output_type": "execute_result"
    }
   ],
   "source": [
    "my_df = pd.DataFrame(list2,\n",
    "                    index = [\"part1\",\"part2\",\"part3\",\"part4\",\"part5\"],\n",
    "                    columns = [\"Tehran\", \"Shiraz\", \"Isfahan\", \"Yazd\", \"Tabriz\"])\n",
    "my_df"
   ]
  },
  {
   "cell_type": "code",
   "execution_count": 162,
   "id": "c8836bf4-b3a8-4aee-aa40-52934e883c48",
   "metadata": {},
   "outputs": [],
   "source": [
    "file2 = pd.read_csv(r\"C:\\Users\\Mahsa\\minidata.csv\")"
   ]
  },
  {
   "cell_type": "code",
   "execution_count": 166,
   "id": "6895e660-45ae-4d4e-af58-0e8945570ec3",
   "metadata": {},
   "outputs": [
    {
     "data": {
      "text/html": [
       "<div>\n",
       "<style scoped>\n",
       "    .dataframe tbody tr th:only-of-type {\n",
       "        vertical-align: middle;\n",
       "    }\n",
       "\n",
       "    .dataframe tbody tr th {\n",
       "        vertical-align: top;\n",
       "    }\n",
       "\n",
       "    .dataframe thead th {\n",
       "        text-align: right;\n",
       "    }\n",
       "</style>\n",
       "<table border=\"1\" class=\"dataframe\">\n",
       "  <thead>\n",
       "    <tr style=\"text-align: right;\">\n",
       "      <th></th>\n",
       "      <th>name</th>\n",
       "      <th>breed</th>\n",
       "      <th>color</th>\n",
       "      <th>height</th>\n",
       "      <th>weight</th>\n",
       "      <th>date of birth</th>\n",
       "    </tr>\n",
       "  </thead>\n",
       "  <tbody>\n",
       "    <tr>\n",
       "      <th>0</th>\n",
       "      <td>bella</td>\n",
       "      <td>Labrador</td>\n",
       "      <td>brown</td>\n",
       "      <td>56</td>\n",
       "      <td>24</td>\n",
       "      <td>2013-07-01</td>\n",
       "    </tr>\n",
       "    <tr>\n",
       "      <th>1</th>\n",
       "      <td>charlie</td>\n",
       "      <td>poodle</td>\n",
       "      <td>black</td>\n",
       "      <td>43</td>\n",
       "      <td>24</td>\n",
       "      <td>2016-09-16</td>\n",
       "    </tr>\n",
       "    <tr>\n",
       "      <th>2</th>\n",
       "      <td>lucy</td>\n",
       "      <td>chow chow</td>\n",
       "      <td>brown</td>\n",
       "      <td>46</td>\n",
       "      <td>24</td>\n",
       "      <td>2014-08-25</td>\n",
       "    </tr>\n",
       "    <tr>\n",
       "      <th>3</th>\n",
       "      <td>cooper</td>\n",
       "      <td>schnauzer</td>\n",
       "      <td>gray</td>\n",
       "      <td>49</td>\n",
       "      <td>17</td>\n",
       "      <td>2011-12-11</td>\n",
       "    </tr>\n",
       "    <tr>\n",
       "      <th>4</th>\n",
       "      <td>max</td>\n",
       "      <td>Labrador</td>\n",
       "      <td>black</td>\n",
       "      <td>59</td>\n",
       "      <td>29</td>\n",
       "      <td>2017-01-20</td>\n",
       "    </tr>\n",
       "  </tbody>\n",
       "</table>\n",
       "</div>"
      ],
      "text/plain": [
       "      name      breed  color  height  weight date of birth\n",
       "0    bella   Labrador  brown      56      24    2013-07-01\n",
       "1  charlie     poodle  black      43      24    2016-09-16\n",
       "2     lucy  chow chow  brown      46      24    2014-08-25\n",
       "3   cooper  schnauzer   gray      49      17    2011-12-11\n",
       "4      max   Labrador  black      59      29    2017-01-20"
      ]
     },
     "execution_count": 166,
     "metadata": {},
     "output_type": "execute_result"
    }
   ],
   "source": [
    "file2.head()"
   ]
  },
  {
   "cell_type": "code",
   "execution_count": 185,
   "id": "c442f355-4d38-461e-a1fd-919c40f92b5b",
   "metadata": {},
   "outputs": [
    {
     "data": {
      "text/html": [
       "<div>\n",
       "<style scoped>\n",
       "    .dataframe tbody tr th:only-of-type {\n",
       "        vertical-align: middle;\n",
       "    }\n",
       "\n",
       "    .dataframe tbody tr th {\n",
       "        vertical-align: top;\n",
       "    }\n",
       "\n",
       "    .dataframe thead th {\n",
       "        text-align: right;\n",
       "    }\n",
       "</style>\n",
       "<table border=\"1\" class=\"dataframe\">\n",
       "  <thead>\n",
       "    <tr style=\"text-align: right;\">\n",
       "      <th></th>\n",
       "      <th>name</th>\n",
       "    </tr>\n",
       "  </thead>\n",
       "  <tbody>\n",
       "    <tr>\n",
       "      <th>0</th>\n",
       "      <td>bella</td>\n",
       "    </tr>\n",
       "    <tr>\n",
       "      <th>1</th>\n",
       "      <td>charlie</td>\n",
       "    </tr>\n",
       "    <tr>\n",
       "      <th>2</th>\n",
       "      <td>lucy</td>\n",
       "    </tr>\n",
       "    <tr>\n",
       "      <th>3</th>\n",
       "      <td>cooper</td>\n",
       "    </tr>\n",
       "    <tr>\n",
       "      <th>4</th>\n",
       "      <td>max</td>\n",
       "    </tr>\n",
       "    <tr>\n",
       "      <th>5</th>\n",
       "      <td>stella</td>\n",
       "    </tr>\n",
       "    <tr>\n",
       "      <th>6</th>\n",
       "      <td>bernie</td>\n",
       "    </tr>\n",
       "  </tbody>\n",
       "</table>\n",
       "</div>"
      ],
      "text/plain": [
       "      name\n",
       "0    bella\n",
       "1  charlie\n",
       "2     lucy\n",
       "3   cooper\n",
       "4      max\n",
       "5   stella\n",
       "6   bernie"
      ]
     },
     "execution_count": 185,
     "metadata": {},
     "output_type": "execute_result"
    }
   ],
   "source": [
    "file2[[\"name\"]]"
   ]
  },
  {
   "cell_type": "code",
   "execution_count": 189,
   "id": "c436ddf9-a25a-443e-91d0-df30339320be",
   "metadata": {},
   "outputs": [
    {
     "data": {
      "text/html": [
       "<div>\n",
       "<style scoped>\n",
       "    .dataframe tbody tr th:only-of-type {\n",
       "        vertical-align: middle;\n",
       "    }\n",
       "\n",
       "    .dataframe tbody tr th {\n",
       "        vertical-align: top;\n",
       "    }\n",
       "\n",
       "    .dataframe thead th {\n",
       "        text-align: right;\n",
       "    }\n",
       "</style>\n",
       "<table border=\"1\" class=\"dataframe\">\n",
       "  <thead>\n",
       "    <tr style=\"text-align: right;\">\n",
       "      <th></th>\n",
       "      <th>name</th>\n",
       "      <th>color</th>\n",
       "    </tr>\n",
       "  </thead>\n",
       "  <tbody>\n",
       "    <tr>\n",
       "      <th>0</th>\n",
       "      <td>bella</td>\n",
       "      <td>brown</td>\n",
       "    </tr>\n",
       "    <tr>\n",
       "      <th>1</th>\n",
       "      <td>charlie</td>\n",
       "      <td>black</td>\n",
       "    </tr>\n",
       "    <tr>\n",
       "      <th>2</th>\n",
       "      <td>lucy</td>\n",
       "      <td>brown</td>\n",
       "    </tr>\n",
       "    <tr>\n",
       "      <th>3</th>\n",
       "      <td>cooper</td>\n",
       "      <td>gray</td>\n",
       "    </tr>\n",
       "    <tr>\n",
       "      <th>4</th>\n",
       "      <td>max</td>\n",
       "      <td>black</td>\n",
       "    </tr>\n",
       "    <tr>\n",
       "      <th>5</th>\n",
       "      <td>stella</td>\n",
       "      <td>Tan</td>\n",
       "    </tr>\n",
       "    <tr>\n",
       "      <th>6</th>\n",
       "      <td>bernie</td>\n",
       "      <td>white</td>\n",
       "    </tr>\n",
       "  </tbody>\n",
       "</table>\n",
       "</div>"
      ],
      "text/plain": [
       "      name  color\n",
       "0    bella  brown\n",
       "1  charlie  black\n",
       "2     lucy  brown\n",
       "3   cooper   gray\n",
       "4      max  black\n",
       "5   stella    Tan\n",
       "6   bernie  white"
      ]
     },
     "execution_count": 189,
     "metadata": {},
     "output_type": "execute_result"
    }
   ],
   "source": [
    "file2[[\"name\", \"color\"]]"
   ]
  },
  {
   "cell_type": "code",
   "execution_count": 193,
   "id": "ca8b3b53-2539-4cbc-8f22-059980dd87c4",
   "metadata": {},
   "outputs": [
    {
     "data": {
      "text/html": [
       "<div>\n",
       "<style scoped>\n",
       "    .dataframe tbody tr th:only-of-type {\n",
       "        vertical-align: middle;\n",
       "    }\n",
       "\n",
       "    .dataframe tbody tr th {\n",
       "        vertical-align: top;\n",
       "    }\n",
       "\n",
       "    .dataframe thead th {\n",
       "        text-align: right;\n",
       "    }\n",
       "</style>\n",
       "<table border=\"1\" class=\"dataframe\">\n",
       "  <thead>\n",
       "    <tr style=\"text-align: right;\">\n",
       "      <th></th>\n",
       "      <th>name</th>\n",
       "      <th>breed</th>\n",
       "      <th>color</th>\n",
       "      <th>height</th>\n",
       "      <th>weight</th>\n",
       "      <th>date of birth</th>\n",
       "    </tr>\n",
       "  </thead>\n",
       "  <tbody>\n",
       "    <tr>\n",
       "      <th>3</th>\n",
       "      <td>cooper</td>\n",
       "      <td>schnauzer</td>\n",
       "      <td>gray</td>\n",
       "      <td>49</td>\n",
       "      <td>17</td>\n",
       "      <td>2011-12-11</td>\n",
       "    </tr>\n",
       "  </tbody>\n",
       "</table>\n",
       "</div>"
      ],
      "text/plain": [
       "     name      breed color  height  weight date of birth\n",
       "3  cooper  schnauzer  gray      49      17    2011-12-11"
      ]
     },
     "execution_count": 193,
     "metadata": {},
     "output_type": "execute_result"
    }
   ],
   "source": [
    "file2.iloc[[3]]"
   ]
  },
  {
   "cell_type": "code",
   "execution_count": 195,
   "id": "0cbb3fa9-3235-4174-b03a-ca8f9d1a6bf8",
   "metadata": {},
   "outputs": [
    {
     "data": {
      "text/html": [
       "<div>\n",
       "<style scoped>\n",
       "    .dataframe tbody tr th:only-of-type {\n",
       "        vertical-align: middle;\n",
       "    }\n",
       "\n",
       "    .dataframe tbody tr th {\n",
       "        vertical-align: top;\n",
       "    }\n",
       "\n",
       "    .dataframe thead th {\n",
       "        text-align: right;\n",
       "    }\n",
       "</style>\n",
       "<table border=\"1\" class=\"dataframe\">\n",
       "  <thead>\n",
       "    <tr style=\"text-align: right;\">\n",
       "      <th></th>\n",
       "      <th>color</th>\n",
       "    </tr>\n",
       "  </thead>\n",
       "  <tbody>\n",
       "    <tr>\n",
       "      <th>3</th>\n",
       "      <td>gray</td>\n",
       "    </tr>\n",
       "  </tbody>\n",
       "</table>\n",
       "</div>"
      ],
      "text/plain": [
       "  color\n",
       "3  gray"
      ]
     },
     "execution_count": 195,
     "metadata": {},
     "output_type": "execute_result"
    }
   ],
   "source": [
    "file2.iloc[[3],[2]]"
   ]
  },
  {
   "cell_type": "code",
   "execution_count": 197,
   "id": "9c75c28b-c9e2-4f96-bb05-2e77b3f54f07",
   "metadata": {},
   "outputs": [
    {
     "data": {
      "text/html": [
       "<div>\n",
       "<style scoped>\n",
       "    .dataframe tbody tr th:only-of-type {\n",
       "        vertical-align: middle;\n",
       "    }\n",
       "\n",
       "    .dataframe tbody tr th {\n",
       "        vertical-align: top;\n",
       "    }\n",
       "\n",
       "    .dataframe thead th {\n",
       "        text-align: right;\n",
       "    }\n",
       "</style>\n",
       "<table border=\"1\" class=\"dataframe\">\n",
       "  <thead>\n",
       "    <tr style=\"text-align: right;\">\n",
       "      <th></th>\n",
       "      <th>height</th>\n",
       "      <th>weight</th>\n",
       "    </tr>\n",
       "  </thead>\n",
       "  <tbody>\n",
       "    <tr>\n",
       "      <th>count</th>\n",
       "      <td>7.000000</td>\n",
       "      <td>7.000000</td>\n",
       "    </tr>\n",
       "    <tr>\n",
       "      <th>mean</th>\n",
       "      <td>49.714286</td>\n",
       "      <td>27.714286</td>\n",
       "    </tr>\n",
       "    <tr>\n",
       "      <th>std</th>\n",
       "      <td>17.960274</td>\n",
       "      <td>22.216468</td>\n",
       "    </tr>\n",
       "    <tr>\n",
       "      <th>min</th>\n",
       "      <td>18.000000</td>\n",
       "      <td>2.000000</td>\n",
       "    </tr>\n",
       "    <tr>\n",
       "      <th>25%</th>\n",
       "      <td>44.500000</td>\n",
       "      <td>20.500000</td>\n",
       "    </tr>\n",
       "    <tr>\n",
       "      <th>50%</th>\n",
       "      <td>49.000000</td>\n",
       "      <td>24.000000</td>\n",
       "    </tr>\n",
       "    <tr>\n",
       "      <th>75%</th>\n",
       "      <td>57.500000</td>\n",
       "      <td>26.500000</td>\n",
       "    </tr>\n",
       "    <tr>\n",
       "      <th>max</th>\n",
       "      <td>77.000000</td>\n",
       "      <td>74.000000</td>\n",
       "    </tr>\n",
       "  </tbody>\n",
       "</table>\n",
       "</div>"
      ],
      "text/plain": [
       "          height     weight\n",
       "count   7.000000   7.000000\n",
       "mean   49.714286  27.714286\n",
       "std    17.960274  22.216468\n",
       "min    18.000000   2.000000\n",
       "25%    44.500000  20.500000\n",
       "50%    49.000000  24.000000\n",
       "75%    57.500000  26.500000\n",
       "max    77.000000  74.000000"
      ]
     },
     "execution_count": 197,
     "metadata": {},
     "output_type": "execute_result"
    }
   ],
   "source": [
    "file2.describe()"
   ]
  },
  {
   "cell_type": "code",
   "execution_count": null,
   "id": "1dba5d76-6dc1-4275-ad2a-eea1cdf62985",
   "metadata": {},
   "outputs": [],
   "source": []
  },
  {
   "cell_type": "code",
   "execution_count": null,
   "id": "4cb7af12-913a-41a2-83c4-12d037a529bc",
   "metadata": {},
   "outputs": [],
   "source": []
  },
  {
   "cell_type": "code",
   "execution_count": null,
   "id": "63f04459-81ff-465c-9eab-98f51d4402ff",
   "metadata": {},
   "outputs": [],
   "source": []
  },
  {
   "cell_type": "code",
   "execution_count": null,
   "id": "baee0dcb-9de3-45d0-a562-edbab1539ad9",
   "metadata": {},
   "outputs": [],
   "source": []
  },
  {
   "cell_type": "code",
   "execution_count": null,
   "id": "678e194d-9bc7-4586-9758-5473c37d6e32",
   "metadata": {},
   "outputs": [],
   "source": []
  }
 ],
 "metadata": {
  "kernelspec": {
   "display_name": "Python 3 (ipykernel)",
   "language": "python",
   "name": "python3"
  },
  "language_info": {
   "codemirror_mode": {
    "name": "ipython",
    "version": 3
   },
   "file_extension": ".py",
   "mimetype": "text/x-python",
   "name": "python",
   "nbconvert_exporter": "python",
   "pygments_lexer": "ipython3",
   "version": "3.12.7"
  }
 },
 "nbformat": 4,
 "nbformat_minor": 5
}
