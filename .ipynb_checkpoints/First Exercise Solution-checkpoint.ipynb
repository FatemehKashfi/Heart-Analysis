{
 "cells": [
  {
   "cell_type": "markdown",
   "metadata": {},
   "source": [
    "# Exercise in Python"
   ]
  },
  {
   "cell_type": "markdown",
   "metadata": {},
   "source": [
    "## Q1 : Write a program that finds and prints numbers divisible by 7 between 10 and 100"
   ]
  },
  {
   "cell_type": "code",
   "execution_count": 8,
   "metadata": {
    "scrolled": true
   },
   "outputs": [
    {
     "name": "stdout",
     "output_type": "stream",
     "text": [
      "14\n",
      "21\n",
      "28\n",
      "35\n",
      "42\n",
      "49\n",
      "56\n",
      "63\n",
      "70\n",
      "77\n",
      "84\n",
      "91\n",
      "98\n"
     ]
    }
   ],
   "source": [
    "for i in range(10,101):\n",
    "    if i%7==0:\n",
    "        print(i)"
   ]
  },
  {
   "cell_type": "markdown",
   "metadata": {},
   "source": [
    "### Route2)"
   ]
  },
  {
   "cell_type": "code",
   "execution_count": 10,
   "metadata": {},
   "outputs": [
    {
     "name": "stdout",
     "output_type": "stream",
     "text": [
      "14\n",
      "21\n",
      "28\n",
      "35\n",
      "42\n",
      "49\n",
      "56\n",
      "63\n",
      "70\n",
      "77\n",
      "84\n",
      "91\n",
      "98\n"
     ]
    }
   ],
   "source": [
    "import numpy as np\n",
    "for num in np.arange(10,101):\n",
    "    if num % 7 == 0 :\n",
    "        print(num)\n",
    "    else:\n",
    "        continue"
   ]
  },
  {
   "cell_type": "markdown",
   "metadata": {},
   "source": [
    "### Route 3)"
   ]
  },
  {
   "cell_type": "code",
   "execution_count": 2,
   "metadata": {},
   "outputs": [
    {
     "name": "stdout",
     "output_type": "stream",
     "text": [
      "[14, 21, 28, 35, 42, 49, 56, 63, 70, 77, 84, 91, 98]\n"
     ]
    }
   ],
   "source": [
    "b=[]\n",
    "for num in range (10,100):\n",
    "    if  num%7==0:\n",
    "        b.append(num)\n",
    "print(b)"
   ]
  },
  {
   "cell_type": "markdown",
   "metadata": {},
   "source": [
    "## Q2 : In the previous question, we imposed a limit :\n",
    "#### Write a command that, in addition to finding divisible numbers, does not display 7 numbers that are multiples of 5\n"
   ]
  },
  {
   "cell_type": "code",
   "execution_count": 9,
   "metadata": {},
   "outputs": [
    {
     "name": "stdout",
     "output_type": "stream",
     "text": [
      "14\n",
      "21\n",
      "28\n",
      "42\n",
      "49\n",
      "56\n",
      "63\n",
      "77\n",
      "84\n",
      "91\n",
      "98\n"
     ]
    }
   ],
   "source": [
    "for i in range(10,101):\n",
    "    if i%7==0 and i%5 != 0:\n",
    "        print(i)"
   ]
  },
  {
   "cell_type": "markdown",
   "metadata": {},
   "source": [
    "### Route 2)"
   ]
  },
  {
   "cell_type": "code",
   "execution_count": 11,
   "metadata": {},
   "outputs": [
    {
     "name": "stdout",
     "output_type": "stream",
     "text": [
      "14\n",
      "21\n",
      "28\n",
      "42\n",
      "49\n",
      "56\n",
      "63\n",
      "77\n",
      "84\n",
      "91\n",
      "98\n"
     ]
    }
   ],
   "source": [
    "import numpy as np\n",
    "for num in np.arange(10,101):\n",
    "    if num % 7 == 0 and num % 5 != 0:\n",
    "        print(num)\n",
    "    else:\n",
    "        continue"
   ]
  },
  {
   "cell_type": "markdown",
   "metadata": {},
   "source": [
    "### Route 3)"
   ]
  },
  {
   "cell_type": "code",
   "execution_count": 4,
   "metadata": {},
   "outputs": [
    {
     "name": "stdout",
     "output_type": "stream",
     "text": [
      "[14, 21, 28, 42, 49, 56, 63, 77, 84, 91, 98]\n"
     ]
    }
   ],
   "source": [
    "b=[]\n",
    "for num in range (10,100):\n",
    "    if  num%7==0 and num%5!=0:\n",
    "        b.append(num)\n",
    "print(b)"
   ]
  },
  {
   "cell_type": "markdown",
   "metadata": {},
   "source": [
    "### Route 4)"
   ]
  },
  {
   "cell_type": "code",
   "execution_count": 38,
   "metadata": {},
   "outputs": [
    {
     "name": "stdout",
     "output_type": "stream",
     "text": [
      "14\n",
      "21\n",
      "28\n",
      "42\n",
      "49\n",
      "56\n",
      "63\n",
      "77\n",
      "84\n",
      "91\n",
      "98\n"
     ]
    }
   ],
   "source": [
    "b = lambda x: print(x) if x%7 == 0 and x%5 != 0 else None\n",
    "for i in range(10, 101):\n",
    "    b(i)"
   ]
  },
  {
   "cell_type": "markdown",
   "metadata": {},
   "source": [
    "## Q3 : Write a program that prints squares of 1 to 20 in 5 rows and 4 columns."
   ]
  },
  {
   "cell_type": "code",
   "execution_count": 12,
   "metadata": {},
   "outputs": [
    {
     "data": {
      "text/plain": [
       "array([[  1,   4,   9,  16],\n",
       "       [ 25,  36,  49,  64],\n",
       "       [ 81, 100, 121, 144],\n",
       "       [169, 196, 225, 256],\n",
       "       [289, 324, 361, 400]], dtype=int32)"
      ]
     },
     "execution_count": 12,
     "metadata": {},
     "output_type": "execute_result"
    }
   ],
   "source": [
    "import numpy as np\n",
    "lst = np.arange(1,21).reshape(5,4)\n",
    "lst_square = lst ** 2\n",
    "lst_square"
   ]
  },
  {
   "cell_type": "markdown",
   "metadata": {},
   "source": [
    "### Route 2)"
   ]
  },
  {
   "cell_type": "code",
   "execution_count": 36,
   "metadata": {},
   "outputs": [
    {
     "data": {
      "text/plain": [
       "array([[  1,   4,   9,  16],\n",
       "       [ 25,  36,  49,  64],\n",
       "       [ 81, 100, 121, 144],\n",
       "       [169, 196, 225, 256],\n",
       "       [289, 324, 361, 400]])"
      ]
     },
     "execution_count": 36,
     "metadata": {},
     "output_type": "execute_result"
    }
   ],
   "source": [
    "import numpy as np\n",
    "xx = np.reshape(np.array(range(1,21)),(5,4))\n",
    "xx*xx"
   ]
  },
  {
   "cell_type": "markdown",
   "metadata": {},
   "source": [
    "### Route 3)"
   ]
  },
  {
   "cell_type": "code",
   "execution_count": 34,
   "metadata": {},
   "outputs": [
    {
     "data": {
      "text/plain": [
       "[[1, 4, 9, 16],\n",
       " [25, 36, 49, 64],\n",
       " [81, 100, 121, 144],\n",
       " [169, 196, 225, 256],\n",
       " [289, 324, 361, 400]]"
      ]
     },
     "execution_count": 34,
     "metadata": {},
     "output_type": "execute_result"
    }
   ],
   "source": [
    "result = []\n",
    "for i in range(0, 5):\n",
    "    result.append([])\n",
    "    for j in range(0, 4):\n",
    "        result[i].append((4*i+(j+1)) ** 2)\n",
    "result"
   ]
  },
  {
   "cell_type": "markdown",
   "metadata": {},
   "source": [
    "## Q4 : Write a program that generates 8-digit password without repeating the digits."
   ]
  },
  {
   "cell_type": "code",
   "execution_count": 10,
   "metadata": {},
   "outputs": [
    {
     "name": "stdout",
     "output_type": "stream",
     "text": [
      "65834291\n"
     ]
    }
   ],
   "source": [
    "a = np.random.choice([\"1\",\"2\",\"3\",\"4\",\"5\",\"6\",\"7\",\"8\",\"9\"], size=8, replace=False)\n",
    "#میشد از تابع رنج در بالا استفاده کرد و با حرکت زیر اون رو استرینگ کرد\n",
    "# b = []\n",
    "# for i in a:\n",
    "#     b.append(str(i))\n",
    "print (''.join(a))"
   ]
  },
  {
   "cell_type": "markdown",
   "metadata": {},
   "source": [
    "### route 2)"
   ]
  },
  {
   "cell_type": "code",
   "execution_count": 33,
   "metadata": {},
   "outputs": [
    {
     "data": {
      "text/plain": [
       "25941736"
      ]
     },
     "execution_count": 33,
     "metadata": {},
     "output_type": "execute_result"
    }
   ],
   "source": [
    "import random\n",
    "int(''.join(random.sample('123456789', 8)))"
   ]
  },
  {
   "cell_type": "markdown",
   "metadata": {},
   "source": [
    "### route 3)"
   ]
  },
  {
   "cell_type": "code",
   "execution_count": 11,
   "metadata": {},
   "outputs": [
    {
     "name": "stdout",
     "output_type": "stream",
     "text": [
      "03564791\n"
     ]
    }
   ],
   "source": [
    "import random\n",
    "\n",
    "password = \"\"\n",
    "\n",
    "for i in range(0,8):\n",
    "    digit = str(random.randint(0,9))\n",
    "    \n",
    "    while digit in password:\n",
    "        digit = str(random.randint(0,9))\n",
    "    \n",
    "    password = password + digit\n",
    "    \n",
    "print(password)"
   ]
  },
  {
   "cell_type": "markdown",
   "metadata": {},
   "source": [
    "### Q5 : Write a command that prints the Fibonacci sequence as far as the user can determine"
   ]
  },
  {
   "cell_type": "code",
   "execution_count": 12,
   "metadata": {},
   "outputs": [
    {
     "name": "stdout",
     "output_type": "stream",
     "text": [
      "تا چند بریم دنبال فیبوناتچی؟ :)))))))5\n",
      "0 , 1 , 1 , 2 , 3 , "
     ]
    }
   ],
   "source": [
    "t= int(input(\"تا چند بریم دنبال فیبوناتچی؟ :)))))))\"))\n",
    "a=0\n",
    "b=1\n",
    "for i in range(t):\n",
    "    print(a, end=\" , \")\n",
    "    c=b\n",
    "    b+=a\n",
    "    a=c"
   ]
  },
  {
   "cell_type": "markdown",
   "metadata": {},
   "source": [
    "### route 2)"
   ]
  },
  {
   "cell_type": "code",
   "execution_count": 32,
   "metadata": {},
   "outputs": [
    {
     "name": "stdout",
     "output_type": "stream",
     "text": [
      "enter a pos integer: 8\n",
      "0\n",
      "1\n",
      "1\n",
      "2\n",
      "3\n",
      "5\n",
      "8\n",
      "13\n",
      "21\n"
     ]
    }
   ],
   "source": [
    "fib = lambda x: x if x <= 1 else fib(x-1) + fib(x-2)\n",
    "f_count = int(input(\"enter a pos integer: \"))\n",
    "for i in range(f_count+1):\n",
    "    print(fib(i))"
   ]
  },
  {
   "cell_type": "markdown",
   "metadata": {},
   "source": [
    "### route 3)"
   ]
  },
  {
   "cell_type": "code",
   "execution_count": 18,
   "metadata": {},
   "outputs": [
    {
     "name": "stdout",
     "output_type": "stream",
     "text": [
      "Please Enter a Number: -1\n",
      "Not Valid Entry Number\n",
      "Please Enter a Number: 10\n",
      "0\n",
      "1\n",
      "1\n",
      "2\n",
      "3\n",
      "5\n",
      "8\n",
      "13\n",
      "21\n",
      "34\n",
      "55\n"
     ]
    }
   ],
   "source": [
    "import numpy as np\n",
    "def Fibonacci(n):\n",
    "    if n < 0:\n",
    "        print(\"Incorrect number\")\n",
    "    elif n == 0:\n",
    "        return 0\n",
    "    elif n == 1:\n",
    "        return 1\n",
    "    else:\n",
    "        return Fibonacci(n-1) + Fibonacci(n-2)\n",
    "\n",
    "\n",
    "while True:\n",
    "    try :\n",
    "        entry_number = input('Please Enter a Number: ')\n",
    "        num = int(entry_number)\n",
    "        if num >= 0:\n",
    "            break;\n",
    "        else:\n",
    "            print(\"Not Valid Entry Number\")\n",
    "            continue\n",
    "    except:\n",
    "        print(\"Invalid input\")\n",
    "        quit()\n",
    "        \n",
    "for c in range(0,num + 1):\n",
    "        print(Fibonacci(c))\n"
   ]
  },
  {
   "cell_type": "markdown",
   "metadata": {},
   "source": [
    "## Q6 : Write a program that receives the date of birth and the current date from the user and calculates the amount of hours, minutes and seconds you lived "
   ]
  },
  {
   "cell_type": "code",
   "execution_count": 30,
   "metadata": {},
   "outputs": [
    {
     "name": "stdout",
     "output_type": "stream",
     "text": [
      "سال تولدت به میلادی چی میشد؟؟؟2001-01-01\n",
      "الان چندمیم؟؟2022-01-01\n",
      "\n",
      "\n",
      "\n",
      "به ساعت:184080\n",
      "به دقیقه:4417920\n",
      "به ثانیه:662688000\n"
     ]
    }
   ],
   "source": [
    "from datetime import datetime\n",
    "\n",
    "def diffDate(DateStr2, DateStr1):\n",
    "    d2 = datetime.strptime(DateStr2, '%Y-%m-%d')\n",
    "    d1 = datetime.strptime(DateStr1, '%Y-%m-%d')\n",
    "    return (d2-d1).days\n",
    "\n",
    "k = input(\"سال تولدت به میلادی چی میشد؟؟؟\")\n",
    "j = input(\"الان چندمیم؟؟\")\n",
    "\n",
    "saat = diffDate(j, k) * 24\n",
    "\n",
    "print(\"\\n\\n\\n\" + \"به ساعت:\" + str(saat) + \"\\n\" + \"به دقیقه:\" + str(saat*24)+ \"\\n\" + \"به ثانیه:\" + str(saat*3600))"
   ]
  },
  {
   "cell_type": "markdown",
   "metadata": {},
   "source": [
    "### route 2)"
   ]
  },
  {
   "cell_type": "code",
   "execution_count": 28,
   "metadata": {},
   "outputs": [
    {
     "name": "stdout",
     "output_type": "stream",
     "text": [
      "enter your birthdate (YYYY-MM-DD): 2001-01-01\n",
      "There are 184128 hours, 11047680 minutes and 662860800 seconds from 2001-01-01 until now.\n"
     ]
    }
   ],
   "source": [
    "from datetime import datetime\n",
    "\n",
    "birthday = input(\"enter your birthdate (YYYY-MM-DD): \")\n",
    "\n",
    "try:\n",
    "    birthdate = datetime.strptime(birthday, \"%Y-%m-%d\")\n",
    "except:\n",
    "    print(\"enter a valid date.\")\n",
    "    \n",
    "diffrence = datetime.now() - birthdate\n",
    "print(\"There are {} hours, {} minutes and {} seconds from {} until now.\".format(diffrence.days*24, diffrence.days*24*60, diffrence.days*24*60*60, birthdate.strftime(\"%Y-%m-%d\")))"
   ]
  },
  {
   "cell_type": "markdown",
   "metadata": {},
   "source": [
    "### route 3)"
   ]
  },
  {
   "cell_type": "code",
   "execution_count": 21,
   "metadata": {},
   "outputs": [
    {
     "name": "stdout",
     "output_type": "stream",
     "text": [
      "Please Enter Your BirthDate in YYYY-MM-DD format(Gregorian): 1987-05-01\n",
      "Please Enter Your CurrentDate in YYYY-MM-DD format(Gregorian): 2020-09-18\n",
      "Your Life Span is : 292752 Hours *** 17565120 Mitunes *** 1053907200 Seconds\n"
     ]
    }
   ],
   "source": [
    "from datetime import datetime\n",
    "\n",
    "# validate format input dates\n",
    "def validation(input_date):\n",
    "    try:\n",
    "        datetime.strptime(input_date,\"%Y-%m-%d\")\n",
    "        return True\n",
    "    except:\n",
    "        print(\"Entered Date Format Is Incorrect\")\n",
    "        return False\n",
    "\n",
    "#calc period of life    \n",
    "def PeriodLife(birth_date,current_date ):\n",
    "      \n",
    "    current_string_date = datetime.today().strftime('%Y-%m-%d')\n",
    "    current_date = datetime.strptime(current_string_date,'%Y-%m-%d').date()\n",
    "    \n",
    "    period_days = (current_date - birth_date).days\n",
    "    period_hours = period_days * 24\n",
    "    Period_minutes = period_hours * 60\n",
    "    Period_second = Period_minutes * 60\n",
    "    \n",
    "    return period_hours , Period_minutes , Period_second\n",
    "\n",
    "# Sequence program for call other funcs\n",
    "while True:\n",
    "    b_date = input(\"Please Enter Your BirthDate in YYYY-MM-DD format(Gregorian): \")\n",
    "    if(validation(b_date)):\n",
    "        birth_date = datetime.strptime(b_date,'%Y-%m-%d').date()\n",
    "        break\n",
    "while True:\n",
    "    c_date = input(\"Please Enter Your CurrentDate in YYYY-MM-DD format(Gregorian): \")\n",
    "    if(validation(c_date)):\n",
    "        current_date = datetime.strptime(c_date,'%Y-%m-%d').date()\n",
    "        break\n",
    "\n",
    "result_hour , result_min, result_sec = PeriodLife (birth_date , current_date)\n",
    "print(f'Your Life Span is : {result_hour} Hours *** {result_min} Mitunes *** {result_sec} Seconds')\n"
   ]
  },
  {
   "cell_type": "markdown",
   "metadata": {},
   "source": [
    "## Q7 : Write a program that takes the user's year of birth and converts it into seconds"
   ]
  },
  {
   "cell_type": "code",
   "execution_count": 20,
   "metadata": {},
   "outputs": [
    {
     "name": "stdout",
     "output_type": "stream",
     "text": [
      "ٍEnter your bith year1380\n",
      "ٍEnter current year1400\n",
      "6312000000.0\n"
     ]
    }
   ],
   "source": [
    "a=int(input(\"ٍEnter your bith year\"))\n",
    "d=int(input(\"ٍEnter current year\"))\n",
    "Second= (d-a)*3.156*100000000\n",
    "print(Second)"
   ]
  },
  {
   "cell_type": "markdown",
   "metadata": {},
   "source": [
    "### route 2)"
   ]
  },
  {
   "cell_type": "code",
   "execution_count": 24,
   "metadata": {},
   "outputs": [
    {
     "name": "stdout",
     "output_type": "stream",
     "text": [
      "enter your birth year: 2001\n",
      "There are 662256000.0 seconds from 2001 until now.\n"
     ]
    }
   ],
   "source": [
    "year = int(input(\"enter your birth year: \"))\n",
    "\n",
    "print(\"There are {} seconds from {} until now.\".format((datetime.now().year - year) * (3.1536 * 10**7), year))"
   ]
  },
  {
   "cell_type": "markdown",
   "metadata": {},
   "source": [
    "### route 3)"
   ]
  },
  {
   "cell_type": "code",
   "execution_count": 21,
   "metadata": {},
   "outputs": [
    {
     "name": "stdout",
     "output_type": "stream",
     "text": [
      "Please Enter Your BirthYear in format yyyy(Gregorian): 13\n",
      "Year does not in correct format\n",
      "Please Enter Your BirthYear in format yyyy(Gregorian): 2001\n",
      "The number of seconds spent in your life is : 662760000.0 Seconds\n"
     ]
    }
   ],
   "source": [
    "from datetime import datetime\n",
    "\n",
    "def calc_Seconds_life(birth_year):\n",
    "    now = datetime.now()\n",
    "    diff_year = (now.year - birth_year)\n",
    "    Seconds_life = diff_year * (10 ** 7) * 3.156\n",
    "    return Seconds_life\n",
    "\n",
    "\n",
    "while True:\n",
    "    try:\n",
    "        year = input('Please Enter Your BirthYear in format yyyy(Gregorian): ')\n",
    "        entry_year = int(year)\n",
    "    \n",
    "        if len(str(entry_year)) == 4:\n",
    "            print(f'The number of seconds spent in your life is : {calc_Seconds_life(entry_year)} Seconds')\n",
    "            break;\n",
    "        else:\n",
    "            print('Year does not in correct format')\n",
    "            continue\n",
    "    except:\n",
    "        print('Incorrect Entry Input Year')\n",
    "        continue\n",
    "    "
   ]
  }
 ],
 "metadata": {
  "kernelspec": {
   "display_name": "Python 3",
   "language": "python",
   "name": "python3"
  },
  "language_info": {
   "codemirror_mode": {
    "name": "ipython",
    "version": 3
   },
   "file_extension": ".py",
   "mimetype": "text/x-python",
   "name": "python",
   "nbconvert_exporter": "python",
   "pygments_lexer": "ipython3",
   "version": "3.7.6"
  }
 },
 "nbformat": 4,
 "nbformat_minor": 2
}
