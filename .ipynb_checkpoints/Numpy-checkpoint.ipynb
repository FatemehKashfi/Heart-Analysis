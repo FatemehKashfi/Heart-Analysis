{
 "cells": [
  {
   "cell_type": "code",
   "execution_count": 37,
   "id": "e1dd36cc-bffd-4144-b932-01ef9c0eee66",
   "metadata": {
    "panel-layout": {
     "height": 130.5625,
     "visible": true,
     "width": 100
    }
   },
   "outputs": [
    {
     "data": {
      "text/html": [
       "\n",
       "<div>\n",
       "    <h1 style=\"text-align: center;\">Python Programming - NumPy Library</h1>\n",
       "    <h3 style=\"text-align: left;\">\n",
       "        NumPy, short for Numerical Python, is a fundamental package for numerical computing in Python. \n",
       "        It provides support for large, multi-dimensional arrays and matrices, along with a collection \n",
       "        of high-level mathematical functions to operate on these arrays.\n",
       "    </h3>\n",
       "</div>\n"
      ],
      "text/plain": [
       "<IPython.core.display.HTML object>"
      ]
     },
     "metadata": {},
     "output_type": "display_data"
    }
   ],
   "source": [
    "from IPython.display import HTML\n",
    "\n",
    "html_code = \"\"\"\n",
    "<div>\n",
    "    <h1 style=\"text-align: center;\">Python Programming - NumPy Library</h1>\n",
    "    <h3 style=\"text-align: left;\">\n",
    "        NumPy, short for Numerical Python, is a fundamental package for numerical computing in Python. \n",
    "        It provides support for large, multi-dimensional arrays and matrices, along with a collection \n",
    "        of high-level mathematical functions to operate on these arrays.\n",
    "    </h3>\n",
    "</div>\n",
    "\"\"\"\n",
    "\n",
    "display(HTML(html_code))\n"
   ]
  },
  {
   "cell_type": "code",
   "execution_count": null,
   "id": "53363c5a-db62-4675-bfc5-7c3bdcb2a7f9",
   "metadata": {},
   "outputs": [],
   "source": []
  }
 ],
 "metadata": {
  "kernelspec": {
   "display_name": "Python [conda env:base] *",
   "language": "python",
   "name": "conda-base-py"
  },
  "language_info": {
   "codemirror_mode": {
    "name": "ipython",
    "version": 3
   },
   "file_extension": ".py",
   "mimetype": "text/x-python",
   "name": "python",
   "nbconvert_exporter": "python",
   "pygments_lexer": "ipython3",
   "version": "3.12.7"
  },
  "panel-cell-order": [
   "e1dd36cc-bffd-4144-b932-01ef9c0eee66"
  ]
 },
 "nbformat": 4,
 "nbformat_minor": 5
}
