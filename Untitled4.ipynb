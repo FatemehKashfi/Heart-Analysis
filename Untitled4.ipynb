{
 "cells": [
  {
   "cell_type": "code",
   "execution_count": null,
   "id": "fd259c46-4b22-40c5-b97b-96c98ccd10e3",
   "metadata": {},
   "outputs": [],
   "source": [
    "# Introduction to Statistic"
   ]
  },
  {
   "cell_type": "code",
   "execution_count": null,
   "id": "0d2a2ca4-bab2-4771-9c60-217769e1cf53",
   "metadata": {},
   "outputs": [],
   "source": [
    "# numpy ---- Descriptive Statistics"
   ]
  },
  {
   "cell_type": "code",
   "execution_count": null,
   "id": "43a5bf87-4cf5-4b48-adfe-d85b9f1fe589",
   "metadata": {},
   "outputs": [],
   "source": [
    "# count\n",
    "# sum\n",
    "# mean\n",
    "# mad\n",
    "# median\n",
    "# min\n",
    "# max\n",
    "# mode\n",
    "# abs\n",
    "# prod\n",
    "# std\n",
    "# var\n",
    "# sem\n",
    "# skew\n",
    "# kurt\n",
    "# quantile\n",
    "# cumsum\n",
    "# comprod\n",
    "# cummax\n",
    "# cummin"
   ]
  },
  {
   "cell_type": "code",
   "execution_count": null,
   "id": "42e0246c-4ccc-49d0-80c3-447bb00ce01c",
   "metadata": {},
   "outputs": [],
   "source": [
    "import numpy as np"
   ]
  },
  {
   "cell_type": "code",
   "execution_count": null,
   "id": "e88efc66-512c-444b-ad06-4d601daa9478",
   "metadata": {},
   "outputs": [],
   "source": [
    "arr1 = np.array([[2, 4, 3],[5, 6, -2],[-1, 41, 3]])"
   ]
  },
  {
   "cell_type": "code",
   "execution_count": null,
   "id": "bbb81ef6-03a0-462c-b3e0-e49893b47f3e",
   "metadata": {},
   "outputs": [],
   "source": [
    "print(arr1)"
   ]
  },
  {
   "cell_type": "code",
   "execution_count": null,
   "id": "c270f199-e91a-47c3-973c-fd2fb23931c5",
   "metadata": {},
   "outputs": [],
   "source": [
    "print(arr1[2,1])"
   ]
  },
  {
   "cell_type": "code",
   "execution_count": null,
   "id": "12d602e3-2517-4b63-b4e3-9d4e4d40499e",
   "metadata": {},
   "outputs": [],
   "source": [
    "print(arr1[0:2])"
   ]
  },
  {
   "cell_type": "code",
   "execution_count": null,
   "id": "4c5bfeeb-9a1d-4701-a15c-73af5cea9a68",
   "metadata": {},
   "outputs": [],
   "source": [
    "print(arr1 > 3)"
   ]
  },
  {
   "cell_type": "code",
   "execution_count": null,
   "id": "2223b8c1-f8b0-475a-9fc5-440ae00b7b8d",
   "metadata": {},
   "outputs": [],
   "source": [
    "print(arr1[arr1>3])"
   ]
  },
  {
   "cell_type": "code",
   "execution_count": null,
   "id": "fa9933eb-3ac0-4ef7-8301-e21a452106fc",
   "metadata": {},
   "outputs": [],
   "source": [
    "arr1 = np.array([[2, 4, 3], [5, 6, -2]])\n",
    "arr2 = np.array([[5, 8, -4], [2, 0, 2]])"
   ]
  },
  {
   "cell_type": "code",
   "execution_count": null,
   "id": "0d9da981-b28d-4470-b287-9f5ead656ae2",
   "metadata": {},
   "outputs": [],
   "source": [
    "narr = np.concatenate((arr1, arr2), axis = 0)"
   ]
  },
  {
   "cell_type": "code",
   "execution_count": null,
   "id": "24a9b432-6936-4375-bd0d-580774d7bf18",
   "metadata": {},
   "outputs": [],
   "source": [
    "narr"
   ]
  },
  {
   "cell_type": "code",
   "execution_count": null,
   "id": "a08b9f89-3f2c-40a8-98c0-59ecb13cd2b7",
   "metadata": {},
   "outputs": [],
   "source": [
    "narr = np.concatenate((arr1, arr2), axis = 1)"
   ]
  },
  {
   "cell_type": "code",
   "execution_count": null,
   "id": "1d5f37f9-4645-48d6-b78c-b6c3f6cb286c",
   "metadata": {},
   "outputs": [],
   "source": [
    "narr"
   ]
  },
  {
   "cell_type": "code",
   "execution_count": null,
   "id": "dcecbe86-9d5b-42e8-ac6d-c900781e7b1e",
   "metadata": {},
   "outputs": [],
   "source": [
    "print(np.add(arr1, 4))"
   ]
  },
  {
   "cell_type": "code",
   "execution_count": null,
   "id": "b5dbf9ff-b618-488f-b2a1-9fe0bcbb5397",
   "metadata": {},
   "outputs": [],
   "source": [
    "np.mean(arr1, axis = 0)"
   ]
  },
  {
   "cell_type": "code",
   "execution_count": null,
   "id": "401ca1cd-75eb-48e3-905c-7802399c5432",
   "metadata": {},
   "outputs": [],
   "source": [
    "np.mean(arr1, axis = 1)"
   ]
  },
  {
   "cell_type": "code",
   "execution_count": null,
   "id": "9f6c2328-da4a-49ba-aeaf-43ad8b333461",
   "metadata": {},
   "outputs": [],
   "source": [
    "arr1.mean(axis=0)"
   ]
  },
  {
   "cell_type": "code",
   "execution_count": null,
   "id": "362eacd7-80d9-4570-86a5-675276f82c09",
   "metadata": {},
   "outputs": [],
   "source": [
    "arr1.max()"
   ]
  },
  {
   "cell_type": "code",
   "execution_count": null,
   "id": "42aac8a4-7cc6-4697-8272-2d1514e3bd25",
   "metadata": {},
   "outputs": [],
   "source": [
    "arr1.var()"
   ]
  },
  {
   "cell_type": "code",
   "execution_count": null,
   "id": "68ca17fe-f9f3-407e-8f45-785bfe0d24f9",
   "metadata": {},
   "outputs": [],
   "source": [
    "np.var(arr1)"
   ]
  },
  {
   "cell_type": "code",
   "execution_count": null,
   "id": "bbd3e0bd-15ae-4827-a04c-9c90bab374e7",
   "metadata": {},
   "outputs": [],
   "source": [
    "arr1"
   ]
  },
  {
   "cell_type": "code",
   "execution_count": null,
   "id": "fcbe205f-1e8b-4484-adc4-66fa9b4333fc",
   "metadata": {},
   "outputs": [],
   "source": [
    "np.append(arr1, [[1], [1]], axis = 1)"
   ]
  },
  {
   "cell_type": "code",
   "execution_count": null,
   "id": "f383c3ef-fded-47e4-bbd0-496e0b0f7c4e",
   "metadata": {},
   "outputs": [],
   "source": [
    "print(arr1.sort(axis = 0))"
   ]
  },
  {
   "cell_type": "code",
   "execution_count": null,
   "id": "7fe20313-a6bb-448d-9b90-2e01d0368f11",
   "metadata": {},
   "outputs": [],
   "source": [
    "arr1"
   ]
  },
  {
   "cell_type": "code",
   "execution_count": null,
   "id": "15ace21e-e14f-45e1-846e-2ad1ebec2278",
   "metadata": {},
   "outputs": [],
   "source": [
    "arr4 = np.arange(12).reshape(3,4)"
   ]
  },
  {
   "cell_type": "code",
   "execution_count": null,
   "id": "d376d26d-42d2-4dbf-8dbc-81941599c649",
   "metadata": {},
   "outputs": [],
   "source": [
    "arr4"
   ]
  },
  {
   "cell_type": "code",
   "execution_count": null,
   "id": "7b3eaf3d-df82-4496-8d1d-e13a9073b850",
   "metadata": {},
   "outputs": [],
   "source": [
    "# Pandas, DataFrame, Dictionary, List"
   ]
  },
  {
   "cell_type": "code",
   "execution_count": 10,
   "id": "03d98717-03f1-408e-a3cf-ea3143a84660",
   "metadata": {},
   "outputs": [],
   "source": [
    "import pandas as pd"
   ]
  },
  {
   "cell_type": "code",
   "execution_count": 34,
   "id": "485983e0-1b73-4c72-af9a-02cb1980f4db",
   "metadata": {},
   "outputs": [],
   "source": [
    "data1 = [{'a':2, 'b': 4}, {'a':6 , 'b':12}]\n",
    "data2 = [{'a':2, 'b': 4}, {'a':6 , 'b':12, 'c': 12}]"
   ]
  },
  {
   "cell_type": "code",
   "execution_count": 36,
   "id": "f0016d72-80e5-4946-a58d-9d36723b3e0d",
   "metadata": {},
   "outputs": [],
   "source": [
    "df = pd.DataFrame(data1)"
   ]
  },
  {
   "cell_type": "code",
   "execution_count": 38,
   "id": "139e9656-65e9-4cf0-bef8-a8f749db92c5",
   "metadata": {},
   "outputs": [
    {
     "data": {
      "text/html": [
       "<div>\n",
       "<style scoped>\n",
       "    .dataframe tbody tr th:only-of-type {\n",
       "        vertical-align: middle;\n",
       "    }\n",
       "\n",
       "    .dataframe tbody tr th {\n",
       "        vertical-align: top;\n",
       "    }\n",
       "\n",
       "    .dataframe thead th {\n",
       "        text-align: right;\n",
       "    }\n",
       "</style>\n",
       "<table border=\"1\" class=\"dataframe\">\n",
       "  <thead>\n",
       "    <tr style=\"text-align: right;\">\n",
       "      <th></th>\n",
       "      <th>a</th>\n",
       "      <th>b</th>\n",
       "    </tr>\n",
       "  </thead>\n",
       "  <tbody>\n",
       "    <tr>\n",
       "      <th>0</th>\n",
       "      <td>2</td>\n",
       "      <td>4</td>\n",
       "    </tr>\n",
       "    <tr>\n",
       "      <th>1</th>\n",
       "      <td>6</td>\n",
       "      <td>12</td>\n",
       "    </tr>\n",
       "  </tbody>\n",
       "</table>\n",
       "</div>"
      ],
      "text/plain": [
       "   a   b\n",
       "0  2   4\n",
       "1  6  12"
      ]
     },
     "execution_count": 38,
     "metadata": {},
     "output_type": "execute_result"
    }
   ],
   "source": [
    "df"
   ]
  },
  {
   "cell_type": "code",
   "execution_count": 20,
   "id": "8d0eb77f-b248-46e2-8122-691f9273e6ef",
   "metadata": {},
   "outputs": [
    {
     "data": {
      "text/plain": [
       "0     4\n",
       "1    12\n",
       "Name: b, dtype: int64"
      ]
     },
     "execution_count": 20,
     "metadata": {},
     "output_type": "execute_result"
    }
   ],
   "source": [
    "df['b']"
   ]
  },
  {
   "cell_type": "code",
   "execution_count": 52,
   "id": "49dcd7a9-6d17-4108-95e3-0128955da1f1",
   "metadata": {},
   "outputs": [],
   "source": [
    "df2 = pd.DataFrame(data1, index = ['in1', 'in2'], columns = ['a', 'b'])"
   ]
  },
  {
   "cell_type": "code",
   "execution_count": 54,
   "id": "658a1c6f-09d6-430f-b29d-76f5fbce91b4",
   "metadata": {},
   "outputs": [
    {
     "data": {
      "text/html": [
       "<div>\n",
       "<style scoped>\n",
       "    .dataframe tbody tr th:only-of-type {\n",
       "        vertical-align: middle;\n",
       "    }\n",
       "\n",
       "    .dataframe tbody tr th {\n",
       "        vertical-align: top;\n",
       "    }\n",
       "\n",
       "    .dataframe thead th {\n",
       "        text-align: right;\n",
       "    }\n",
       "</style>\n",
       "<table border=\"1\" class=\"dataframe\">\n",
       "  <thead>\n",
       "    <tr style=\"text-align: right;\">\n",
       "      <th></th>\n",
       "      <th>a</th>\n",
       "      <th>b</th>\n",
       "    </tr>\n",
       "  </thead>\n",
       "  <tbody>\n",
       "    <tr>\n",
       "      <th>in1</th>\n",
       "      <td>2</td>\n",
       "      <td>4</td>\n",
       "    </tr>\n",
       "    <tr>\n",
       "      <th>in2</th>\n",
       "      <td>6</td>\n",
       "      <td>12</td>\n",
       "    </tr>\n",
       "  </tbody>\n",
       "</table>\n",
       "</div>"
      ],
      "text/plain": [
       "     a   b\n",
       "in1  2   4\n",
       "in2  6  12"
      ]
     },
     "execution_count": 54,
     "metadata": {},
     "output_type": "execute_result"
    }
   ],
   "source": [
    "df2"
   ]
  },
  {
   "cell_type": "code",
   "execution_count": 66,
   "id": "e9f92550-7e8e-481c-97fa-43c2c666e3e9",
   "metadata": {},
   "outputs": [],
   "source": [
    "data1 = [{'a':2, 'b': 4}, {'a':6, 'b': 12}]"
   ]
  },
  {
   "cell_type": "code",
   "execution_count": 68,
   "id": "32644ff6-7bea-40f2-bf40-854f64c85f33",
   "metadata": {},
   "outputs": [],
   "source": [
    "df = pd.DataFrame(data1)"
   ]
  },
  {
   "cell_type": "code",
   "execution_count": 72,
   "id": "c4e1bc5e-d93d-4bd5-ae0d-5b8813f13fd8",
   "metadata": {},
   "outputs": [
    {
     "data": {
      "text/plain": [
       "0     8\n",
       "1    72\n",
       "dtype: int64"
      ]
     },
     "execution_count": 72,
     "metadata": {},
     "output_type": "execute_result"
    }
   ],
   "source": [
    "df['a']*df['b']"
   ]
  },
  {
   "cell_type": "code",
   "execution_count": 76,
   "id": "5aed170b-99b6-499e-82fe-285641d4a497",
   "metadata": {},
   "outputs": [],
   "source": [
    "del df['a']"
   ]
  },
  {
   "cell_type": "code",
   "execution_count": 78,
   "id": "e460a217-66a3-495d-be5c-819f3879e0d2",
   "metadata": {},
   "outputs": [
    {
     "data": {
      "text/html": [
       "<div>\n",
       "<style scoped>\n",
       "    .dataframe tbody tr th:only-of-type {\n",
       "        vertical-align: middle;\n",
       "    }\n",
       "\n",
       "    .dataframe tbody tr th {\n",
       "        vertical-align: top;\n",
       "    }\n",
       "\n",
       "    .dataframe thead th {\n",
       "        text-align: right;\n",
       "    }\n",
       "</style>\n",
       "<table border=\"1\" class=\"dataframe\">\n",
       "  <thead>\n",
       "    <tr style=\"text-align: right;\">\n",
       "      <th></th>\n",
       "      <th>b</th>\n",
       "    </tr>\n",
       "  </thead>\n",
       "  <tbody>\n",
       "    <tr>\n",
       "      <th>0</th>\n",
       "      <td>4</td>\n",
       "    </tr>\n",
       "    <tr>\n",
       "      <th>1</th>\n",
       "      <td>12</td>\n",
       "    </tr>\n",
       "  </tbody>\n",
       "</table>\n",
       "</div>"
      ],
      "text/plain": [
       "    b\n",
       "0   4\n",
       "1  12"
      ]
     },
     "execution_count": 78,
     "metadata": {},
     "output_type": "execute_result"
    }
   ],
   "source": [
    "df"
   ]
  },
  {
   "cell_type": "code",
   "execution_count": 88,
   "id": "e1dbe7d9-04dc-4692-ace9-05b98fa66c03",
   "metadata": {},
   "outputs": [],
   "source": [
    "df = pd.DataFrame({'A': [1, 2, 3, np.NaN, 5, np.NaN],\n",
    "                   'B': ['a', 'e', 'i', 'o', np.NaN, 'u']\n",
    "                  })"
   ]
  },
  {
   "cell_type": "code",
   "execution_count": 86,
   "id": "93e55736-c4db-4289-8271-2fcfc6faa04f",
   "metadata": {},
   "outputs": [],
   "source": [
    "import numpy as np"
   ]
  },
  {
   "cell_type": "code",
   "execution_count": 98,
   "id": "7b93fee6-03bb-49c3-9c09-6c7b2bd56aca",
   "metadata": {},
   "outputs": [],
   "source": [
    "r1 = df[df['A'].isna()]"
   ]
  },
  {
   "cell_type": "code",
   "execution_count": 94,
   "id": "5d191db6-7258-48b2-b7a2-07514b617aaa",
   "metadata": {},
   "outputs": [],
   "source": [
    "r2 = df[df['B'].notna()]"
   ]
  },
  {
   "cell_type": "code",
   "execution_count": 96,
   "id": "7f5e981c-66a0-437c-b584-325831c9a683",
   "metadata": {},
   "outputs": [
    {
     "data": {
      "text/html": [
       "<div>\n",
       "<style scoped>\n",
       "    .dataframe tbody tr th:only-of-type {\n",
       "        vertical-align: middle;\n",
       "    }\n",
       "\n",
       "    .dataframe tbody tr th {\n",
       "        vertical-align: top;\n",
       "    }\n",
       "\n",
       "    .dataframe thead th {\n",
       "        text-align: right;\n",
       "    }\n",
       "</style>\n",
       "<table border=\"1\" class=\"dataframe\">\n",
       "  <thead>\n",
       "    <tr style=\"text-align: right;\">\n",
       "      <th></th>\n",
       "      <th>A</th>\n",
       "      <th>B</th>\n",
       "    </tr>\n",
       "  </thead>\n",
       "  <tbody>\n",
       "    <tr>\n",
       "      <th>0</th>\n",
       "      <td>1.0</td>\n",
       "      <td>a</td>\n",
       "    </tr>\n",
       "    <tr>\n",
       "      <th>1</th>\n",
       "      <td>2.0</td>\n",
       "      <td>e</td>\n",
       "    </tr>\n",
       "    <tr>\n",
       "      <th>2</th>\n",
       "      <td>3.0</td>\n",
       "      <td>i</td>\n",
       "    </tr>\n",
       "    <tr>\n",
       "      <th>3</th>\n",
       "      <td>NaN</td>\n",
       "      <td>o</td>\n",
       "    </tr>\n",
       "    <tr>\n",
       "      <th>5</th>\n",
       "      <td>NaN</td>\n",
       "      <td>u</td>\n",
       "    </tr>\n",
       "  </tbody>\n",
       "</table>\n",
       "</div>"
      ],
      "text/plain": [
       "     A  B\n",
       "0  1.0  a\n",
       "1  2.0  e\n",
       "2  3.0  i\n",
       "3  NaN  o\n",
       "5  NaN  u"
      ]
     },
     "execution_count": 96,
     "metadata": {},
     "output_type": "execute_result"
    }
   ],
   "source": [
    "r2"
   ]
  },
  {
   "cell_type": "code",
   "execution_count": 102,
   "id": "4ab49feb-0cef-4e71-ae21-0ae1403945fb",
   "metadata": {},
   "outputs": [
    {
     "data": {
      "text/html": [
       "<div>\n",
       "<style scoped>\n",
       "    .dataframe tbody tr th:only-of-type {\n",
       "        vertical-align: middle;\n",
       "    }\n",
       "\n",
       "    .dataframe tbody tr th {\n",
       "        vertical-align: top;\n",
       "    }\n",
       "\n",
       "    .dataframe thead th {\n",
       "        text-align: right;\n",
       "    }\n",
       "</style>\n",
       "<table border=\"1\" class=\"dataframe\">\n",
       "  <thead>\n",
       "    <tr style=\"text-align: right;\">\n",
       "      <th></th>\n",
       "      <th>A</th>\n",
       "      <th>B</th>\n",
       "    </tr>\n",
       "  </thead>\n",
       "  <tbody>\n",
       "    <tr>\n",
       "      <th>0</th>\n",
       "      <td>1.0</td>\n",
       "      <td>a</td>\n",
       "    </tr>\n",
       "    <tr>\n",
       "      <th>1</th>\n",
       "      <td>2.0</td>\n",
       "      <td>e</td>\n",
       "    </tr>\n",
       "    <tr>\n",
       "      <th>2</th>\n",
       "      <td>3.0</td>\n",
       "      <td>i</td>\n",
       "    </tr>\n",
       "    <tr>\n",
       "      <th>3</th>\n",
       "      <td>NaN</td>\n",
       "      <td>o</td>\n",
       "    </tr>\n",
       "    <tr>\n",
       "      <th>4</th>\n",
       "      <td>5.0</td>\n",
       "      <td>NaN</td>\n",
       "    </tr>\n",
       "    <tr>\n",
       "      <th>5</th>\n",
       "      <td>NaN</td>\n",
       "      <td>u</td>\n",
       "    </tr>\n",
       "  </tbody>\n",
       "</table>\n",
       "</div>"
      ],
      "text/plain": [
       "     A    B\n",
       "0  1.0    a\n",
       "1  2.0    e\n",
       "2  3.0    i\n",
       "3  NaN    o\n",
       "4  5.0  NaN\n",
       "5  NaN    u"
      ]
     },
     "execution_count": 102,
     "metadata": {},
     "output_type": "execute_result"
    }
   ],
   "source": [
    "df"
   ]
  },
  {
   "cell_type": "code",
   "execution_count": 108,
   "id": "20a39d29-19b5-45bb-b31a-6fb388d96bc4",
   "metadata": {},
   "outputs": [
    {
     "data": {
      "text/html": [
       "<div>\n",
       "<style scoped>\n",
       "    .dataframe tbody tr th:only-of-type {\n",
       "        vertical-align: middle;\n",
       "    }\n",
       "\n",
       "    .dataframe tbody tr th {\n",
       "        vertical-align: top;\n",
       "    }\n",
       "\n",
       "    .dataframe thead th {\n",
       "        text-align: right;\n",
       "    }\n",
       "</style>\n",
       "<table border=\"1\" class=\"dataframe\">\n",
       "  <thead>\n",
       "    <tr style=\"text-align: right;\">\n",
       "      <th></th>\n",
       "      <th>A</th>\n",
       "      <th>B</th>\n",
       "    </tr>\n",
       "  </thead>\n",
       "  <tbody>\n",
       "    <tr>\n",
       "      <th>0</th>\n",
       "      <td>1.0</td>\n",
       "      <td>a</td>\n",
       "    </tr>\n",
       "    <tr>\n",
       "      <th>1</th>\n",
       "      <td>2.0</td>\n",
       "      <td>e</td>\n",
       "    </tr>\n",
       "    <tr>\n",
       "      <th>2</th>\n",
       "      <td>3.0</td>\n",
       "      <td>i</td>\n",
       "    </tr>\n",
       "    <tr>\n",
       "      <th>4</th>\n",
       "      <td>5.0</td>\n",
       "      <td>NaN</td>\n",
       "    </tr>\n",
       "  </tbody>\n",
       "</table>\n",
       "</div>"
      ],
      "text/plain": [
       "     A    B\n",
       "0  1.0    a\n",
       "1  2.0    e\n",
       "2  3.0    i\n",
       "4  5.0  NaN"
      ]
     },
     "execution_count": 108,
     "metadata": {},
     "output_type": "execute_result"
    }
   ],
   "source": [
    "df[df['A'].notna()]"
   ]
  },
  {
   "cell_type": "code",
   "execution_count": 131,
   "id": "86b7c6e5-03bc-47d7-a5fb-9094e67ec168",
   "metadata": {},
   "outputs": [],
   "source": [
    "s = pd.Series(np.random.rand(100))"
   ]
  },
  {
   "cell_type": "code",
   "execution_count": 133,
   "id": "d782b3e3-d32f-4460-9048-e114292ff358",
   "metadata": {},
   "outputs": [
    {
     "data": {
      "text/plain": [
       "0     0.677234\n",
       "1     0.025404\n",
       "2     0.107661\n",
       "3     0.341250\n",
       "4     0.888594\n",
       "        ...   \n",
       "95    0.011681\n",
       "96    0.485877\n",
       "97    0.821090\n",
       "98    0.727442\n",
       "99    0.402260\n",
       "Length: 100, dtype: float64"
      ]
     },
     "execution_count": 133,
     "metadata": {},
     "output_type": "execute_result"
    }
   ],
   "source": [
    "s"
   ]
  },
  {
   "cell_type": "code",
   "execution_count": 129,
   "id": "a249e969-9079-42e6-8fd2-4a90f1e8bc18",
   "metadata": {},
   "outputs": [
    {
     "data": {
      "text/plain": [
       "array([0.0863711 , 0.48301169, 0.17115175, 0.53086701, 0.10671003,\n",
       "       0.68748129, 0.25764735, 0.71313665, 0.90440147, 0.03367065,\n",
       "       0.44146562, 0.62061449, 0.37927632, 0.28657659, 0.18043439,\n",
       "       0.46710727, 0.85971812, 0.34602021, 0.70673957, 0.41448219,\n",
       "       0.24029253, 0.64115453, 0.9152475 , 0.74193982, 0.9705018 ,\n",
       "       0.39830824, 0.62883751, 0.01583626, 0.18466708, 0.37149761,\n",
       "       0.51896863, 0.66341223, 0.75415665, 0.59971187, 0.58177279,\n",
       "       0.74571712, 0.54332503, 0.30601467, 0.64759351, 0.87315062,\n",
       "       0.29061334, 0.95968549, 0.37566619, 0.4070912 , 0.97575501,\n",
       "       0.80902815, 0.54481231, 0.59314812, 0.40253726, 0.83345882,\n",
       "       0.06732104, 0.12953945, 0.79878704, 0.66830992, 0.79917972,\n",
       "       0.92601635, 0.64477272, 0.49948119, 0.48154123, 0.07762815,\n",
       "       0.21044261, 0.44571448, 0.15139079, 0.3819581 , 0.91271296,\n",
       "       0.43812736, 0.85879035, 0.22803143, 0.90689513, 0.91047415,\n",
       "       0.96617948, 0.57021871, 0.2373493 , 0.93531028, 0.30446605,\n",
       "       0.84575814, 0.32225101, 0.1324856 , 0.95073462, 0.18961566,\n",
       "       0.48741969, 0.86768663, 0.94356699, 0.91188203, 0.06561225,\n",
       "       0.25851046, 0.75451097, 0.23059416, 0.86730877, 0.77604459,\n",
       "       0.28639602, 0.13439619, 0.75218757, 0.83130745, 0.42929282,\n",
       "       0.80035395, 0.06000414, 0.44667963, 0.06278507, 0.53585893])"
      ]
     },
     "execution_count": 129,
     "metadata": {},
     "output_type": "execute_result"
    }
   ],
   "source": [
    "np.random.rand(100)"
   ]
  },
  {
   "cell_type": "code",
   "execution_count": 141,
   "id": "06cb381b-a119-497d-a747-2bf92e61e2d7",
   "metadata": {},
   "outputs": [],
   "source": [
    "oo = pd.DataFrame(np.random.rand(100, 4), columns = list('ABCD'))"
   ]
  },
  {
   "cell_type": "code",
   "execution_count": 147,
   "id": "dd16ac43-89f8-47df-9911-df2813f6fa50",
   "metadata": {},
   "outputs": [
    {
     "data": {
      "text/plain": [
       "A    0.516074\n",
       "B    0.463273\n",
       "C    0.492362\n",
       "D    0.533820\n",
       "Name: 0.5, dtype: float64"
      ]
     },
     "execution_count": 147,
     "metadata": {},
     "output_type": "execute_result"
    }
   ],
   "source": [
    "oo.quantile()"
   ]
  },
  {
   "cell_type": "code",
   "execution_count": 178,
   "id": "9cc1842a-c997-420d-b89a-d1d34c13a2da",
   "metadata": {},
   "outputs": [],
   "source": [
    "import numpy as np\n",
    "import pandas as pd"
   ]
  },
  {
   "cell_type": "code",
   "execution_count": 183,
   "id": "5c4fdbf0-2b75-4a27-a4dc-80451a0edcf6",
   "metadata": {},
   "outputs": [],
   "source": [
    "heart = pd.read_csv(\"/Users/mahsa/Downloads/ipynbs/Heart data.csv\")"
   ]
  },
  {
   "cell_type": "code",
   "execution_count": 185,
   "id": "c72b7af7-7f9e-4f47-966e-a05fe14c118a",
   "metadata": {},
   "outputs": [
    {
     "data": {
      "text/html": [
       "<div>\n",
       "<style scoped>\n",
       "    .dataframe tbody tr th:only-of-type {\n",
       "        vertical-align: middle;\n",
       "    }\n",
       "\n",
       "    .dataframe tbody tr th {\n",
       "        vertical-align: top;\n",
       "    }\n",
       "\n",
       "    .dataframe thead th {\n",
       "        text-align: right;\n",
       "    }\n",
       "</style>\n",
       "<table border=\"1\" class=\"dataframe\">\n",
       "  <thead>\n",
       "    <tr style=\"text-align: right;\">\n",
       "      <th></th>\n",
       "      <th>Age (age in year)</th>\n",
       "      <th>sex</th>\n",
       "      <th>chest pain</th>\n",
       "      <th>blood pressure</th>\n",
       "      <th>cholestoral</th>\n",
       "      <th>blood sugar</th>\n",
       "      <th>electrocardiographic</th>\n",
       "      <th>heart rate</th>\n",
       "      <th>exercise induced</th>\n",
       "      <th>depression</th>\n",
       "      <th>slope</th>\n",
       "      <th>ca</th>\n",
       "      <th>thal</th>\n",
       "      <th>c</th>\n",
       "    </tr>\n",
       "  </thead>\n",
       "  <tbody>\n",
       "    <tr>\n",
       "      <th>0</th>\n",
       "      <td>63</td>\n",
       "      <td>1</td>\n",
       "      <td>1</td>\n",
       "      <td>145.0</td>\n",
       "      <td>233.0</td>\n",
       "      <td>1.0</td>\n",
       "      <td>2.0</td>\n",
       "      <td>150.0</td>\n",
       "      <td>0.0</td>\n",
       "      <td>2.3</td>\n",
       "      <td>3.0</td>\n",
       "      <td>0.0</td>\n",
       "      <td>6.0</td>\n",
       "      <td>0</td>\n",
       "    </tr>\n",
       "    <tr>\n",
       "      <th>1</th>\n",
       "      <td>37</td>\n",
       "      <td>1</td>\n",
       "      <td>3</td>\n",
       "      <td>130.0</td>\n",
       "      <td>250.0</td>\n",
       "      <td>0.0</td>\n",
       "      <td>0.0</td>\n",
       "      <td>187.0</td>\n",
       "      <td>0.0</td>\n",
       "      <td>3.5</td>\n",
       "      <td>3.0</td>\n",
       "      <td>0.0</td>\n",
       "      <td>3.0</td>\n",
       "      <td>0</td>\n",
       "    </tr>\n",
       "    <tr>\n",
       "      <th>2</th>\n",
       "      <td>41</td>\n",
       "      <td>0</td>\n",
       "      <td>2</td>\n",
       "      <td>130.0</td>\n",
       "      <td>204.0</td>\n",
       "      <td>0.0</td>\n",
       "      <td>2.0</td>\n",
       "      <td>172.0</td>\n",
       "      <td>0.0</td>\n",
       "      <td>1.4</td>\n",
       "      <td>1.0</td>\n",
       "      <td>0.0</td>\n",
       "      <td>3.0</td>\n",
       "      <td>0</td>\n",
       "    </tr>\n",
       "    <tr>\n",
       "      <th>3</th>\n",
       "      <td>56</td>\n",
       "      <td>1</td>\n",
       "      <td>2</td>\n",
       "      <td>120.0</td>\n",
       "      <td>236.0</td>\n",
       "      <td>0.0</td>\n",
       "      <td>0.0</td>\n",
       "      <td>178.0</td>\n",
       "      <td>0.0</td>\n",
       "      <td>0.8</td>\n",
       "      <td>1.0</td>\n",
       "      <td>0.0</td>\n",
       "      <td>3.0</td>\n",
       "      <td>0</td>\n",
       "    </tr>\n",
       "    <tr>\n",
       "      <th>4</th>\n",
       "      <td>57</td>\n",
       "      <td>0</td>\n",
       "      <td>4</td>\n",
       "      <td>120.0</td>\n",
       "      <td>354.0</td>\n",
       "      <td>0.0</td>\n",
       "      <td>0.0</td>\n",
       "      <td>163.0</td>\n",
       "      <td>1.0</td>\n",
       "      <td>0.6</td>\n",
       "      <td>1.0</td>\n",
       "      <td>0.0</td>\n",
       "      <td>3.0</td>\n",
       "      <td>0</td>\n",
       "    </tr>\n",
       "  </tbody>\n",
       "</table>\n",
       "</div>"
      ],
      "text/plain": [
       "   Age (age in year)  sex  chest pain  blood pressure  cholestoral   \\\n",
       "0                 63    1           1           145.0         233.0   \n",
       "1                 37    1           3           130.0         250.0   \n",
       "2                 41    0           2           130.0         204.0   \n",
       "3                 56    1           2           120.0         236.0   \n",
       "4                 57    0           4           120.0         354.0   \n",
       "\n",
       "   blood sugar  electrocardiographic   heart rate  exercise induced  \\\n",
       "0          1.0                    2.0       150.0               0.0   \n",
       "1          0.0                    0.0       187.0               0.0   \n",
       "2          0.0                    2.0       172.0               0.0   \n",
       "3          0.0                    0.0       178.0               0.0   \n",
       "4          0.0                    0.0       163.0               1.0   \n",
       "\n",
       "   depression   slope   ca  thal  c  \n",
       "0          2.3    3.0  0.0   6.0  0  \n",
       "1          3.5    3.0  0.0   3.0  0  \n",
       "2          1.4    1.0  0.0   3.0  0  \n",
       "3          0.8    1.0  0.0   3.0  0  \n",
       "4          0.6    1.0  0.0   3.0  0  "
      ]
     },
     "execution_count": 185,
     "metadata": {},
     "output_type": "execute_result"
    }
   ],
   "source": [
    "heart.head()"
   ]
  },
  {
   "cell_type": "code",
   "execution_count": 205,
   "id": "8615691e-9d77-4b0b-bb3a-75e0ee1c9dfc",
   "metadata": {},
   "outputs": [
    {
     "data": {
      "text/plain": [
       "sex  \n",
       "True     419\n",
       "False    178\n",
       "Name: count, dtype: int64"
      ]
     },
     "execution_count": 205,
     "metadata": {},
     "output_type": "execute_result"
    }
   ],
   "source": [
    "(heart[['sex']]== 1).value_counts()"
   ]
  },
  {
   "cell_type": "code",
   "execution_count": 215,
   "id": "39577cee-d2df-4e16-b898-932e74f2a235",
   "metadata": {},
   "outputs": [
    {
     "data": {
      "text/html": [
       "<div>\n",
       "<style scoped>\n",
       "    .dataframe tbody tr th:only-of-type {\n",
       "        vertical-align: middle;\n",
       "    }\n",
       "\n",
       "    .dataframe tbody tr th {\n",
       "        vertical-align: top;\n",
       "    }\n",
       "\n",
       "    .dataframe thead th {\n",
       "        text-align: right;\n",
       "    }\n",
       "</style>\n",
       "<table border=\"1\" class=\"dataframe\">\n",
       "  <thead>\n",
       "    <tr style=\"text-align: right;\">\n",
       "      <th></th>\n",
       "      <th>Age (age in year)</th>\n",
       "      <th>sex</th>\n",
       "      <th>chest pain</th>\n",
       "      <th>blood pressure</th>\n",
       "      <th>cholestoral</th>\n",
       "      <th>blood sugar</th>\n",
       "      <th>electrocardiographic</th>\n",
       "      <th>heart rate</th>\n",
       "      <th>exercise induced</th>\n",
       "      <th>depression</th>\n",
       "      <th>slope</th>\n",
       "      <th>ca</th>\n",
       "      <th>thal</th>\n",
       "      <th>c</th>\n",
       "    </tr>\n",
       "  </thead>\n",
       "  <tbody>\n",
       "    <tr>\n",
       "      <th>1</th>\n",
       "      <td>37</td>\n",
       "      <td>1</td>\n",
       "      <td>3</td>\n",
       "      <td>130.0</td>\n",
       "      <td>250.0</td>\n",
       "      <td>0.0</td>\n",
       "      <td>0.0</td>\n",
       "      <td>187.0</td>\n",
       "      <td>0.0</td>\n",
       "      <td>3.5</td>\n",
       "      <td>3.0</td>\n",
       "      <td>0.0</td>\n",
       "      <td>3.0</td>\n",
       "      <td>0</td>\n",
       "    </tr>\n",
       "    <tr>\n",
       "      <th>5</th>\n",
       "      <td>57</td>\n",
       "      <td>1</td>\n",
       "      <td>4</td>\n",
       "      <td>140.0</td>\n",
       "      <td>192.0</td>\n",
       "      <td>0.0</td>\n",
       "      <td>0.0</td>\n",
       "      <td>148.0</td>\n",
       "      <td>0.0</td>\n",
       "      <td>0.4</td>\n",
       "      <td>2.0</td>\n",
       "      <td>0.0</td>\n",
       "      <td>6.0</td>\n",
       "      <td>0</td>\n",
       "    </tr>\n",
       "    <tr>\n",
       "      <th>8</th>\n",
       "      <td>52</td>\n",
       "      <td>1</td>\n",
       "      <td>3</td>\n",
       "      <td>172.0</td>\n",
       "      <td>199.0</td>\n",
       "      <td>1.0</td>\n",
       "      <td>0.0</td>\n",
       "      <td>162.0</td>\n",
       "      <td>0.0</td>\n",
       "      <td>0.5</td>\n",
       "      <td>1.0</td>\n",
       "      <td>0.0</td>\n",
       "      <td>7.0</td>\n",
       "      <td>0</td>\n",
       "    </tr>\n",
       "    <tr>\n",
       "      <th>9</th>\n",
       "      <td>57</td>\n",
       "      <td>1</td>\n",
       "      <td>3</td>\n",
       "      <td>150.0</td>\n",
       "      <td>168.0</td>\n",
       "      <td>0.0</td>\n",
       "      <td>0.0</td>\n",
       "      <td>174.0</td>\n",
       "      <td>0.0</td>\n",
       "      <td>1.6</td>\n",
       "      <td>1.0</td>\n",
       "      <td>0.0</td>\n",
       "      <td>3.0</td>\n",
       "      <td>0</td>\n",
       "    </tr>\n",
       "    <tr>\n",
       "      <th>10</th>\n",
       "      <td>54</td>\n",
       "      <td>1</td>\n",
       "      <td>4</td>\n",
       "      <td>140.0</td>\n",
       "      <td>239.0</td>\n",
       "      <td>0.0</td>\n",
       "      <td>0.0</td>\n",
       "      <td>160.0</td>\n",
       "      <td>0.0</td>\n",
       "      <td>1.2</td>\n",
       "      <td>1.0</td>\n",
       "      <td>0.0</td>\n",
       "      <td>3.0</td>\n",
       "      <td>0</td>\n",
       "    </tr>\n",
       "    <tr>\n",
       "      <th>...</th>\n",
       "      <td>...</td>\n",
       "      <td>...</td>\n",
       "      <td>...</td>\n",
       "      <td>...</td>\n",
       "      <td>...</td>\n",
       "      <td>...</td>\n",
       "      <td>...</td>\n",
       "      <td>...</td>\n",
       "      <td>...</td>\n",
       "      <td>...</td>\n",
       "      <td>...</td>\n",
       "      <td>...</td>\n",
       "      <td>...</td>\n",
       "      <td>...</td>\n",
       "    </tr>\n",
       "    <tr>\n",
       "      <th>592</th>\n",
       "      <td>52</td>\n",
       "      <td>1</td>\n",
       "      <td>4</td>\n",
       "      <td>140.0</td>\n",
       "      <td>266.0</td>\n",
       "      <td>0.0</td>\n",
       "      <td>0.0</td>\n",
       "      <td>134.0</td>\n",
       "      <td>1.0</td>\n",
       "      <td>2.0</td>\n",
       "      <td>2.0</td>\n",
       "      <td>NaN</td>\n",
       "      <td>NaN</td>\n",
       "      <td>1</td>\n",
       "    </tr>\n",
       "    <tr>\n",
       "      <th>593</th>\n",
       "      <td>43</td>\n",
       "      <td>1</td>\n",
       "      <td>4</td>\n",
       "      <td>140.0</td>\n",
       "      <td>288.0</td>\n",
       "      <td>0.0</td>\n",
       "      <td>0.0</td>\n",
       "      <td>135.0</td>\n",
       "      <td>1.0</td>\n",
       "      <td>2.0</td>\n",
       "      <td>2.0</td>\n",
       "      <td>NaN</td>\n",
       "      <td>NaN</td>\n",
       "      <td>1</td>\n",
       "    </tr>\n",
       "    <tr>\n",
       "      <th>594</th>\n",
       "      <td>41</td>\n",
       "      <td>1</td>\n",
       "      <td>4</td>\n",
       "      <td>120.0</td>\n",
       "      <td>336.0</td>\n",
       "      <td>0.0</td>\n",
       "      <td>0.0</td>\n",
       "      <td>118.0</td>\n",
       "      <td>1.0</td>\n",
       "      <td>3.0</td>\n",
       "      <td>2.0</td>\n",
       "      <td>NaN</td>\n",
       "      <td>NaN</td>\n",
       "      <td>1</td>\n",
       "    </tr>\n",
       "    <tr>\n",
       "      <th>595</th>\n",
       "      <td>44</td>\n",
       "      <td>1</td>\n",
       "      <td>4</td>\n",
       "      <td>135.0</td>\n",
       "      <td>491.0</td>\n",
       "      <td>0.0</td>\n",
       "      <td>0.0</td>\n",
       "      <td>135.0</td>\n",
       "      <td>0.0</td>\n",
       "      <td>0.0</td>\n",
       "      <td>NaN</td>\n",
       "      <td>NaN</td>\n",
       "      <td>NaN</td>\n",
       "      <td>1</td>\n",
       "    </tr>\n",
       "    <tr>\n",
       "      <th>596</th>\n",
       "      <td>49</td>\n",
       "      <td>1</td>\n",
       "      <td>4</td>\n",
       "      <td>150.0</td>\n",
       "      <td>222.0</td>\n",
       "      <td>0.0</td>\n",
       "      <td>0.0</td>\n",
       "      <td>122.0</td>\n",
       "      <td>0.0</td>\n",
       "      <td>2.0</td>\n",
       "      <td>2.0</td>\n",
       "      <td>NaN</td>\n",
       "      <td>NaN</td>\n",
       "      <td>1</td>\n",
       "    </tr>\n",
       "  </tbody>\n",
       "</table>\n",
       "<p>297 rows × 14 columns</p>\n",
       "</div>"
      ],
      "text/plain": [
       "     Age (age in year)  sex  chest pain  blood pressure  cholestoral   \\\n",
       "1                   37    1           3           130.0         250.0   \n",
       "5                   57    1           4           140.0         192.0   \n",
       "8                   52    1           3           172.0         199.0   \n",
       "9                   57    1           3           150.0         168.0   \n",
       "10                  54    1           4           140.0         239.0   \n",
       "..                 ...  ...         ...             ...           ...   \n",
       "592                 52    1           4           140.0         266.0   \n",
       "593                 43    1           4           140.0         288.0   \n",
       "594                 41    1           4           120.0         336.0   \n",
       "595                 44    1           4           135.0         491.0   \n",
       "596                 49    1           4           150.0         222.0   \n",
       "\n",
       "     blood sugar  electrocardiographic   heart rate  exercise induced  \\\n",
       "1            0.0                    0.0       187.0               0.0   \n",
       "5            0.0                    0.0       148.0               0.0   \n",
       "8            1.0                    0.0       162.0               0.0   \n",
       "9            0.0                    0.0       174.0               0.0   \n",
       "10           0.0                    0.0       160.0               0.0   \n",
       "..           ...                    ...         ...               ...   \n",
       "592          0.0                    0.0       134.0               1.0   \n",
       "593          0.0                    0.0       135.0               1.0   \n",
       "594          0.0                    0.0       118.0               1.0   \n",
       "595          0.0                    0.0       135.0               0.0   \n",
       "596          0.0                    0.0       122.0               0.0   \n",
       "\n",
       "     depression   slope   ca  thal  c  \n",
       "1            3.5    3.0  0.0   3.0  0  \n",
       "5            0.4    2.0  0.0   6.0  0  \n",
       "8            0.5    1.0  0.0   7.0  0  \n",
       "9            1.6    1.0  0.0   3.0  0  \n",
       "10           1.2    1.0  0.0   3.0  0  \n",
       "..           ...    ...  ...   ... ..  \n",
       "592          2.0    2.0  NaN   NaN  1  \n",
       "593          2.0    2.0  NaN   NaN  1  \n",
       "594          3.0    2.0  NaN   NaN  1  \n",
       "595          0.0    NaN  NaN   NaN  1  \n",
       "596          2.0    2.0  NaN   NaN  1  \n",
       "\n",
       "[297 rows x 14 columns]"
      ]
     },
     "execution_count": 215,
     "metadata": {},
     "output_type": "execute_result"
    }
   ],
   "source": [
    "heart[(heart['sex']==1) & (heart['chest pain']>2) ]"
   ]
  },
  {
   "cell_type": "code",
   "execution_count": 231,
   "id": "6cc163c3-ef2b-4772-8e82-4c0d03c9d45d",
   "metadata": {},
   "outputs": [],
   "source": [
    "heartG = heart.groupby('c')['sex'].count()"
   ]
  },
  {
   "cell_type": "code",
   "execution_count": 233,
   "id": "c7bfc86c-4c70-4987-b69b-1dc1c86fd71e",
   "metadata": {},
   "outputs": [
    {
     "data": {
      "text/plain": [
       "c\n",
       "0    352\n",
       "1    245\n",
       "Name: sex, dtype: int64"
      ]
     },
     "execution_count": 233,
     "metadata": {},
     "output_type": "execute_result"
    }
   ],
   "source": [
    "heartG"
   ]
  },
  {
   "cell_type": "code",
   "execution_count": null,
   "id": "c2937dc0-63f1-4963-8e79-c9abcddb6e1d",
   "metadata": {},
   "outputs": [],
   "source": []
  },
  {
   "cell_type": "code",
   "execution_count": null,
   "id": "8a9e1c77-b9a2-41df-9498-ec82f87ac1bf",
   "metadata": {},
   "outputs": [],
   "source": []
  },
  {
   "cell_type": "code",
   "execution_count": null,
   "id": "f7deb6b7-b480-4f48-ba13-19b51526492a",
   "metadata": {},
   "outputs": [],
   "source": []
  },
  {
   "cell_type": "code",
   "execution_count": null,
   "id": "a353906f-68d6-4c74-b74e-f6f54ba3039d",
   "metadata": {},
   "outputs": [],
   "source": []
  },
  {
   "cell_type": "code",
   "execution_count": null,
   "id": "e50ca8ac-f5cb-4ab5-a905-f369d5854abd",
   "metadata": {},
   "outputs": [],
   "source": []
  },
  {
   "cell_type": "code",
   "execution_count": null,
   "id": "0cd5492d-3b08-42ea-8028-38c5d5ef9fb5",
   "metadata": {},
   "outputs": [],
   "source": []
  },
  {
   "cell_type": "code",
   "execution_count": null,
   "id": "d0b1c14f-1829-402a-9fda-0ff56bece322",
   "metadata": {},
   "outputs": [],
   "source": []
  },
  {
   "cell_type": "code",
   "execution_count": null,
   "id": "7705ae56-de60-41c7-ae87-4b40f33acf0c",
   "metadata": {},
   "outputs": [],
   "source": []
  },
  {
   "cell_type": "code",
   "execution_count": null,
   "id": "af2b7591-b1c3-4db9-9b43-5f26556b3fe9",
   "metadata": {},
   "outputs": [],
   "source": []
  },
  {
   "cell_type": "code",
   "execution_count": null,
   "id": "09fd9933-f045-4be4-b672-b8a23e717df0",
   "metadata": {},
   "outputs": [],
   "source": []
  },
  {
   "cell_type": "code",
   "execution_count": null,
   "id": "3af4dc9c-df50-4220-b350-fe0ac3db0e20",
   "metadata": {},
   "outputs": [],
   "source": []
  }
 ],
 "metadata": {
  "kernelspec": {
   "display_name": "Python [conda env:base] *",
   "language": "python",
   "name": "conda-base-py"
  },
  "language_info": {
   "codemirror_mode": {
    "name": "ipython",
    "version": 3
   },
   "file_extension": ".py",
   "mimetype": "text/x-python",
   "name": "python",
   "nbconvert_exporter": "python",
   "pygments_lexer": "ipython3",
   "version": "3.12.7"
  }
 },
 "nbformat": 4,
 "nbformat_minor": 5
}
