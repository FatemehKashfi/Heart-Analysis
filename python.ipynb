{
 "cells": [
  {
   "cell_type": "markdown",
   "id": "0378558c-3bf6-4d37-a917-76b73358426b",
   "metadata": {},
   "source": [
    "<div>\n",
    "    <h2>Math operations in python</h2>\n",
    "</div>"
   ]
  },
  {
   "cell_type": "markdown",
   "id": "e7c9d4fc-4f7b-47da-b013-aa1d0cfa595a",
   "metadata": {},
   "source": [
    "<div>\n",
    "    <h1>An Introduction to Python</h1>\n",
    "</div>\n",
    "\n",
    "<p>\n",
    "    Python has several built-in data structures:\n",
    "    <ul>\n",
    "        <li><strong>Integers</strong>: Whole numbers (e.g., 1, 20, 100)</li>\n",
    "        <li><strong>Floats</strong>: Decimal numbers (e.g., 1.5, 3.09)</li>\n",
    "        <li><strong>Strings</strong>: Text data (e.g., \"Hello, World!\")</li>\n",
    "        <li><strong>Lists</strong>: Ordered collections of values (e.g., [\"Tehran\", \"Shiraz\", \"Yazd\"])</li>\n",
    "        <li><strong>Dictionaries</strong>: Key-value pairs (e.g., {\"Iran\": 90, \"Turkey\": 60, \"Germany\": 80})</li>\n",
    "        <li><strong>Tuples</strong>: Immutable ordered collections (e.g., (3, 5, 6, 8))</li>\n",
    "    </ul>\n",
    "</p>\n"
   ]
  },
  {
   "cell_type": "code",
   "execution_count": 4,
   "id": "5fe21a12-7aa5-4b09-8cff-4acd91f84801",
   "metadata": {
    "scrolled": true
   },
   "outputs": [
    {
     "name": "stdout",
     "output_type": "stream",
     "text": [
      "13\n",
      "7\n",
      "30\n",
      "3.3333333333333335\n",
      "3\n",
      "1\n",
      "1000\n"
     ]
    }
   ],
   "source": [
    "a = 10\n",
    "b = 3\n",
    "\n",
    "print(a + b)  # Addition → 13\n",
    "print(a - b)  # Subtraction → 7\n",
    "print(a * b)  # Multiplication → 30\n",
    "print(a / b)  # Division → 3.3333...\n",
    "print(a // b) # Floor division → 3\n",
    "print(a % b)  # Modulus → 1\n",
    "print(a ** b) # Exponentiation (10^3) → 1000\n"
   ]
  },
  {
   "cell_type": "markdown",
   "id": "139e6b79-71f7-405b-9009-9664a1491c0c",
   "metadata": {},
   "source": [
    "<div>\n",
    "     <h2> Strings </h2>\n",
    "</div>"
   ]
  },
  {
   "cell_type": "markdown",
   "id": "fe455b9b-dd7e-4a13-92cd-fc238df5a799",
   "metadata": {},
   "source": [
    "| Method | Description | Example | Output |\n",
    "|--------|-------------|---------|--------|\n",
    "| `upper()` | Converts the string to uppercase. | `\"hello\".upper()` | `\"HELLO\"` |\n",
    "| `lower()` | Converts the string to lowercase. | `\"HELLO\".lower()` | `\"hello\"` |\n",
    "| `title()` | Capitalizes the first letter of each word. | `\"hello world\".title()` | `\"Hello World\"` |\n",
    "| `capitalize()` | Capitalizes the first letter of the string. | `\"python\".capitalize()` | `\"Python\"` |\n",
    "| `strip()` | Removes leading and trailing whitespace. | `\"  hello  \".strip()` | `\"hello\"` |\n",
    "| `lstrip()` | Removes leading whitespace. | `\"  hello  \".lstrip()` | `\"hello  \"` |\n",
    "| `rstrip()` | Removes trailing whitespace. | `\"  hello  \".rstrip()` | `\"  hello\"` |\n",
    "| `replace(old, new)` | Replaces occurrences of `old` with `new`. | `\"hello world\".replace(\"world\", \"Python\")` | `\"hello Python\"` |\n",
    "| `split(separator)` | Splits the string into a list. | `\"apple,banana,grape\".split(\",\")` | `['apple', 'banana', 'grape']` |\n",
    "| `join(iterable)` | Joins elements of an iterable into a string. | `\"-\".join([\"a\", \"b\", \"c\"])` | `\"a-b-c\"` |\n",
    "| `find(substring)` | Returns the index of the first occurrence of `substring`. | `\"hello\".find(\"l\")` | `2` |\n",
    "| `index(substring)` | Same as `find()`, but raises an error if not found. | `\"hello\".index(\"l\")` | `2` |\n",
    "| `count(substring)` | Counts occurrences of `substring`. | `\"banana\".count(\"a\")` | `3` |\n",
    "| `startswith(prefix)` | Checks if the string starts with `prefix`. | `\"hello\".startswith(\"he\")` | `True` |\n",
    "| `endswith(suffix)` | Checks if the string ends with `suffix`. | `\"hello\".endswith(\"o\")` | `True` |\n",
    "| `isdigit()` | Checks if the string consists only of digits. | `\"123\".isdigit()` | `True` |\n",
    "| `isalpha()` | Checks if the string consists only of letters. | `\"hello\".isalpha()` | `True` |\n",
    "| `isalnum()` | Checks if the string consists only of letters and digits. | `\"hello123\".isalnum()` | `True` |\n",
    "| `isspace()` | Checks if the string consists only of whitespace. | `\"   \".isspace()` | `True` |\n",
    "| `swapcase()` | Swaps uppercase and lowercase letters. | `\"Hello\".swapcase()` | `\"hELLO\"` |\n",
    "| `zfill(width)` | Pads the string with zeros until it reaches `width` length. | `\"42\".zfill(5)` | `\"00042\"` |\n"
   ]
  },
  {
   "cell_type": "markdown",
   "id": "242ba20f-e646-46f3-b0b8-512c2b4ddbcb",
   "metadata": {},
   "source": [
    "<div>\n",
    "     <h2> Lists </h2>\n",
    "</div>"
   ]
  },
  {
   "cell_type": "markdown",
   "id": "ca96b39a-7712-43eb-af23-265e01bebb22",
   "metadata": {},
   "source": [
    "| Method                  | Description                                                    | Example               |\n",
    "|-------------------------|----------------------------------------------------------------|-----------------------|\n",
    "| `append(x)`             | Adds item `x` to the end of the list.                         | `lst.append(5)`       |\n",
    "| `extend(iterable)`      | Extends the list by appending elements from an iterable.       | `lst.extend([6, 7])`  |\n",
    "| `insert(i, x)`          | Inserts item `x` at position `i`.                             | `lst.insert(1, 5)`    |\n",
    "| `remove(x)`             | Removes the first occurrence of item `x`.                     | `lst.remove(5)`       |\n",
    "| `pop([i])`              | Removes and returns the item at position `i`.                 | `lst.pop(2)`          |\n",
    "| `clear()`               | Removes all items from the list.                              | `lst.clear()`         |\n",
    "| `index(x[, start, end])`| Returns the index of the first occurrence of item `x`.        | `lst.index(3)`        |\n",
    "| `count(x)`              | Returns the number of occurrences of item `x`.                | `lst.count(3)`        |\n",
    "| `sort(key, reverse)`    | Sorts the list in ascending order.                            | `lst.sort(reverse=True)`|\n",
    "| `reverse()`             | Reverses the elements of the list in place.                   | `lst.reverse()`       |\n",
    "| `copy()`                | Returns a shallow copy of the list.                           | `lst_copy = lst.copy()`|\n",
    "| `join()`                | Joins the elements of a list of strings into one string.      | `\", \".join(lst)`      |"
   ]
  },
  {
   "cell_type": "code",
   "execution_count": 10,
   "id": "4b7a932b-4228-4331-9c35-27d54f72ecb3",
   "metadata": {},
   "outputs": [
    {
     "data": {
      "text/plain": [
       "[1, 2, 3, 4]"
      ]
     },
     "execution_count": 10,
     "metadata": {},
     "output_type": "execute_result"
    }
   ],
   "source": [
    "# Creating a list\n",
    "lst = [1, 2, 3, 4]\n",
    "lst"
   ]
  },
  {
   "cell_type": "code",
   "execution_count": 12,
   "id": "098eebdd-98da-48cc-841b-bf182beca4fd",
   "metadata": {},
   "outputs": [],
   "source": [
    "# append() - Adds an element to the end\n",
    "lst.append(5)"
   ]
  },
  {
   "cell_type": "code",
   "execution_count": 14,
   "id": "9b844770-c5fe-4f9f-9762-d19252c83cda",
   "metadata": {},
   "outputs": [
    {
     "data": {
      "text/plain": [
       "[1, 2, 3, 4, 5]"
      ]
     },
     "execution_count": 14,
     "metadata": {},
     "output_type": "execute_result"
    }
   ],
   "source": [
    "lst"
   ]
  },
  {
   "cell_type": "code",
   "execution_count": 16,
   "id": "ca66812d-db9a-4d77-b2fc-d76ecde7041f",
   "metadata": {},
   "outputs": [
    {
     "data": {
      "text/plain": [
       "[1, 2, 3, 4, 5, 6, 7]"
      ]
     },
     "execution_count": 16,
     "metadata": {},
     "output_type": "execute_result"
    }
   ],
   "source": [
    "# extend() - Adds multiple elements\n",
    "lst.extend([6, 7])  \n",
    "lst"
   ]
  },
  {
   "cell_type": "code",
   "execution_count": 18,
   "id": "982094d6-218c-499b-a988-aaaea8163c8a",
   "metadata": {},
   "outputs": [
    {
     "data": {
      "text/plain": [
       "[1, 2, 10, 3, 4, 5, 6, 7]"
      ]
     },
     "execution_count": 18,
     "metadata": {},
     "output_type": "execute_result"
    }
   ],
   "source": [
    "# insert() - Inserts an element at a specific index\n",
    "lst.insert(2, 10) \n",
    "lst"
   ]
  },
  {
   "cell_type": "code",
   "execution_count": 20,
   "id": "da28897d-b70c-4dbc-bec4-ce9486f44b41",
   "metadata": {},
   "outputs": [],
   "source": [
    "# remove() - Removes the first occurrence of an element\n",
    "lst.remove(10)"
   ]
  },
  {
   "cell_type": "code",
   "execution_count": 22,
   "id": "ae6b9af2-9eed-4ddb-abc6-c4aa6b1fe58f",
   "metadata": {},
   "outputs": [],
   "source": [
    "# pop() - Removes and returns an element (default is last element)\n",
    "removed_item = lst.pop(1) "
   ]
  },
  {
   "cell_type": "code",
   "execution_count": 24,
   "id": "903b4d4a-6fe6-4ca7-8f6b-6a7247ac7bc3",
   "metadata": {},
   "outputs": [
    {
     "data": {
      "text/plain": [
       "2"
      ]
     },
     "execution_count": 24,
     "metadata": {},
     "output_type": "execute_result"
    }
   ],
   "source": [
    "removed_item"
   ]
  },
  {
   "cell_type": "code",
   "execution_count": 26,
   "id": "65d666aa-2b8b-41d8-9834-370c5bcfc99e",
   "metadata": {},
   "outputs": [],
   "source": [
    "lst.clear() "
   ]
  },
  {
   "cell_type": "code",
   "execution_count": 28,
   "id": "7323bb65-3a43-4952-a402-56017006cdb0",
   "metadata": {},
   "outputs": [
    {
     "data": {
      "text/plain": [
       "[]"
      ]
     },
     "execution_count": 28,
     "metadata": {},
     "output_type": "execute_result"
    }
   ],
   "source": [
    "lst"
   ]
  },
  {
   "cell_type": "code",
   "execution_count": 30,
   "id": "069b1438-af50-491f-a3ac-eee42d0c3637",
   "metadata": {},
   "outputs": [
    {
     "data": {
      "text/plain": [
       "2"
      ]
     },
     "execution_count": 30,
     "metadata": {},
     "output_type": "execute_result"
    }
   ],
   "source": [
    "lst = [1, 2, 3, 4]\n",
    "index_of_3 = lst.index(3)\n",
    "index_of_3"
   ]
  },
  {
   "cell_type": "code",
   "execution_count": 32,
   "id": "e9daaa23-169c-4917-a132-37d3d986ca82",
   "metadata": {},
   "outputs": [
    {
     "ename": "TypeError",
     "evalue": "'type' object does not support item assignment",
     "output_type": "error",
     "traceback": [
      "\u001b[0;31m---------------------------------------------------------------------------\u001b[0m",
      "\u001b[0;31mTypeError\u001b[0m                                 Traceback (most recent call last)",
      "Cell \u001b[0;32mIn[32], line 1\u001b[0m\n\u001b[0;32m----> 1\u001b[0m \u001b[38;5;28mlist\u001b[39m[\u001b[38;5;241m1\u001b[39m]\u001b[38;5;241m=\u001b[39m \u001b[38;5;241m90\u001b[39m\n\u001b[1;32m      2\u001b[0m \u001b[38;5;28mlist\u001b[39m\n",
      "\u001b[0;31mTypeError\u001b[0m: 'type' object does not support item assignment"
     ]
    }
   ],
   "source": [
    "list[1]= 90\n",
    "list"
   ]
  },
  {
   "cell_type": "code",
   "execution_count": 34,
   "id": "aea8f392-cc08-436d-a240-0a1cfb1ad4eb",
   "metadata": {},
   "outputs": [
    {
     "data": {
      "text/plain": [
       "1"
      ]
     },
     "execution_count": 34,
     "metadata": {},
     "output_type": "execute_result"
    }
   ],
   "source": [
    "# count() - Counts occurrences of an element\n",
    "lst.count(3)"
   ]
  },
  {
   "cell_type": "code",
   "execution_count": 36,
   "id": "628d48b4-e5c8-4f60-a910-107d08764ffa",
   "metadata": {},
   "outputs": [],
   "source": [
    "# sort() - Sorts the list in ascending order\n",
    "lst = [4, 1, 3, 2]\n",
    "lst.sort() "
   ]
  },
  {
   "cell_type": "code",
   "execution_count": 38,
   "id": "a2e0628c-9c71-40e2-9327-e3fbb608adfb",
   "metadata": {},
   "outputs": [
    {
     "data": {
      "text/plain": [
       "[1, 2, 3, 4]"
      ]
     },
     "execution_count": 38,
     "metadata": {},
     "output_type": "execute_result"
    }
   ],
   "source": [
    "lst"
   ]
  },
  {
   "cell_type": "code",
   "execution_count": 40,
   "id": "bb543f48-5787-4d7d-a8cb-6862adc2f5a7",
   "metadata": {},
   "outputs": [
    {
     "data": {
      "text/plain": [
       "[4, 3, 2, 1]"
      ]
     },
     "execution_count": 40,
     "metadata": {},
     "output_type": "execute_result"
    }
   ],
   "source": [
    "# reverse() - Reverses the order of the list\n",
    "lst.reverse()\n",
    "lst"
   ]
  },
  {
   "cell_type": "code",
   "execution_count": 42,
   "id": "6bb38c84-18b6-4aae-b3d8-3033159c6549",
   "metadata": {},
   "outputs": [],
   "source": [
    "# copy() - Creates a copy of the list\n",
    "lst_copy = lst.copy() "
   ]
  },
  {
   "cell_type": "code",
   "execution_count": 44,
   "id": "030968fa-8d33-4e82-8627-facf1ceb39aa",
   "metadata": {},
   "outputs": [
    {
     "data": {
      "text/plain": [
       "'Python is fun'"
      ]
     },
     "execution_count": 44,
     "metadata": {},
     "output_type": "execute_result"
    }
   ],
   "source": [
    "words = [\"Python\", \"is\", \"fun\"]\n",
    "sentence = \" \".join(words)\n",
    "sentence"
   ]
  },
  {
   "cell_type": "code",
   "execution_count": 46,
   "id": "f2c2914e-60b0-469f-8003-e937f409a646",
   "metadata": {},
   "outputs": [
    {
     "data": {
      "text/plain": [
       "['Python', 'is', 'fun']"
      ]
     },
     "execution_count": 46,
     "metadata": {},
     "output_type": "execute_result"
    }
   ],
   "source": [
    "words"
   ]
  },
  {
   "cell_type": "code",
   "execution_count": 48,
   "id": "4356c82b-c17b-4f09-a92f-e04e785bb61e",
   "metadata": {},
   "outputs": [],
   "source": [
    "#Selecting in Lists\n",
    "list = [1, 2, 3, 4, 5, 6, 7, 8, 9, 19, 11, 12, 14, 19, 20]"
   ]
  },
  {
   "cell_type": "code",
   "execution_count": 50,
   "id": "c52d563d-edce-4bf3-8cc7-cc5e234a7f40",
   "metadata": {},
   "outputs": [
    {
     "data": {
      "text/plain": [
       "2"
      ]
     },
     "execution_count": 50,
     "metadata": {},
     "output_type": "execute_result"
    }
   ],
   "source": [
    "list[1]"
   ]
  },
  {
   "cell_type": "code",
   "execution_count": 52,
   "id": "49a7eb89-79b7-4a7a-a36d-a4dd9d1b8a4e",
   "metadata": {},
   "outputs": [
    {
     "data": {
      "text/plain": [
       "[1, 2, 3, 4, 5]"
      ]
     },
     "execution_count": 52,
     "metadata": {},
     "output_type": "execute_result"
    }
   ],
   "source": [
    "list[:5]"
   ]
  },
  {
   "cell_type": "code",
   "execution_count": 54,
   "id": "94985f3f-ea3f-4ac2-96b8-7d4f39b994f5",
   "metadata": {},
   "outputs": [
    {
     "data": {
      "text/plain": [
       "int"
      ]
     },
     "execution_count": 54,
     "metadata": {},
     "output_type": "execute_result"
    }
   ],
   "source": [
    "zz = list[-1]\n",
    "type(zz)"
   ]
  },
  {
   "cell_type": "code",
   "execution_count": 56,
   "id": "ab0d5613-ed80-4e05-aea0-9ac123cd0c6e",
   "metadata": {},
   "outputs": [
    {
     "data": {
      "text/plain": [
       "[2, 4]"
      ]
     },
     "execution_count": 56,
     "metadata": {},
     "output_type": "execute_result"
    }
   ],
   "source": [
    "#list[start:stop:step]\n",
    "list[1:5:2]"
   ]
  },
  {
   "cell_type": "code",
   "execution_count": 58,
   "id": "2caa14d4-9045-49d4-9bbd-846248c4e47c",
   "metadata": {},
   "outputs": [
    {
     "data": {
      "text/plain": [
       "list"
      ]
     },
     "execution_count": 58,
     "metadata": {},
     "output_type": "execute_result"
    }
   ],
   "source": [
    "list2 =[[1, 2, 3],\n",
    "       [4, 5, 6],\n",
    "       [7, 8, 9]]\n",
    "jj = list2[0]\n",
    "type(jj)"
   ]
  },
  {
   "cell_type": "code",
   "execution_count": 60,
   "id": "6f80593d-9ea7-4c2a-ac78-31373a3dcddf",
   "metadata": {},
   "outputs": [
    {
     "data": {
      "text/plain": [
       "2"
      ]
     },
     "execution_count": 60,
     "metadata": {},
     "output_type": "execute_result"
    }
   ],
   "source": [
    "list2[0][1]"
   ]
  },
  {
   "cell_type": "code",
   "execution_count": 63,
   "id": "6865ef9c-3804-4b69-ae8e-bc73e1cc9065",
   "metadata": {},
   "outputs": [
    {
     "data": {
      "text/plain": [
       "[1, 2, 3]"
      ]
     },
     "execution_count": 63,
     "metadata": {},
     "output_type": "execute_result"
    }
   ],
   "source": [
    "min(list2)"
   ]
  },
  {
   "cell_type": "code",
   "execution_count": 65,
   "id": "1a3ee3d2-a227-4070-b97a-591c297a5251",
   "metadata": {},
   "outputs": [
    {
     "data": {
      "text/plain": [
       "140"
      ]
     },
     "execution_count": 65,
     "metadata": {},
     "output_type": "execute_result"
    }
   ],
   "source": [
    "sum(list)"
   ]
  },
  {
   "cell_type": "code",
   "execution_count": 67,
   "id": "3d8b8ce8-7dfe-4cc8-ac02-89734eb1d28b",
   "metadata": {},
   "outputs": [
    {
     "data": {
      "text/plain": [
       "3"
      ]
     },
     "execution_count": 67,
     "metadata": {},
     "output_type": "execute_result"
    }
   ],
   "source": [
    "len(list2)"
   ]
  },
  {
   "cell_type": "code",
   "execution_count": 69,
   "id": "593d94c7-7df6-48fd-919f-5e2e54b71cdd",
   "metadata": {},
   "outputs": [
    {
     "data": {
      "text/plain": [
       "True"
      ]
     },
     "execution_count": 69,
     "metadata": {},
     "output_type": "execute_result"
    }
   ],
   "source": [
    "2 in list"
   ]
  },
  {
   "cell_type": "code",
   "execution_count": 71,
   "id": "5481f033-ce97-462f-9585-816b6ca9ee66",
   "metadata": {},
   "outputs": [
    {
     "data": {
      "text/plain": [
       "[0, 1, 4, 9, 16, 25]"
      ]
     },
     "execution_count": 71,
     "metadata": {},
     "output_type": "execute_result"
    }
   ],
   "source": [
    "list3 = [x**2 for x in range(6)]\n",
    "list3"
   ]
  },
  {
   "cell_type": "code",
   "execution_count": 73,
   "id": "420d4595-b84d-4c1b-ac6d-3028ac878b06",
   "metadata": {},
   "outputs": [],
   "source": [
    "numbers = [10, 20, 30, 40, 50]"
   ]
  },
  {
   "cell_type": "code",
   "execution_count": 75,
   "id": "81209f2f-5302-4c55-970c-8ee264bc7589",
   "metadata": {},
   "outputs": [
    {
     "data": {
      "text/plain": [
       "50"
      ]
     },
     "execution_count": 75,
     "metadata": {},
     "output_type": "execute_result"
    }
   ],
   "source": [
    "max(numbers)"
   ]
  },
  {
   "cell_type": "code",
   "execution_count": 77,
   "id": "41ebecc9-e357-4ef7-b21a-d02313216d0f",
   "metadata": {},
   "outputs": [
    {
     "data": {
      "text/plain": [
       "150"
      ]
     },
     "execution_count": 77,
     "metadata": {},
     "output_type": "execute_result"
    }
   ],
   "source": [
    "sum(numbers)"
   ]
  },
  {
   "cell_type": "code",
   "execution_count": 79,
   "id": "f49a850c-2ebd-4afd-8026-e715c08c9eb5",
   "metadata": {},
   "outputs": [
    {
     "data": {
      "text/plain": [
       "5"
      ]
     },
     "execution_count": 79,
     "metadata": {},
     "output_type": "execute_result"
    }
   ],
   "source": [
    "len(numbers)"
   ]
  },
  {
   "cell_type": "markdown",
   "id": "76116893-4fb7-4cbe-899c-14ca59fba5d2",
   "metadata": {},
   "source": [
    "<div>\n",
    "    <h4>\"The problem with lists is that we cannot directly perform mathematical operations on them. To handle numerical computations efficiently, we can use arrays instead. We'll work on that later.\"\n",
    "    </h4>\n",
    "</div>"
   ]
  },
  {
   "cell_type": "code",
   "execution_count": 82,
   "id": "8a9aef63-0abf-4a42-8579-c536ace92d0e",
   "metadata": {},
   "outputs": [
    {
     "data": {
      "text/plain": [
       "[10, 20, 30, 40, 50, 10, 20, 30, 40, 50]"
      ]
     },
     "execution_count": 82,
     "metadata": {},
     "output_type": "execute_result"
    }
   ],
   "source": [
    "numbers *2"
   ]
  },
  {
   "cell_type": "markdown",
   "id": "374641cf-f81d-4ea1-88c9-f19fcfda6ae3",
   "metadata": {},
   "source": [
    "<div>\n",
    "    <h1>\n",
    "        Dictionary\n",
    "    </h1>\n",
    "</div>"
   ]
  },
  {
   "cell_type": "code",
   "execution_count": 85,
   "id": "eeed38d0-5087-49f5-a8fc-49329d4f21a8",
   "metadata": {},
   "outputs": [],
   "source": [
    "data = {\"name\": \"Alice\", \"age\": 25}"
   ]
  },
  {
   "cell_type": "code",
   "execution_count": 87,
   "id": "95a0fa27-8a99-441d-a4f1-afcde7ae3eae",
   "metadata": {},
   "outputs": [
    {
     "data": {
      "text/plain": [
       "25"
      ]
     },
     "execution_count": 87,
     "metadata": {},
     "output_type": "execute_result"
    }
   ],
   "source": [
    "data.keys()        # Returns dict_keys(['name', 'age'])\n",
    "data.values()      # Returns dict_values(['Alice', 25])\n",
    "data.items()       # Returns dict_items([('name', 'Alice'), ('age', 25)])\n",
    "data.get(\"name\")   # Get value of key → \"Alice\"\n",
    "data.update({\"city\": \"Berlin\"})  # Adds new key-value pair\n",
    "data.pop(\"age\")    # Removes key \"age\"\n"
   ]
  },
  {
   "cell_type": "markdown",
   "id": "ad251e39-de2c-4539-917c-0702c2ed4444",
   "metadata": {},
   "source": [
    "<div>\n",
    "    <h2>\n",
    "        Import a package\n",
    "    </h2>\n",
    "</div>"
   ]
  },
  {
   "cell_type": "markdown",
   "id": "364a0f95-d262-46e4-aee4-259403f9d2cf",
   "metadata": {},
   "source": [
    "<div>\n",
    "    <h2> Numpy </h2>\n",
    "</div>"
   ]
  },
  {
   "cell_type": "markdown",
   "id": "e5d3ee96-e1e1-4862-aac1-8ae59d16b2db",
   "metadata": {},
   "source": [
    "<div>\n",
    "    <h4>\n",
    "        The NumPy (numpy) library is used in Python for efficient numerical computing. It provides powerful tools for working with arrays, matrices, and mathematical operations.\n",
    "    </h4>\n",
    "</div>"
   ]
  },
  {
   "cell_type": "code",
   "execution_count": 92,
   "id": "5c1e7463-323c-4dfc-a293-260f5616a701",
   "metadata": {},
   "outputs": [],
   "source": [
    "import numpy as np"
   ]
  },
  {
   "cell_type": "code",
   "execution_count": 94,
   "id": "964ba33e-8aac-4d9c-ac41-1c5e987f3c4f",
   "metadata": {},
   "outputs": [
    {
     "data": {
      "text/plain": [
       "array([1, 2, 3, 4, 5, 5, 6])"
      ]
     },
     "execution_count": 94,
     "metadata": {},
     "output_type": "execute_result"
    }
   ],
   "source": [
    "np.array([1,2,3,4,5,5,6])"
   ]
  },
  {
   "cell_type": "code",
   "execution_count": 96,
   "id": "65280009-fb8b-4954-a76e-af9cf986df50",
   "metadata": {},
   "outputs": [],
   "source": [
    "weight = np.array([67, 72, 89, 90])"
   ]
  },
  {
   "cell_type": "code",
   "execution_count": 98,
   "id": "04a6268e-aa93-4523-8fae-d03bc03e1ab9",
   "metadata": {},
   "outputs": [
    {
     "data": {
      "text/plain": [
       "array([134, 144, 178, 180])"
      ]
     },
     "execution_count": 98,
     "metadata": {},
     "output_type": "execute_result"
    }
   ],
   "source": [
    "weight *2"
   ]
  },
  {
   "cell_type": "code",
   "execution_count": 100,
   "id": "d9a5644d-5ea3-4d3e-bb59-6f718a0a5ab7",
   "metadata": {},
   "outputs": [],
   "source": [
    "y = np.array ([[3,5,6,7],\n",
    "               [6,7,8,9],\n",
    "               [7,8,9,1]])"
   ]
  },
  {
   "cell_type": "code",
   "execution_count": 102,
   "id": "dc6cf375-2053-4f63-8053-b36d4686e98b",
   "metadata": {},
   "outputs": [
    {
     "data": {
      "text/plain": [
       "array([[3, 5, 6, 7],\n",
       "       [6, 7, 8, 9],\n",
       "       [7, 8, 9, 1]])"
      ]
     },
     "execution_count": 102,
     "metadata": {},
     "output_type": "execute_result"
    }
   ],
   "source": [
    "y"
   ]
  },
  {
   "cell_type": "code",
   "execution_count": 104,
   "id": "91531a75-1e6f-4996-a55b-4444fe0cdf17",
   "metadata": {},
   "outputs": [
    {
     "data": {
      "text/plain": [
       "array([6, 7, 8, 9])"
      ]
     },
     "execution_count": 104,
     "metadata": {},
     "output_type": "execute_result"
    }
   ],
   "source": [
    "y[1]"
   ]
  },
  {
   "cell_type": "code",
   "execution_count": 106,
   "id": "082abd16-eb69-449f-a894-a9776d72cdd9",
   "metadata": {},
   "outputs": [
    {
     "data": {
      "text/plain": [
       "7"
      ]
     },
     "execution_count": 106,
     "metadata": {},
     "output_type": "execute_result"
    }
   ],
   "source": [
    "y[2][0]"
   ]
  },
  {
   "cell_type": "code",
   "execution_count": 108,
   "id": "fcb4a030-b054-4672-a8b8-d0f116d9086a",
   "metadata": {},
   "outputs": [
    {
     "data": {
      "text/plain": [
       "array([[6, 7],\n",
       "       [8, 9]])"
      ]
     },
     "execution_count": 108,
     "metadata": {},
     "output_type": "execute_result"
    }
   ],
   "source": [
    "y[0:2,2:]"
   ]
  },
  {
   "cell_type": "code",
   "execution_count": 110,
   "id": "7b6f015b-1d0e-4535-a781-1f6900c1a68a",
   "metadata": {},
   "outputs": [
    {
     "data": {
      "text/plain": [
       "array([[False, False, False,  True],\n",
       "       [False,  True,  True,  True],\n",
       "       [ True,  True,  True, False]])"
      ]
     },
     "execution_count": 110,
     "metadata": {},
     "output_type": "execute_result"
    }
   ],
   "source": [
    "y > 6"
   ]
  },
  {
   "cell_type": "code",
   "execution_count": 112,
   "id": "ff20b7da-d4ae-4969-b086-f508a1eafaff",
   "metadata": {},
   "outputs": [
    {
     "data": {
      "text/plain": [
       "0.6964691855978616"
      ]
     },
     "execution_count": 112,
     "metadata": {},
     "output_type": "execute_result"
    }
   ],
   "source": [
    "np.random.seed(123)\n",
    "np.random.rand()"
   ]
  },
  {
   "cell_type": "code",
   "execution_count": 114,
   "id": "3015ed88-82a6-48e7-aa5d-d4f9f7448a67",
   "metadata": {},
   "outputs": [
    {
     "data": {
      "text/plain": [
       "numpy.ndarray"
      ]
     },
     "execution_count": 114,
     "metadata": {},
     "output_type": "execute_result"
    }
   ],
   "source": [
    "type(y)"
   ]
  },
  {
   "cell_type": "code",
   "execution_count": 116,
   "id": "a187c236-65f2-49b1-a7d9-a6d85b91df4c",
   "metadata": {},
   "outputs": [
    {
     "data": {
      "text/plain": [
       "array([[1, 2, 3],\n",
       "       [4, 5, 6]])"
      ]
     },
     "execution_count": 116,
     "metadata": {},
     "output_type": "execute_result"
    }
   ],
   "source": [
    "arr = np.array([[1, 2, 3],[4, 5, 6]])\n",
    "arr"
   ]
  },
  {
   "cell_type": "code",
   "execution_count": 118,
   "id": "f43d2785-f66e-43da-b227-d718330d2ad6",
   "metadata": {},
   "outputs": [
    {
     "data": {
      "text/plain": [
       "(2, 3)"
      ]
     },
     "execution_count": 118,
     "metadata": {},
     "output_type": "execute_result"
    }
   ],
   "source": [
    "# Basic Properties of NumPy Arrays\n",
    "arr.shape"
   ]
  },
  {
   "cell_type": "code",
   "execution_count": 120,
   "id": "75de4a3e-10ec-4bea-a0a5-b9582b0b824f",
   "metadata": {},
   "outputs": [
    {
     "data": {
      "text/plain": [
       "2"
      ]
     },
     "execution_count": 120,
     "metadata": {},
     "output_type": "execute_result"
    }
   ],
   "source": [
    "arr.ndim"
   ]
  },
  {
   "cell_type": "code",
   "execution_count": 122,
   "id": "6939da65-ded2-4fc7-9c95-41b2af742327",
   "metadata": {},
   "outputs": [
    {
     "data": {
      "text/plain": [
       "6"
      ]
     },
     "execution_count": 122,
     "metadata": {},
     "output_type": "execute_result"
    }
   ],
   "source": [
    "arr.size"
   ]
  },
  {
   "cell_type": "code",
   "execution_count": 124,
   "id": "51d1aa8d-c3bf-487d-a75d-140b62bbe1b6",
   "metadata": {},
   "outputs": [
    {
     "data": {
      "text/plain": [
       "dtype('int64')"
      ]
     },
     "execution_count": 124,
     "metadata": {},
     "output_type": "execute_result"
    }
   ],
   "source": [
    "arr.dtype"
   ]
  },
  {
   "cell_type": "code",
   "execution_count": 126,
   "id": "c6fb0406-08ad-4874-afd5-639ba0765ab6",
   "metadata": {},
   "outputs": [
    {
     "data": {
      "text/plain": [
       "8"
      ]
     },
     "execution_count": 126,
     "metadata": {},
     "output_type": "execute_result"
    }
   ],
   "source": [
    "arr.itemsize"
   ]
  },
  {
   "cell_type": "code",
   "execution_count": 128,
   "id": "971260e0-54bb-4c60-b850-1fdab04492be",
   "metadata": {},
   "outputs": [
    {
     "data": {
      "text/plain": [
       "48"
      ]
     },
     "execution_count": 128,
     "metadata": {},
     "output_type": "execute_result"
    }
   ],
   "source": [
    "arr.nbytes"
   ]
  },
  {
   "cell_type": "markdown",
   "id": "b1490539-c59b-4d57-82fd-1bf1b7318360",
   "metadata": {},
   "source": [
    "<div>\n",
    "    <h2> NumPy Methods (Functions Inside an Array)\n",
    "    </h2>\n",
    "</div>"
   ]
  },
  {
   "cell_type": "code",
   "execution_count": 131,
   "id": "f8237af4-6eb2-4e91-aaba-b1b49859c100",
   "metadata": {},
   "outputs": [
    {
     "data": {
      "text/plain": [
       "array([[1, 2, 3, 4],\n",
       "       [5, 6, 7, 8]])"
      ]
     },
     "execution_count": 131,
     "metadata": {},
     "output_type": "execute_result"
    }
   ],
   "source": [
    "#Array Manipulation Methods\n",
    "arr2 = np.array([[1, 2, 3, 4],[5, 6, 7, 8]])\n",
    "arr2"
   ]
  },
  {
   "cell_type": "code",
   "execution_count": 133,
   "id": "285dd5ee-b240-4789-8812-44db334e0dcb",
   "metadata": {},
   "outputs": [
    {
     "data": {
      "text/plain": [
       "array([[1, 5],\n",
       "       [2, 6],\n",
       "       [3, 7],\n",
       "       [4, 8]])"
      ]
     },
     "execution_count": 133,
     "metadata": {},
     "output_type": "execute_result"
    }
   ],
   "source": [
    "arr2.T"
   ]
  },
  {
   "cell_type": "code",
   "execution_count": 135,
   "id": "eba19d78-9ab8-4ee0-8996-24c61d71dc88",
   "metadata": {},
   "outputs": [
    {
     "data": {
      "text/plain": [
       "array([[1, 2],\n",
       "       [3, 4],\n",
       "       [5, 6],\n",
       "       [7, 8]])"
      ]
     },
     "execution_count": 135,
     "metadata": {},
     "output_type": "execute_result"
    }
   ],
   "source": [
    "arr2.reshape(4,2)"
   ]
  },
  {
   "cell_type": "code",
   "execution_count": 137,
   "id": "15727c64-31be-4cf5-8a71-c456d1f87068",
   "metadata": {},
   "outputs": [
    {
     "data": {
      "text/plain": [
       "array([1, 2, 3, 4, 5, 6, 7, 8])"
      ]
     },
     "execution_count": 137,
     "metadata": {},
     "output_type": "execute_result"
    }
   ],
   "source": [
    "arr2.flatten()"
   ]
  },
  {
   "cell_type": "code",
   "execution_count": 139,
   "id": "af45aa56-2dc3-4ae1-9154-c35e59e40ddf",
   "metadata": {},
   "outputs": [
    {
     "data": {
      "text/plain": [
       "array([[1, 2, 3, 4],\n",
       "       [5, 6, 7, 8]])"
      ]
     },
     "execution_count": 139,
     "metadata": {},
     "output_type": "execute_result"
    }
   ],
   "source": [
    "arr2.copy()"
   ]
  },
  {
   "cell_type": "code",
   "execution_count": 141,
   "id": "571b30b9-3e41-4f73-b02a-a78597e8251e",
   "metadata": {},
   "outputs": [
    {
     "data": {
      "text/plain": [
       "array([ 1,  3,  6,  9, 12, 15])"
      ]
     },
     "execution_count": 141,
     "metadata": {},
     "output_type": "execute_result"
    }
   ],
   "source": [
    "# Mathematical & Statistical Methods\n",
    "arr3 = np.array([1, 3, 6, 9, 12, 15])\n",
    "arr3"
   ]
  },
  {
   "cell_type": "code",
   "execution_count": 143,
   "id": "6da75f3d-8e52-490e-81ce-0218a3ab16e0",
   "metadata": {},
   "outputs": [
    {
     "data": {
      "text/plain": [
       "46"
      ]
     },
     "execution_count": 143,
     "metadata": {},
     "output_type": "execute_result"
    }
   ],
   "source": [
    "arr3.sum()"
   ]
  },
  {
   "cell_type": "code",
   "execution_count": 157,
   "id": "16688536-8578-47e2-9e2e-f801bc4bd7d8",
   "metadata": {},
   "outputs": [
    {
     "data": {
      "text/plain": [
       "1"
      ]
     },
     "execution_count": 157,
     "metadata": {},
     "output_type": "execute_result"
    }
   ],
   "source": [
    "arr3.min()"
   ]
  },
  {
   "cell_type": "code",
   "execution_count": 159,
   "id": "9b7d9e37-b047-4944-aae4-f686a4f61cfb",
   "metadata": {},
   "outputs": [
    {
     "data": {
      "text/plain": [
       "15"
      ]
     },
     "execution_count": 159,
     "metadata": {},
     "output_type": "execute_result"
    }
   ],
   "source": [
    "arr3.max()"
   ]
  },
  {
   "cell_type": "code",
   "execution_count": 160,
   "id": "89f5b70f-94b4-49f1-8d94-ecb4c6015a59",
   "metadata": {},
   "outputs": [
    {
     "data": {
      "text/plain": [
       "7.666666666666667"
      ]
     },
     "execution_count": 160,
     "metadata": {},
     "output_type": "execute_result"
    }
   ],
   "source": [
    "arr3.mean()"
   ]
  },
  {
   "cell_type": "code",
   "execution_count": 163,
   "id": "712e2d83-a534-4e74-9cbd-753f9889af82",
   "metadata": {},
   "outputs": [
    {
     "data": {
      "text/plain": [
       "4.887626099538393"
      ]
     },
     "execution_count": 163,
     "metadata": {},
     "output_type": "execute_result"
    }
   ],
   "source": [
    "arr3.std()"
   ]
  },
  {
   "cell_type": "code",
   "execution_count": 164,
   "id": "9abc84b5-7eb1-4815-82ac-ec0079d4862b",
   "metadata": {},
   "outputs": [
    {
     "data": {
      "text/plain": [
       "23.888888888888886"
      ]
     },
     "execution_count": 164,
     "metadata": {},
     "output_type": "execute_result"
    }
   ],
   "source": [
    "arr3.var()"
   ]
  },
  {
   "cell_type": "code",
   "execution_count": 167,
   "id": "cf3b1fbd-fe2b-45ee-9b7d-34478c20dffc",
   "metadata": {},
   "outputs": [
    {
     "data": {
      "text/plain": [
       "29160"
      ]
     },
     "execution_count": 167,
     "metadata": {},
     "output_type": "execute_result"
    }
   ],
   "source": [
    "arr3.prod()"
   ]
  },
  {
   "cell_type": "code",
   "execution_count": 169,
   "id": "5812d5d7-95b5-4698-a8fa-5298d6a9ecc4",
   "metadata": {},
   "outputs": [
    {
     "data": {
      "text/plain": [
       "array([ 1,  4, 10, 19, 31, 46])"
      ]
     },
     "execution_count": 169,
     "metadata": {},
     "output_type": "execute_result"
    }
   ],
   "source": [
    "arr3.cumsum()"
   ]
  },
  {
   "cell_type": "code",
   "execution_count": 171,
   "id": "b4ee0995-2e8e-4634-836a-457325bc9814",
   "metadata": {},
   "outputs": [
    {
     "data": {
      "text/plain": [
       "array([  1,   2,   6,  24, 120, 720])"
      ]
     },
     "execution_count": 171,
     "metadata": {},
     "output_type": "execute_result"
    }
   ],
   "source": [
    "arr.cumprod()"
   ]
  },
  {
   "cell_type": "code",
   "execution_count": 108,
   "id": "70ad3f90-de4d-44bb-9ae9-9a3675eb15e9",
   "metadata": {},
   "outputs": [
    {
     "data": {
      "text/plain": [
       "array([ 4,  1,  5,  7,  9,  0, 12,  3, 40])"
      ]
     },
     "execution_count": 108,
     "metadata": {},
     "output_type": "execute_result"
    }
   ],
   "source": [
    "# Sorting & Searching Methods\n",
    "arr4 = np.array([4,1,5,7,9,0,12,3,40])\n",
    "arr4"
   ]
  },
  {
   "cell_type": "code",
   "execution_count": 110,
   "id": "9a1a8064-d350-4f73-92e3-4861ce53eafc",
   "metadata": {},
   "outputs": [
    {
     "data": {
      "text/plain": [
       "array([ 0,  1,  3,  4,  5,  7,  9, 12, 40])"
      ]
     },
     "execution_count": 110,
     "metadata": {},
     "output_type": "execute_result"
    }
   ],
   "source": [
    "np.sort(arr4)   # This change will apply on arr4"
   ]
  },
  {
   "cell_type": "code",
   "execution_count": 177,
   "id": "ba2b4952-77c8-4734-a6b7-201ae08d8331",
   "metadata": {},
   "outputs": [
    {
     "data": {
      "text/plain": [
       "array([5, 1, 7, 0, 2, 3, 4, 6, 8], dtype=int64)"
      ]
     },
     "execution_count": 177,
     "metadata": {},
     "output_type": "execute_result"
    }
   ],
   "source": [
    "np.argsort(arr4)"
   ]
  },
  {
   "cell_type": "code",
   "execution_count": 179,
   "id": "6aa870fc-d8d3-4bea-9d6d-ab345fa48cc9",
   "metadata": {},
   "outputs": [
    {
     "data": {
      "text/plain": [
       "(array([4, 6, 8], dtype=int64),)"
      ]
     },
     "execution_count": 179,
     "metadata": {},
     "output_type": "execute_result"
    }
   ],
   "source": [
    "np.where(arr4 > 8)"
   ]
  },
  {
   "cell_type": "code",
   "execution_count": 181,
   "id": "3776db8c-0829-452c-9f49-1eb82c7cf739",
   "metadata": {},
   "outputs": [
    {
     "data": {
      "text/plain": [
       "array([104, 101, 105, 107, 109, 100, 112, 103, 140])"
      ]
     },
     "execution_count": 181,
     "metadata": {},
     "output_type": "execute_result"
    }
   ],
   "source": [
    "# Basic Mathematical Functions\n",
    "np.add(arr4,100)   # not permanent"
   ]
  },
  {
   "cell_type": "code",
   "execution_count": 183,
   "id": "b69547a4-4921-4ed0-8f8e-3f131c04e422",
   "metadata": {},
   "outputs": [
    {
     "data": {
      "text/plain": [
       "array([ 3,  0,  4,  6,  8, -1, 11,  2, 39])"
      ]
     },
     "execution_count": 183,
     "metadata": {},
     "output_type": "execute_result"
    }
   ],
   "source": [
    "np.subtract(arr4,1)"
   ]
  },
  {
   "cell_type": "code",
   "execution_count": 185,
   "id": "0a20f036-f863-4699-a48c-bc91d0f8f119",
   "metadata": {},
   "outputs": [
    {
     "data": {
      "text/plain": [
       "array([ 8,  2, 10, 14, 18,  0, 24,  6, 80])"
      ]
     },
     "execution_count": 185,
     "metadata": {},
     "output_type": "execute_result"
    }
   ],
   "source": [
    "np.multiply(arr4, 2)"
   ]
  },
  {
   "cell_type": "code",
   "execution_count": 187,
   "id": "26da8e71-e4dc-4642-b4e8-709af2658cdc",
   "metadata": {},
   "outputs": [
    {
     "data": {
      "text/plain": [
       "array([ 2. ,  0.5,  2.5,  3.5,  4.5,  0. ,  6. ,  1.5, 20. ])"
      ]
     },
     "execution_count": 187,
     "metadata": {},
     "output_type": "execute_result"
    }
   ],
   "source": [
    "np.divide(arr4, 2)"
   ]
  },
  {
   "cell_type": "code",
   "execution_count": 189,
   "id": "84215e4a-54b6-470e-92f9-0fc0761918c0",
   "metadata": {},
   "outputs": [
    {
     "data": {
      "text/plain": [
       "array([  16,    1,   25,   49,   81,    0,  144,    9, 1600], dtype=int32)"
      ]
     },
     "execution_count": 189,
     "metadata": {},
     "output_type": "execute_result"
    }
   ],
   "source": [
    "np.power(arr4, 2)"
   ]
  },
  {
   "cell_type": "code",
   "execution_count": 191,
   "id": "87ddc844-3cc2-4556-99a8-a5c3a8d55eb6",
   "metadata": {},
   "outputs": [
    {
     "name": "stdout",
     "output_type": "stream",
     "text": [
      "[3 3 7 2 4]\n",
      "[0.49111893 0.78002776 0.41092437]\n",
      "[-1.07746533  0.23848917  1.67960037 -1.30580313 -1.13889525]\n"
     ]
    }
   ],
   "source": [
    "print(np.random.randint(1, 10, 5)) # 5 random integers from 1 to 9\n",
    "print(np.random.rand(3))           # 3 random floats (0 to 1)\n",
    "print(np.random.normal(0, 1, 5))   # 5 random numbers from normal distribution"
   ]
  },
  {
   "cell_type": "code",
   "execution_count": 193,
   "id": "25eb661f-7682-4bff-98a1-006db8563f53",
   "metadata": {},
   "outputs": [
    {
     "data": {
      "text/plain": [
       "array([[19, 22],\n",
       "       [43, 50]])"
      ]
     },
     "execution_count": 193,
     "metadata": {},
     "output_type": "execute_result"
    }
   ],
   "source": [
    "A = np.array([[1,2],[3,4]])\n",
    "B = np.array([[5,6],[7,8]])\n",
    "np.dot(A,B)"
   ]
  },
  {
   "cell_type": "code",
   "execution_count": 195,
   "id": "03c32097-d55b-47e2-8a8d-ab43e30175f0",
   "metadata": {},
   "outputs": [],
   "source": [
    "x = np.array([1, 2, 3])\n",
    "z = np.array([4, 5, 6])"
   ]
  },
  {
   "cell_type": "code",
   "execution_count": 197,
   "id": "67184833-715d-4419-80a6-c7542f191995",
   "metadata": {},
   "outputs": [
    {
     "data": {
      "text/plain": [
       "array([[1, 2, 3],\n",
       "       [4, 5, 6]])"
      ]
     },
     "execution_count": 197,
     "metadata": {},
     "output_type": "execute_result"
    }
   ],
   "source": [
    "np.vstack([x,z])"
   ]
  },
  {
   "cell_type": "code",
   "execution_count": 199,
   "id": "ac27e597-187f-45c0-b85b-58d76afa8711",
   "metadata": {},
   "outputs": [
    {
     "data": {
      "text/plain": [
       "array([1, 2, 3, 4, 5, 6])"
      ]
     },
     "execution_count": 199,
     "metadata": {},
     "output_type": "execute_result"
    }
   ],
   "source": [
    "np.hstack([x,z])"
   ]
  },
  {
   "cell_type": "code",
   "execution_count": 201,
   "id": "1100db01-e7de-4042-8df8-0cfc5a5f3c71",
   "metadata": {},
   "outputs": [],
   "source": [
    "arr5 = np.array([[1, 2, 3, 4],\n",
    "                 [5, 6, 7, 8],\n",
    "                 [5, 9, 0, 3]])"
   ]
  },
  {
   "cell_type": "code",
   "execution_count": 203,
   "id": "5811c088-3f9c-44d9-8f6c-dd9048155d70",
   "metadata": {},
   "outputs": [
    {
     "data": {
      "text/plain": [
       "array([5, 6, 7, 8])"
      ]
     },
     "execution_count": 203,
     "metadata": {},
     "output_type": "execute_result"
    }
   ],
   "source": [
    "arr5[1]"
   ]
  },
  {
   "cell_type": "code",
   "execution_count": 205,
   "id": "eb407ec1-abb6-46d7-b8ec-81ad26b4a437",
   "metadata": {},
   "outputs": [
    {
     "data": {
      "text/plain": [
       "2"
      ]
     },
     "execution_count": 205,
     "metadata": {},
     "output_type": "execute_result"
    }
   ],
   "source": [
    "arr5[0][1]"
   ]
  },
  {
   "cell_type": "code",
   "execution_count": 207,
   "id": "0f1caafe-c941-4511-be21-3e97e70db112",
   "metadata": {},
   "outputs": [
    {
     "data": {
      "text/plain": [
       "array([[1, 2, 3, 4],\n",
       "       [5, 6, 7, 8]])"
      ]
     },
     "execution_count": 207,
     "metadata": {},
     "output_type": "execute_result"
    }
   ],
   "source": [
    "arr5[:2]"
   ]
  },
  {
   "cell_type": "code",
   "execution_count": 209,
   "id": "fd2ce068-02b0-4141-8ae2-c527251e21b9",
   "metadata": {},
   "outputs": [
    {
     "data": {
      "text/plain": [
       "array([[3, 4],\n",
       "       [7, 8],\n",
       "       [0, 3]])"
      ]
     },
     "execution_count": 209,
     "metadata": {},
     "output_type": "execute_result"
    }
   ],
   "source": [
    "arr5[:,2:]"
   ]
  },
  {
   "cell_type": "code",
   "execution_count": 211,
   "id": "ec061c38-e881-47a3-bdad-4a55723c4cf3",
   "metadata": {},
   "outputs": [
    {
     "data": {
      "text/plain": [
       "array([[False, False, False, False],\n",
       "       [ True,  True,  True,  True],\n",
       "       [ True,  True, False, False]])"
      ]
     },
     "execution_count": 211,
     "metadata": {},
     "output_type": "execute_result"
    }
   ],
   "source": [
    "arr5 > 4"
   ]
  },
  {
   "cell_type": "code",
   "execution_count": 213,
   "id": "05a3577a-e731-4ee8-9c71-f83fb02b576b",
   "metadata": {},
   "outputs": [
    {
     "data": {
      "text/plain": [
       "array([5, 6, 7, 8, 5, 9])"
      ]
     },
     "execution_count": 213,
     "metadata": {},
     "output_type": "execute_result"
    }
   ],
   "source": [
    "arr5[arr5 > 4]"
   ]
  },
  {
   "cell_type": "markdown",
   "id": "08c925e1-1e6d-4de9-ac59-357392f9b108",
   "metadata": {},
   "source": [
    "<div>\n",
    "    <h2> Pandas</h2>\n",
    "</div>"
   ]
  },
  {
   "cell_type": "markdown",
   "id": "5d8ded56-9f90-4c8e-bc83-ab4a7ab9e345",
   "metadata": {},
   "source": [
    "<div>\n",
    "    <h4>\n",
    "        Pandas is a Python library used for data manipulation, analysis, and cleaning. It provides fast and flexible tools to work with structured data, such as tables (DataFrames) and series (1D data). </h4>\n",
    "</div>\n",
    "\n",
    "<p>\n",
    "    Key Reasons to Use Pandas:\n",
    "    <ul>\n",
    "        <li> Handles large datasets efficiently</li>\n",
    "        <li> Supports data cleaning and preprocessing</li>\n",
    "        <li> Works well with NumPy, Matplotlib, and SQL</li>\n",
    "        <li> Provides built-in statistical and mathematical functions</li>\n",
    "        <li> Can read and write multiple file formats (CSV, Excel, SQL, JSON, etc.)</li>\n",
    "    </ul>\n",
    "</p>\n"
   ]
  },
  {
   "cell_type": "code",
   "execution_count": 146,
   "id": "f0297507-79aa-4845-a385-9e6aa7b3ce1e",
   "metadata": {},
   "outputs": [],
   "source": [
    "import pandas as pd"
   ]
  },
  {
   "cell_type": "markdown",
   "id": "b079e239-d9de-4dda-80c4-47f583d5b11d",
   "metadata": {},
   "source": [
    "<div>\n",
    "    <h2>\n",
    "        DataFrame\n",
    "    </h2>\n",
    "</div>"
   ]
  },
  {
   "cell_type": "code",
   "execution_count": 151,
   "id": "6ab3fc26-a214-456d-b325-1460fb83e400",
   "metadata": {},
   "outputs": [
    {
     "name": "stdout",
     "output_type": "stream",
     "text": [
      "{'name': ['alice', 'anna', 'jack', 'july'], 'lastname': ['kepit', 'kia', 'muler', 'summet'], 'age': [24, 28, 25, 31], 'job': ['student', 'engineer', 'doctor', 'teacher']}\n"
     ]
    }
   ],
   "source": [
    "# Create a DataFrame from a Dictionary\n",
    "data = {\n",
    "    \"name\" : [\"alice\", \"anna\", \"jack\", \"july\"],\n",
    "    \"lastname\" : [\"kepit\", \"kia\", \"muler\" , \"summet\"],\n",
    "    \"age\" : [24, 28, 25, 31],\n",
    "    \"job\" : [\"student\", \"engineer\", \"doctor\", \"teacher\"]\n",
    "}\n",
    "print(data)"
   ]
  },
  {
   "cell_type": "code",
   "execution_count": 155,
   "id": "95530adf-57df-44fd-93b6-211284fd90b7",
   "metadata": {},
   "outputs": [
    {
     "data": {
      "text/html": [
       "<div>\n",
       "<style scoped>\n",
       "    .dataframe tbody tr th:only-of-type {\n",
       "        vertical-align: middle;\n",
       "    }\n",
       "\n",
       "    .dataframe tbody tr th {\n",
       "        vertical-align: top;\n",
       "    }\n",
       "\n",
       "    .dataframe thead th {\n",
       "        text-align: right;\n",
       "    }\n",
       "</style>\n",
       "<table border=\"1\" class=\"dataframe\">\n",
       "  <thead>\n",
       "    <tr style=\"text-align: right;\">\n",
       "      <th></th>\n",
       "      <th>name</th>\n",
       "      <th>lastname</th>\n",
       "      <th>age</th>\n",
       "      <th>job</th>\n",
       "    </tr>\n",
       "  </thead>\n",
       "  <tbody>\n",
       "    <tr>\n",
       "      <th>0</th>\n",
       "      <td>alice</td>\n",
       "      <td>kepit</td>\n",
       "      <td>24</td>\n",
       "      <td>student</td>\n",
       "    </tr>\n",
       "    <tr>\n",
       "      <th>1</th>\n",
       "      <td>anna</td>\n",
       "      <td>kia</td>\n",
       "      <td>28</td>\n",
       "      <td>engineer</td>\n",
       "    </tr>\n",
       "    <tr>\n",
       "      <th>2</th>\n",
       "      <td>jack</td>\n",
       "      <td>muler</td>\n",
       "      <td>25</td>\n",
       "      <td>doctor</td>\n",
       "    </tr>\n",
       "    <tr>\n",
       "      <th>3</th>\n",
       "      <td>july</td>\n",
       "      <td>summet</td>\n",
       "      <td>31</td>\n",
       "      <td>teacher</td>\n",
       "    </tr>\n",
       "  </tbody>\n",
       "</table>\n",
       "</div>"
      ],
      "text/plain": [
       "    name lastname  age       job\n",
       "0  alice    kepit   24   student\n",
       "1   anna      kia   28  engineer\n",
       "2   jack    muler   25    doctor\n",
       "3   july   summet   31   teacher"
      ]
     },
     "execution_count": 155,
     "metadata": {},
     "output_type": "execute_result"
    }
   ],
   "source": [
    "df = pd.DataFrame(data)\n",
    "df"
   ]
  },
  {
   "cell_type": "code",
   "execution_count": 157,
   "id": "3b90693b-1044-44c9-9540-1a19aeb06c5d",
   "metadata": {},
   "outputs": [
    {
     "data": {
      "text/plain": [
       "(4, 4)"
      ]
     },
     "execution_count": 157,
     "metadata": {},
     "output_type": "execute_result"
    }
   ],
   "source": [
    "# DataFrame Properties (Attributes)\n",
    "df.shape"
   ]
  },
  {
   "cell_type": "code",
   "execution_count": 226,
   "id": "963f0113-5894-4c0f-9f03-37e9436f7df4",
   "metadata": {},
   "outputs": [
    {
     "data": {
      "text/plain": [
       "16"
      ]
     },
     "execution_count": 226,
     "metadata": {},
     "output_type": "execute_result"
    }
   ],
   "source": [
    "df.size"
   ]
  },
  {
   "cell_type": "code",
   "execution_count": 228,
   "id": "6d8922f1-2cc4-4eac-a722-d47f932602ec",
   "metadata": {},
   "outputs": [
    {
     "data": {
      "text/plain": [
       "name        object\n",
       "lastname    object\n",
       "age          int64\n",
       "job         object\n",
       "dtype: object"
      ]
     },
     "execution_count": 228,
     "metadata": {},
     "output_type": "execute_result"
    }
   ],
   "source": [
    "df.dtypes"
   ]
  },
  {
   "cell_type": "code",
   "execution_count": 230,
   "id": "3916803e-0be9-4a3f-af35-09e17ab9eeeb",
   "metadata": {},
   "outputs": [
    {
     "data": {
      "text/plain": [
       "Index(['name', 'lastname', 'age', 'job'], dtype='object')"
      ]
     },
     "execution_count": 230,
     "metadata": {},
     "output_type": "execute_result"
    }
   ],
   "source": [
    "df.columns"
   ]
  },
  {
   "cell_type": "code",
   "execution_count": 232,
   "id": "585c8756-835e-4a14-bb3d-2af5367388b8",
   "metadata": {},
   "outputs": [
    {
     "data": {
      "text/plain": [
       "RangeIndex(start=0, stop=4, step=1)"
      ]
     },
     "execution_count": 232,
     "metadata": {},
     "output_type": "execute_result"
    }
   ],
   "source": [
    "df.index"
   ]
  },
  {
   "cell_type": "code",
   "execution_count": 234,
   "id": "bd774697-b7e7-4aa0-be54-7bee228faa4c",
   "metadata": {},
   "outputs": [
    {
     "data": {
      "text/html": [
       "<div>\n",
       "<style scoped>\n",
       "    .dataframe tbody tr th:only-of-type {\n",
       "        vertical-align: middle;\n",
       "    }\n",
       "\n",
       "    .dataframe tbody tr th {\n",
       "        vertical-align: top;\n",
       "    }\n",
       "\n",
       "    .dataframe thead th {\n",
       "        text-align: right;\n",
       "    }\n",
       "</style>\n",
       "<table border=\"1\" class=\"dataframe\">\n",
       "  <thead>\n",
       "    <tr style=\"text-align: right;\">\n",
       "      <th></th>\n",
       "      <th>name</th>\n",
       "    </tr>\n",
       "  </thead>\n",
       "  <tbody>\n",
       "    <tr>\n",
       "      <th>0</th>\n",
       "      <td>alice</td>\n",
       "    </tr>\n",
       "    <tr>\n",
       "      <th>1</th>\n",
       "      <td>anna</td>\n",
       "    </tr>\n",
       "    <tr>\n",
       "      <th>2</th>\n",
       "      <td>jack</td>\n",
       "    </tr>\n",
       "    <tr>\n",
       "      <th>3</th>\n",
       "      <td>july</td>\n",
       "    </tr>\n",
       "  </tbody>\n",
       "</table>\n",
       "</div>"
      ],
      "text/plain": [
       "    name\n",
       "0  alice\n",
       "1   anna\n",
       "2   jack\n",
       "3   july"
      ]
     },
     "execution_count": 234,
     "metadata": {},
     "output_type": "execute_result"
    }
   ],
   "source": [
    "# Access a Single Column\n",
    "df[[\"name\"]]"
   ]
  },
  {
   "cell_type": "code",
   "execution_count": 236,
   "id": "386d7c4c-773a-452a-96ef-fec708b3cf26",
   "metadata": {},
   "outputs": [
    {
     "data": {
      "text/html": [
       "<div>\n",
       "<style scoped>\n",
       "    .dataframe tbody tr th:only-of-type {\n",
       "        vertical-align: middle;\n",
       "    }\n",
       "\n",
       "    .dataframe tbody tr th {\n",
       "        vertical-align: top;\n",
       "    }\n",
       "\n",
       "    .dataframe thead th {\n",
       "        text-align: right;\n",
       "    }\n",
       "</style>\n",
       "<table border=\"1\" class=\"dataframe\">\n",
       "  <thead>\n",
       "    <tr style=\"text-align: right;\">\n",
       "      <th></th>\n",
       "      <th>name</th>\n",
       "      <th>job</th>\n",
       "    </tr>\n",
       "  </thead>\n",
       "  <tbody>\n",
       "    <tr>\n",
       "      <th>0</th>\n",
       "      <td>alice</td>\n",
       "      <td>student</td>\n",
       "    </tr>\n",
       "    <tr>\n",
       "      <th>1</th>\n",
       "      <td>anna</td>\n",
       "      <td>engineer</td>\n",
       "    </tr>\n",
       "    <tr>\n",
       "      <th>2</th>\n",
       "      <td>jack</td>\n",
       "      <td>doctor</td>\n",
       "    </tr>\n",
       "    <tr>\n",
       "      <th>3</th>\n",
       "      <td>july</td>\n",
       "      <td>teacher</td>\n",
       "    </tr>\n",
       "  </tbody>\n",
       "</table>\n",
       "</div>"
      ],
      "text/plain": [
       "    name       job\n",
       "0  alice   student\n",
       "1   anna  engineer\n",
       "2   jack    doctor\n",
       "3   july   teacher"
      ]
     },
     "execution_count": 236,
     "metadata": {},
     "output_type": "execute_result"
    }
   ],
   "source": [
    "df[[\"name\", \"job\"]]"
   ]
  },
  {
   "cell_type": "code",
   "execution_count": 238,
   "id": "fdaf49e7-4847-418c-ac6e-93ed23f7c00e",
   "metadata": {},
   "outputs": [
    {
     "data": {
      "text/plain": [
       "name            anna\n",
       "lastname         kia\n",
       "age               28\n",
       "job         engineer\n",
       "Name: 1, dtype: object"
      ]
     },
     "execution_count": 238,
     "metadata": {},
     "output_type": "execute_result"
    }
   ],
   "source": [
    "# loc & iloc\n",
    "df.loc[1]"
   ]
  },
  {
   "cell_type": "code",
   "execution_count": 240,
   "id": "4ba05205-9465-4582-a41c-d7a28f284f33",
   "metadata": {},
   "outputs": [
    {
     "name": "stdout",
     "output_type": "stream",
     "text": [
      "name            anna\n",
      "lastname         kia\n",
      "age               28\n",
      "job         engineer\n",
      "Name: 1, dtype: object\n"
     ]
    }
   ],
   "source": [
    "print(df.iloc[1])"
   ]
  },
  {
   "cell_type": "code",
   "execution_count": 242,
   "id": "07e41a5e-afeb-40f6-8729-53528eb3bbb5",
   "metadata": {},
   "outputs": [
    {
     "data": {
      "text/plain": [
       "<bound method DataFrame.info of     name lastname  age       job\n",
       "0  alice    kepit   24   student\n",
       "1   anna      kia   28  engineer\n",
       "2   jack    muler   25    doctor\n",
       "3   july   summet   31   teacher>"
      ]
     },
     "execution_count": 242,
     "metadata": {},
     "output_type": "execute_result"
    }
   ],
   "source": [
    "df.info"
   ]
  },
  {
   "cell_type": "code",
   "execution_count": 244,
   "id": "2f090ec8-6eba-4d13-90d2-8c2e5f5c8f85",
   "metadata": {},
   "outputs": [
    {
     "data": {
      "text/html": [
       "<div>\n",
       "<style scoped>\n",
       "    .dataframe tbody tr th:only-of-type {\n",
       "        vertical-align: middle;\n",
       "    }\n",
       "\n",
       "    .dataframe tbody tr th {\n",
       "        vertical-align: top;\n",
       "    }\n",
       "\n",
       "    .dataframe thead th {\n",
       "        text-align: right;\n",
       "    }\n",
       "</style>\n",
       "<table border=\"1\" class=\"dataframe\">\n",
       "  <thead>\n",
       "    <tr style=\"text-align: right;\">\n",
       "      <th></th>\n",
       "      <th>age</th>\n",
       "    </tr>\n",
       "  </thead>\n",
       "  <tbody>\n",
       "    <tr>\n",
       "      <th>count</th>\n",
       "      <td>4.000000</td>\n",
       "    </tr>\n",
       "    <tr>\n",
       "      <th>mean</th>\n",
       "      <td>27.000000</td>\n",
       "    </tr>\n",
       "    <tr>\n",
       "      <th>std</th>\n",
       "      <td>3.162278</td>\n",
       "    </tr>\n",
       "    <tr>\n",
       "      <th>min</th>\n",
       "      <td>24.000000</td>\n",
       "    </tr>\n",
       "    <tr>\n",
       "      <th>25%</th>\n",
       "      <td>24.750000</td>\n",
       "    </tr>\n",
       "    <tr>\n",
       "      <th>50%</th>\n",
       "      <td>26.500000</td>\n",
       "    </tr>\n",
       "    <tr>\n",
       "      <th>75%</th>\n",
       "      <td>28.750000</td>\n",
       "    </tr>\n",
       "    <tr>\n",
       "      <th>max</th>\n",
       "      <td>31.000000</td>\n",
       "    </tr>\n",
       "  </tbody>\n",
       "</table>\n",
       "</div>"
      ],
      "text/plain": [
       "             age\n",
       "count   4.000000\n",
       "mean   27.000000\n",
       "std     3.162278\n",
       "min    24.000000\n",
       "25%    24.750000\n",
       "50%    26.500000\n",
       "75%    28.750000\n",
       "max    31.000000"
      ]
     },
     "execution_count": 244,
     "metadata": {},
     "output_type": "execute_result"
    }
   ],
   "source": [
    "df.describe()"
   ]
  },
  {
   "cell_type": "code",
   "execution_count": 246,
   "id": "e8339c8a-53ed-4c88-8f1e-8563fa874c72",
   "metadata": {},
   "outputs": [
    {
     "data": {
      "text/html": [
       "<div>\n",
       "<style scoped>\n",
       "    .dataframe tbody tr th:only-of-type {\n",
       "        vertical-align: middle;\n",
       "    }\n",
       "\n",
       "    .dataframe tbody tr th {\n",
       "        vertical-align: top;\n",
       "    }\n",
       "\n",
       "    .dataframe thead th {\n",
       "        text-align: right;\n",
       "    }\n",
       "</style>\n",
       "<table border=\"1\" class=\"dataframe\">\n",
       "  <thead>\n",
       "    <tr style=\"text-align: right;\">\n",
       "      <th></th>\n",
       "      <th>name</th>\n",
       "      <th>lastname</th>\n",
       "      <th>age</th>\n",
       "      <th>job</th>\n",
       "    </tr>\n",
       "  </thead>\n",
       "  <tbody>\n",
       "    <tr>\n",
       "      <th>0</th>\n",
       "      <td>alice</td>\n",
       "      <td>kepit</td>\n",
       "      <td>24</td>\n",
       "      <td>student</td>\n",
       "    </tr>\n",
       "    <tr>\n",
       "      <th>2</th>\n",
       "      <td>jack</td>\n",
       "      <td>muler</td>\n",
       "      <td>25</td>\n",
       "      <td>doctor</td>\n",
       "    </tr>\n",
       "    <tr>\n",
       "      <th>1</th>\n",
       "      <td>anna</td>\n",
       "      <td>kia</td>\n",
       "      <td>28</td>\n",
       "      <td>engineer</td>\n",
       "    </tr>\n",
       "    <tr>\n",
       "      <th>3</th>\n",
       "      <td>july</td>\n",
       "      <td>summet</td>\n",
       "      <td>31</td>\n",
       "      <td>teacher</td>\n",
       "    </tr>\n",
       "  </tbody>\n",
       "</table>\n",
       "</div>"
      ],
      "text/plain": [
       "    name lastname  age       job\n",
       "0  alice    kepit   24   student\n",
       "2   jack    muler   25    doctor\n",
       "1   anna      kia   28  engineer\n",
       "3   july   summet   31   teacher"
      ]
     },
     "execution_count": 246,
     "metadata": {},
     "output_type": "execute_result"
    }
   ],
   "source": [
    "df.sort_values(by = \"age\")"
   ]
  },
  {
   "cell_type": "code",
   "execution_count": 248,
   "id": "772b4593-dc5b-4b2c-a70b-e1010a121af5",
   "metadata": {},
   "outputs": [
    {
     "data": {
      "text/html": [
       "<div>\n",
       "<style scoped>\n",
       "    .dataframe tbody tr th:only-of-type {\n",
       "        vertical-align: middle;\n",
       "    }\n",
       "\n",
       "    .dataframe tbody tr th {\n",
       "        vertical-align: top;\n",
       "    }\n",
       "\n",
       "    .dataframe thead th {\n",
       "        text-align: right;\n",
       "    }\n",
       "</style>\n",
       "<table border=\"1\" class=\"dataframe\">\n",
       "  <thead>\n",
       "    <tr style=\"text-align: right;\">\n",
       "      <th></th>\n",
       "      <th>name</th>\n",
       "      <th>lastname</th>\n",
       "      <th>age</th>\n",
       "      <th>job</th>\n",
       "    </tr>\n",
       "  </thead>\n",
       "  <tbody>\n",
       "    <tr>\n",
       "      <th>1</th>\n",
       "      <td>anna</td>\n",
       "      <td>kia</td>\n",
       "      <td>28</td>\n",
       "      <td>engineer</td>\n",
       "    </tr>\n",
       "    <tr>\n",
       "      <th>3</th>\n",
       "      <td>july</td>\n",
       "      <td>summet</td>\n",
       "      <td>31</td>\n",
       "      <td>teacher</td>\n",
       "    </tr>\n",
       "  </tbody>\n",
       "</table>\n",
       "</div>"
      ],
      "text/plain": [
       "   name lastname  age       job\n",
       "1  anna      kia   28  engineer\n",
       "3  july   summet   31   teacher"
      ]
     },
     "execution_count": 248,
     "metadata": {},
     "output_type": "execute_result"
    }
   ],
   "source": [
    "df[df[\"age\"] > 26]"
   ]
  },
  {
   "cell_type": "code",
   "execution_count": 250,
   "id": "d9c1c9d1-358b-4f8f-b0bf-ef5318af7715",
   "metadata": {},
   "outputs": [
    {
     "data": {
      "text/html": [
       "<div>\n",
       "<style scoped>\n",
       "    .dataframe tbody tr th:only-of-type {\n",
       "        vertical-align: middle;\n",
       "    }\n",
       "\n",
       "    .dataframe tbody tr th {\n",
       "        vertical-align: top;\n",
       "    }\n",
       "\n",
       "    .dataframe thead th {\n",
       "        text-align: right;\n",
       "    }\n",
       "</style>\n",
       "<table border=\"1\" class=\"dataframe\">\n",
       "  <thead>\n",
       "    <tr style=\"text-align: right;\">\n",
       "      <th></th>\n",
       "      <th>name</th>\n",
       "      <th>lastname</th>\n",
       "      <th>age</th>\n",
       "      <th>job</th>\n",
       "      <th>sex</th>\n",
       "    </tr>\n",
       "  </thead>\n",
       "  <tbody>\n",
       "    <tr>\n",
       "      <th>0</th>\n",
       "      <td>alice</td>\n",
       "      <td>kepit</td>\n",
       "      <td>24</td>\n",
       "      <td>student</td>\n",
       "      <td>F</td>\n",
       "    </tr>\n",
       "    <tr>\n",
       "      <th>1</th>\n",
       "      <td>anna</td>\n",
       "      <td>kia</td>\n",
       "      <td>28</td>\n",
       "      <td>engineer</td>\n",
       "      <td>F</td>\n",
       "    </tr>\n",
       "    <tr>\n",
       "      <th>2</th>\n",
       "      <td>jack</td>\n",
       "      <td>muler</td>\n",
       "      <td>25</td>\n",
       "      <td>doctor</td>\n",
       "      <td>M</td>\n",
       "    </tr>\n",
       "    <tr>\n",
       "      <th>3</th>\n",
       "      <td>july</td>\n",
       "      <td>summet</td>\n",
       "      <td>31</td>\n",
       "      <td>teacher</td>\n",
       "      <td>F</td>\n",
       "    </tr>\n",
       "  </tbody>\n",
       "</table>\n",
       "</div>"
      ],
      "text/plain": [
       "    name lastname  age       job sex\n",
       "0  alice    kepit   24   student   F\n",
       "1   anna      kia   28  engineer   F\n",
       "2   jack    muler   25    doctor   M\n",
       "3   july   summet   31   teacher   F"
      ]
     },
     "execution_count": 250,
     "metadata": {},
     "output_type": "execute_result"
    }
   ],
   "source": [
    "# Adding a New Column\n",
    "df[\"sex\"] = [\"F\", \"F\", \"M\", \"F\" ]\n",
    "df"
   ]
  },
  {
   "cell_type": "code",
   "execution_count": 252,
   "id": "59aae6c7-b283-4e08-b738-f0681c86a5ad",
   "metadata": {},
   "outputs": [
    {
     "data": {
      "text/html": [
       "<div>\n",
       "<style scoped>\n",
       "    .dataframe tbody tr th:only-of-type {\n",
       "        vertical-align: middle;\n",
       "    }\n",
       "\n",
       "    .dataframe tbody tr th {\n",
       "        vertical-align: top;\n",
       "    }\n",
       "\n",
       "    .dataframe thead th {\n",
       "        text-align: right;\n",
       "    }\n",
       "</style>\n",
       "<table border=\"1\" class=\"dataframe\">\n",
       "  <thead>\n",
       "    <tr style=\"text-align: right;\">\n",
       "      <th></th>\n",
       "      <th>name</th>\n",
       "      <th>lastname</th>\n",
       "      <th>job</th>\n",
       "      <th>sex</th>\n",
       "    </tr>\n",
       "  </thead>\n",
       "  <tbody>\n",
       "    <tr>\n",
       "      <th>0</th>\n",
       "      <td>alice</td>\n",
       "      <td>kepit</td>\n",
       "      <td>student</td>\n",
       "      <td>F</td>\n",
       "    </tr>\n",
       "    <tr>\n",
       "      <th>1</th>\n",
       "      <td>anna</td>\n",
       "      <td>kia</td>\n",
       "      <td>engineer</td>\n",
       "      <td>F</td>\n",
       "    </tr>\n",
       "    <tr>\n",
       "      <th>2</th>\n",
       "      <td>jack</td>\n",
       "      <td>muler</td>\n",
       "      <td>doctor</td>\n",
       "      <td>M</td>\n",
       "    </tr>\n",
       "    <tr>\n",
       "      <th>3</th>\n",
       "      <td>july</td>\n",
       "      <td>summet</td>\n",
       "      <td>teacher</td>\n",
       "      <td>F</td>\n",
       "    </tr>\n",
       "  </tbody>\n",
       "</table>\n",
       "</div>"
      ],
      "text/plain": [
       "    name lastname       job sex\n",
       "0  alice    kepit   student   F\n",
       "1   anna      kia  engineer   F\n",
       "2   jack    muler    doctor   M\n",
       "3   july   summet   teacher   F"
      ]
     },
     "execution_count": 252,
     "metadata": {},
     "output_type": "execute_result"
    }
   ],
   "source": [
    "# Dropping a column\n",
    "df.drop(columns = ['age'])"
   ]
  },
  {
   "cell_type": "code",
   "execution_count": 254,
   "id": "6d0d78e4-a841-4299-8728-6979044b662f",
   "metadata": {},
   "outputs": [
    {
     "data": {
      "text/html": [
       "<div>\n",
       "<style scoped>\n",
       "    .dataframe tbody tr th:only-of-type {\n",
       "        vertical-align: middle;\n",
       "    }\n",
       "\n",
       "    .dataframe tbody tr th {\n",
       "        vertical-align: top;\n",
       "    }\n",
       "\n",
       "    .dataframe thead th {\n",
       "        text-align: right;\n",
       "    }\n",
       "</style>\n",
       "<table border=\"1\" class=\"dataframe\">\n",
       "  <thead>\n",
       "    <tr style=\"text-align: right;\">\n",
       "      <th></th>\n",
       "      <th>name</th>\n",
       "      <th>lastname</th>\n",
       "      <th>age</th>\n",
       "      <th>job</th>\n",
       "      <th>sex</th>\n",
       "    </tr>\n",
       "  </thead>\n",
       "  <tbody>\n",
       "    <tr>\n",
       "      <th>0</th>\n",
       "      <td>alice</td>\n",
       "      <td>kepit</td>\n",
       "      <td>24</td>\n",
       "      <td>student</td>\n",
       "      <td>F</td>\n",
       "    </tr>\n",
       "    <tr>\n",
       "      <th>2</th>\n",
       "      <td>jack</td>\n",
       "      <td>muler</td>\n",
       "      <td>25</td>\n",
       "      <td>doctor</td>\n",
       "      <td>M</td>\n",
       "    </tr>\n",
       "    <tr>\n",
       "      <th>3</th>\n",
       "      <td>july</td>\n",
       "      <td>summet</td>\n",
       "      <td>31</td>\n",
       "      <td>teacher</td>\n",
       "      <td>F</td>\n",
       "    </tr>\n",
       "  </tbody>\n",
       "</table>\n",
       "</div>"
      ],
      "text/plain": [
       "    name lastname  age      job sex\n",
       "0  alice    kepit   24  student   F\n",
       "2   jack    muler   25   doctor   M\n",
       "3   july   summet   31  teacher   F"
      ]
     },
     "execution_count": 254,
     "metadata": {},
     "output_type": "execute_result"
    }
   ],
   "source": [
    "# Dropping a row\n",
    "df.drop(index = 1)"
   ]
  },
  {
   "cell_type": "markdown",
   "id": "46b2ed8b-8a73-421c-bff6-9bc4fc62a032",
   "metadata": {},
   "source": [
    "<div>\n",
    "    <h3> some exercises\n",
    "    </h3>\n",
    "</div>"
   ]
  },
  {
   "cell_type": "code",
   "execution_count": 257,
   "id": "85c8ec6b-aea9-4443-a3d1-1e3829c0f0ae",
   "metadata": {},
   "outputs": [
    {
     "data": {
      "text/html": [
       "<div>\n",
       "<style scoped>\n",
       "    .dataframe tbody tr th:only-of-type {\n",
       "        vertical-align: middle;\n",
       "    }\n",
       "\n",
       "    .dataframe tbody tr th {\n",
       "        vertical-align: top;\n",
       "    }\n",
       "\n",
       "    .dataframe thead th {\n",
       "        text-align: right;\n",
       "    }\n",
       "</style>\n",
       "<table border=\"1\" class=\"dataframe\">\n",
       "  <thead>\n",
       "    <tr style=\"text-align: right;\">\n",
       "      <th></th>\n",
       "      <th>G1</th>\n",
       "      <th>G2</th>\n",
       "      <th>G3</th>\n",
       "      <th>G4</th>\n",
       "    </tr>\n",
       "  </thead>\n",
       "  <tbody>\n",
       "    <tr>\n",
       "      <th>0</th>\n",
       "      <td>0</td>\n",
       "      <td>1</td>\n",
       "      <td>2</td>\n",
       "      <td>3</td>\n",
       "    </tr>\n",
       "    <tr>\n",
       "      <th>1</th>\n",
       "      <td>4</td>\n",
       "      <td>5</td>\n",
       "      <td>6</td>\n",
       "      <td>7</td>\n",
       "    </tr>\n",
       "    <tr>\n",
       "      <th>2</th>\n",
       "      <td>8</td>\n",
       "      <td>9</td>\n",
       "      <td>10</td>\n",
       "      <td>11</td>\n",
       "    </tr>\n",
       "  </tbody>\n",
       "</table>\n",
       "</div>"
      ],
      "text/plain": [
       "   G1  G2  G3  G4\n",
       "0   0   1   2   3\n",
       "1   4   5   6   7\n",
       "2   8   9  10  11"
      ]
     },
     "execution_count": 257,
     "metadata": {},
     "output_type": "execute_result"
    }
   ],
   "source": [
    "df = pd.DataFrame(np.arange(12).reshape(3,4), columns = [\"G1\", \"G2\", \"G3\", \"G4\"])\n",
    "df"
   ]
  },
  {
   "cell_type": "code",
   "execution_count": 259,
   "id": "e2db16be-c95b-4488-8ab1-2049e27554d9",
   "metadata": {},
   "outputs": [
    {
     "data": {
      "text/html": [
       "<div>\n",
       "<style scoped>\n",
       "    .dataframe tbody tr th:only-of-type {\n",
       "        vertical-align: middle;\n",
       "    }\n",
       "\n",
       "    .dataframe tbody tr th {\n",
       "        vertical-align: top;\n",
       "    }\n",
       "\n",
       "    .dataframe thead th {\n",
       "        text-align: right;\n",
       "    }\n",
       "</style>\n",
       "<table border=\"1\" class=\"dataframe\">\n",
       "  <thead>\n",
       "    <tr style=\"text-align: right;\">\n",
       "      <th></th>\n",
       "      <th>G1</th>\n",
       "      <th>G2</th>\n",
       "      <th>G3</th>\n",
       "      <th>G4</th>\n",
       "    </tr>\n",
       "  </thead>\n",
       "  <tbody>\n",
       "    <tr>\n",
       "      <th>1</th>\n",
       "      <td>4</td>\n",
       "      <td>5</td>\n",
       "      <td>6</td>\n",
       "      <td>7</td>\n",
       "    </tr>\n",
       "    <tr>\n",
       "      <th>2</th>\n",
       "      <td>8</td>\n",
       "      <td>9</td>\n",
       "      <td>10</td>\n",
       "      <td>11</td>\n",
       "    </tr>\n",
       "  </tbody>\n",
       "</table>\n",
       "</div>"
      ],
      "text/plain": [
       "   G1  G2  G3  G4\n",
       "1   4   5   6   7\n",
       "2   8   9  10  11"
      ]
     },
     "execution_count": 259,
     "metadata": {},
     "output_type": "execute_result"
    }
   ],
   "source": [
    "df.drop([0])"
   ]
  },
  {
   "cell_type": "code",
   "execution_count": 261,
   "id": "555e51f4-39b4-48d3-907b-8fbdfb5f1534",
   "metadata": {},
   "outputs": [
    {
     "data": {
      "text/html": [
       "<div>\n",
       "<style scoped>\n",
       "    .dataframe tbody tr th:only-of-type {\n",
       "        vertical-align: middle;\n",
       "    }\n",
       "\n",
       "    .dataframe tbody tr th {\n",
       "        vertical-align: top;\n",
       "    }\n",
       "\n",
       "    .dataframe thead th {\n",
       "        text-align: right;\n",
       "    }\n",
       "</style>\n",
       "<table border=\"1\" class=\"dataframe\">\n",
       "  <thead>\n",
       "    <tr style=\"text-align: right;\">\n",
       "      <th></th>\n",
       "      <th>G1</th>\n",
       "      <th>G3</th>\n",
       "      <th>G4</th>\n",
       "    </tr>\n",
       "  </thead>\n",
       "  <tbody>\n",
       "    <tr>\n",
       "      <th>0</th>\n",
       "      <td>0</td>\n",
       "      <td>2</td>\n",
       "      <td>3</td>\n",
       "    </tr>\n",
       "    <tr>\n",
       "      <th>1</th>\n",
       "      <td>4</td>\n",
       "      <td>6</td>\n",
       "      <td>7</td>\n",
       "    </tr>\n",
       "    <tr>\n",
       "      <th>2</th>\n",
       "      <td>8</td>\n",
       "      <td>10</td>\n",
       "      <td>11</td>\n",
       "    </tr>\n",
       "  </tbody>\n",
       "</table>\n",
       "</div>"
      ],
      "text/plain": [
       "   G1  G3  G4\n",
       "0   0   2   3\n",
       "1   4   6   7\n",
       "2   8  10  11"
      ]
     },
     "execution_count": 261,
     "metadata": {},
     "output_type": "execute_result"
    }
   ],
   "source": [
    "df.drop([\"G2\"], axis =1)"
   ]
  },
  {
   "cell_type": "code",
   "execution_count": 263,
   "id": "f4a580d3-48fd-41c0-814c-e8710fe03aeb",
   "metadata": {},
   "outputs": [],
   "source": [
    "df.insert(4, \"G5\", [4,6,7])"
   ]
  },
  {
   "cell_type": "code",
   "execution_count": 265,
   "id": "0a0a44d0-862d-47ab-9f7b-2336136c5391",
   "metadata": {},
   "outputs": [
    {
     "data": {
      "text/html": [
       "<div>\n",
       "<style scoped>\n",
       "    .dataframe tbody tr th:only-of-type {\n",
       "        vertical-align: middle;\n",
       "    }\n",
       "\n",
       "    .dataframe tbody tr th {\n",
       "        vertical-align: top;\n",
       "    }\n",
       "\n",
       "    .dataframe thead th {\n",
       "        text-align: right;\n",
       "    }\n",
       "</style>\n",
       "<table border=\"1\" class=\"dataframe\">\n",
       "  <thead>\n",
       "    <tr style=\"text-align: right;\">\n",
       "      <th></th>\n",
       "      <th>G1</th>\n",
       "      <th>G2</th>\n",
       "      <th>G3</th>\n",
       "      <th>G4</th>\n",
       "      <th>G5</th>\n",
       "    </tr>\n",
       "  </thead>\n",
       "  <tbody>\n",
       "    <tr>\n",
       "      <th>0</th>\n",
       "      <td>0</td>\n",
       "      <td>1</td>\n",
       "      <td>2</td>\n",
       "      <td>3</td>\n",
       "      <td>4</td>\n",
       "    </tr>\n",
       "    <tr>\n",
       "      <th>1</th>\n",
       "      <td>4</td>\n",
       "      <td>5</td>\n",
       "      <td>6</td>\n",
       "      <td>7</td>\n",
       "      <td>6</td>\n",
       "    </tr>\n",
       "    <tr>\n",
       "      <th>2</th>\n",
       "      <td>8</td>\n",
       "      <td>9</td>\n",
       "      <td>10</td>\n",
       "      <td>11</td>\n",
       "      <td>7</td>\n",
       "    </tr>\n",
       "  </tbody>\n",
       "</table>\n",
       "</div>"
      ],
      "text/plain": [
       "   G1  G2  G3  G4  G5\n",
       "0   0   1   2   3   4\n",
       "1   4   5   6   7   6\n",
       "2   8   9  10  11   7"
      ]
     },
     "execution_count": 265,
     "metadata": {},
     "output_type": "execute_result"
    }
   ],
   "source": [
    "df"
   ]
  },
  {
   "cell_type": "code",
   "execution_count": 267,
   "id": "ce8e5180-9fac-4831-a3e0-39aa9d8542f2",
   "metadata": {},
   "outputs": [
    {
     "data": {
      "text/plain": [
       "0    0\n",
       "1    4\n",
       "2    8\n",
       "Name: G1, dtype: int32"
      ]
     },
     "execution_count": 267,
     "metadata": {},
     "output_type": "execute_result"
    }
   ],
   "source": [
    "df[\"G1\"]"
   ]
  },
  {
   "cell_type": "code",
   "execution_count": 269,
   "id": "e0928275-161a-43a5-8ebf-2440de01f392",
   "metadata": {},
   "outputs": [
    {
     "data": {
      "text/html": [
       "<div>\n",
       "<style scoped>\n",
       "    .dataframe tbody tr th:only-of-type {\n",
       "        vertical-align: middle;\n",
       "    }\n",
       "\n",
       "    .dataframe tbody tr th {\n",
       "        vertical-align: top;\n",
       "    }\n",
       "\n",
       "    .dataframe thead th {\n",
       "        text-align: right;\n",
       "    }\n",
       "</style>\n",
       "<table border=\"1\" class=\"dataframe\">\n",
       "  <thead>\n",
       "    <tr style=\"text-align: right;\">\n",
       "      <th></th>\n",
       "      <th>G1</th>\n",
       "      <th>G5</th>\n",
       "    </tr>\n",
       "  </thead>\n",
       "  <tbody>\n",
       "    <tr>\n",
       "      <th>0</th>\n",
       "      <td>0</td>\n",
       "      <td>4</td>\n",
       "    </tr>\n",
       "    <tr>\n",
       "      <th>1</th>\n",
       "      <td>4</td>\n",
       "      <td>6</td>\n",
       "    </tr>\n",
       "    <tr>\n",
       "      <th>2</th>\n",
       "      <td>8</td>\n",
       "      <td>7</td>\n",
       "    </tr>\n",
       "  </tbody>\n",
       "</table>\n",
       "</div>"
      ],
      "text/plain": [
       "   G1  G5\n",
       "0   0   4\n",
       "1   4   6\n",
       "2   8   7"
      ]
     },
     "execution_count": 269,
     "metadata": {},
     "output_type": "execute_result"
    }
   ],
   "source": [
    "df[[\"G1\", \"G5\"]]"
   ]
  },
  {
   "cell_type": "code",
   "execution_count": 271,
   "id": "d5b59bf2-056a-4e29-8af3-179c713a104d",
   "metadata": {},
   "outputs": [
    {
     "data": {
      "text/plain": [
       "G1    4\n",
       "G2    5\n",
       "G3    6\n",
       "G4    7\n",
       "G5    6\n",
       "Name: 1, dtype: int64"
      ]
     },
     "execution_count": 271,
     "metadata": {},
     "output_type": "execute_result"
    }
   ],
   "source": [
    "df.loc[1,]"
   ]
  },
  {
   "cell_type": "code",
   "execution_count": 273,
   "id": "c0a6c8fb-dfe0-4abc-8484-47f37e1f5cde",
   "metadata": {},
   "outputs": [
    {
     "data": {
      "text/plain": [
       "6"
      ]
     },
     "execution_count": 273,
     "metadata": {},
     "output_type": "execute_result"
    }
   ],
   "source": [
    "df.loc[1,\"G5\"]"
   ]
  },
  {
   "cell_type": "code",
   "execution_count": 274,
   "id": "d29afffa-420b-4ab0-9aaf-6cca0c91fe0c",
   "metadata": {},
   "outputs": [
    {
     "data": {
      "text/html": [
       "<div>\n",
       "<style scoped>\n",
       "    .dataframe tbody tr th:only-of-type {\n",
       "        vertical-align: middle;\n",
       "    }\n",
       "\n",
       "    .dataframe tbody tr th {\n",
       "        vertical-align: top;\n",
       "    }\n",
       "\n",
       "    .dataframe thead th {\n",
       "        text-align: right;\n",
       "    }\n",
       "</style>\n",
       "<table border=\"1\" class=\"dataframe\">\n",
       "  <thead>\n",
       "    <tr style=\"text-align: right;\">\n",
       "      <th></th>\n",
       "      <th>G1</th>\n",
       "      <th>G2</th>\n",
       "      <th>G3</th>\n",
       "      <th>G4</th>\n",
       "      <th>G5</th>\n",
       "    </tr>\n",
       "  </thead>\n",
       "  <tbody>\n",
       "    <tr>\n",
       "      <th>1</th>\n",
       "      <td>4</td>\n",
       "      <td>5</td>\n",
       "      <td>6</td>\n",
       "      <td>7</td>\n",
       "      <td>6</td>\n",
       "    </tr>\n",
       "  </tbody>\n",
       "</table>\n",
       "</div>"
      ],
      "text/plain": [
       "   G1  G2  G3  G4  G5\n",
       "1   4   5   6   7   6"
      ]
     },
     "execution_count": 274,
     "metadata": {},
     "output_type": "execute_result"
    }
   ],
   "source": [
    "df.loc[[1,]]"
   ]
  },
  {
   "cell_type": "code",
   "execution_count": 277,
   "id": "c056d938-42d2-40f8-a7ab-158cc9981b3e",
   "metadata": {},
   "outputs": [
    {
     "data": {
      "text/html": [
       "<div>\n",
       "<style scoped>\n",
       "    .dataframe tbody tr th:only-of-type {\n",
       "        vertical-align: middle;\n",
       "    }\n",
       "\n",
       "    .dataframe tbody tr th {\n",
       "        vertical-align: top;\n",
       "    }\n",
       "\n",
       "    .dataframe thead th {\n",
       "        text-align: right;\n",
       "    }\n",
       "</style>\n",
       "<table border=\"1\" class=\"dataframe\">\n",
       "  <thead>\n",
       "    <tr style=\"text-align: right;\">\n",
       "      <th></th>\n",
       "      <th>G1</th>\n",
       "      <th>G2</th>\n",
       "    </tr>\n",
       "  </thead>\n",
       "  <tbody>\n",
       "    <tr>\n",
       "      <th>0</th>\n",
       "      <td>0</td>\n",
       "      <td>1</td>\n",
       "    </tr>\n",
       "    <tr>\n",
       "      <th>1</th>\n",
       "      <td>4</td>\n",
       "      <td>5</td>\n",
       "    </tr>\n",
       "    <tr>\n",
       "      <th>2</th>\n",
       "      <td>8</td>\n",
       "      <td>9</td>\n",
       "    </tr>\n",
       "  </tbody>\n",
       "</table>\n",
       "</div>"
      ],
      "text/plain": [
       "   G1  G2\n",
       "0   0   1\n",
       "1   4   5\n",
       "2   8   9"
      ]
     },
     "execution_count": 277,
     "metadata": {},
     "output_type": "execute_result"
    }
   ],
   "source": [
    "df.loc[[0, 1, 2], [\"G1\", \"G2\"]]"
   ]
  },
  {
   "cell_type": "code",
   "execution_count": 297,
   "id": "8fa0944e-bdc7-4204-96df-668b32cd069a",
   "metadata": {},
   "outputs": [
    {
     "data": {
      "text/html": [
       "<div>\n",
       "<style scoped>\n",
       "    .dataframe tbody tr th:only-of-type {\n",
       "        vertical-align: middle;\n",
       "    }\n",
       "\n",
       "    .dataframe tbody tr th {\n",
       "        vertical-align: top;\n",
       "    }\n",
       "\n",
       "    .dataframe thead th {\n",
       "        text-align: right;\n",
       "    }\n",
       "</style>\n",
       "<table border=\"1\" class=\"dataframe\">\n",
       "  <thead>\n",
       "    <tr style=\"text-align: right;\">\n",
       "      <th></th>\n",
       "      <th>G1</th>\n",
       "      <th>G2</th>\n",
       "    </tr>\n",
       "  </thead>\n",
       "  <tbody>\n",
       "    <tr>\n",
       "      <th>0</th>\n",
       "      <td>0</td>\n",
       "      <td>1</td>\n",
       "    </tr>\n",
       "    <tr>\n",
       "      <th>1</th>\n",
       "      <td>4</td>\n",
       "      <td>5</td>\n",
       "    </tr>\n",
       "  </tbody>\n",
       "</table>\n",
       "</div>"
      ],
      "text/plain": [
       "   G1  G2\n",
       "0   0   1\n",
       "1   4   5"
      ]
     },
     "execution_count": 297,
     "metadata": {},
     "output_type": "execute_result"
    }
   ],
   "source": [
    "df.iloc[[0,1], [0,1]]"
   ]
  },
  {
   "cell_type": "code",
   "execution_count": 299,
   "id": "91fd55fe-bced-4c85-82ad-6703662422a6",
   "metadata": {},
   "outputs": [
    {
     "data": {
      "text/html": [
       "<div>\n",
       "<style scoped>\n",
       "    .dataframe tbody tr th:only-of-type {\n",
       "        vertical-align: middle;\n",
       "    }\n",
       "\n",
       "    .dataframe tbody tr th {\n",
       "        vertical-align: top;\n",
       "    }\n",
       "\n",
       "    .dataframe thead th {\n",
       "        text-align: right;\n",
       "    }\n",
       "</style>\n",
       "<table border=\"1\" class=\"dataframe\">\n",
       "  <thead>\n",
       "    <tr style=\"text-align: right;\">\n",
       "      <th></th>\n",
       "      <th>C1</th>\n",
       "      <th>C2</th>\n",
       "      <th>C3</th>\n",
       "      <th>C4</th>\n",
       "    </tr>\n",
       "  </thead>\n",
       "  <tbody>\n",
       "    <tr>\n",
       "      <th>0</th>\n",
       "      <td>0</td>\n",
       "      <td>1</td>\n",
       "      <td>2</td>\n",
       "      <td>3</td>\n",
       "    </tr>\n",
       "    <tr>\n",
       "      <th>1</th>\n",
       "      <td>4</td>\n",
       "      <td>5</td>\n",
       "      <td>6</td>\n",
       "      <td>7</td>\n",
       "    </tr>\n",
       "    <tr>\n",
       "      <th>2</th>\n",
       "      <td>8</td>\n",
       "      <td>9</td>\n",
       "      <td>10</td>\n",
       "      <td>11</td>\n",
       "    </tr>\n",
       "    <tr>\n",
       "      <th>3</th>\n",
       "      <td>12</td>\n",
       "      <td>13</td>\n",
       "      <td>14</td>\n",
       "      <td>15</td>\n",
       "    </tr>\n",
       "  </tbody>\n",
       "</table>\n",
       "</div>"
      ],
      "text/plain": [
       "   C1  C2  C3  C4\n",
       "0   0   1   2   3\n",
       "1   4   5   6   7\n",
       "2   8   9  10  11\n",
       "3  12  13  14  15"
      ]
     },
     "execution_count": 299,
     "metadata": {},
     "output_type": "execute_result"
    }
   ],
   "source": [
    "df2 = pd.DataFrame(np.arange(16).reshape(4,4), columns= [\"C1\" , \"C2\", \"C3\", \"C4\" ])\n",
    "df2"
   ]
  },
  {
   "cell_type": "code",
   "execution_count": 301,
   "id": "db680f85-58ab-43ad-864d-48e42c0cd8d7",
   "metadata": {},
   "outputs": [
    {
     "data": {
      "text/html": [
       "<div>\n",
       "<style scoped>\n",
       "    .dataframe tbody tr th:only-of-type {\n",
       "        vertical-align: middle;\n",
       "    }\n",
       "\n",
       "    .dataframe tbody tr th {\n",
       "        vertical-align: top;\n",
       "    }\n",
       "\n",
       "    .dataframe thead th {\n",
       "        text-align: right;\n",
       "    }\n",
       "</style>\n",
       "<table border=\"1\" class=\"dataframe\">\n",
       "  <thead>\n",
       "    <tr style=\"text-align: right;\">\n",
       "      <th></th>\n",
       "      <th>C1</th>\n",
       "      <th>C2</th>\n",
       "      <th>C3</th>\n",
       "      <th>C4</th>\n",
       "    </tr>\n",
       "  </thead>\n",
       "  <tbody>\n",
       "    <tr>\n",
       "      <th>0</th>\n",
       "      <td>0</td>\n",
       "      <td>1</td>\n",
       "      <td>2</td>\n",
       "      <td>3</td>\n",
       "    </tr>\n",
       "    <tr>\n",
       "      <th>1</th>\n",
       "      <td>4</td>\n",
       "      <td>5</td>\n",
       "      <td>6</td>\n",
       "      <td>7</td>\n",
       "    </tr>\n",
       "    <tr>\n",
       "      <th>2</th>\n",
       "      <td>8</td>\n",
       "      <td>9</td>\n",
       "      <td>10</td>\n",
       "      <td>11</td>\n",
       "    </tr>\n",
       "    <tr>\n",
       "      <th>3</th>\n",
       "      <td>12</td>\n",
       "      <td>13</td>\n",
       "      <td>14</td>\n",
       "      <td>15</td>\n",
       "    </tr>\n",
       "  </tbody>\n",
       "</table>\n",
       "</div>"
      ],
      "text/plain": [
       "   C1  C2  C3  C4\n",
       "0   0   1   2   3\n",
       "1   4   5   6   7\n",
       "2   8   9  10  11\n",
       "3  12  13  14  15"
      ]
     },
     "execution_count": 301,
     "metadata": {},
     "output_type": "execute_result"
    }
   ],
   "source": [
    "df2.sort_values([\"C2\"]) "
   ]
  },
  {
   "cell_type": "code",
   "execution_count": 303,
   "id": "9db95835-4474-4daf-b731-2b1930f2efd5",
   "metadata": {},
   "outputs": [
    {
     "data": {
      "text/plain": [
       "0     True\n",
       "1    False\n",
       "2    False\n",
       "3    False\n",
       "Name: C2, dtype: bool"
      ]
     },
     "execution_count": 303,
     "metadata": {},
     "output_type": "execute_result"
    }
   ],
   "source": [
    "df2[\"C2\"] ==1"
   ]
  },
  {
   "cell_type": "code",
   "execution_count": 305,
   "id": "da001c73-904e-483f-969a-bfcd8d5d20ec",
   "metadata": {},
   "outputs": [
    {
     "data": {
      "text/html": [
       "<div>\n",
       "<style scoped>\n",
       "    .dataframe tbody tr th:only-of-type {\n",
       "        vertical-align: middle;\n",
       "    }\n",
       "\n",
       "    .dataframe tbody tr th {\n",
       "        vertical-align: top;\n",
       "    }\n",
       "\n",
       "    .dataframe thead th {\n",
       "        text-align: right;\n",
       "    }\n",
       "</style>\n",
       "<table border=\"1\" class=\"dataframe\">\n",
       "  <thead>\n",
       "    <tr style=\"text-align: right;\">\n",
       "      <th></th>\n",
       "      <th>C1</th>\n",
       "      <th>C2</th>\n",
       "      <th>C3</th>\n",
       "      <th>C4</th>\n",
       "    </tr>\n",
       "  </thead>\n",
       "  <tbody>\n",
       "    <tr>\n",
       "      <th>0</th>\n",
       "      <td>0</td>\n",
       "      <td>1</td>\n",
       "      <td>2</td>\n",
       "      <td>3</td>\n",
       "    </tr>\n",
       "  </tbody>\n",
       "</table>\n",
       "</div>"
      ],
      "text/plain": [
       "   C1  C2  C3  C4\n",
       "0   0   1   2   3"
      ]
     },
     "execution_count": 305,
     "metadata": {},
     "output_type": "execute_result"
    }
   ],
   "source": [
    "df2[df2[\"C2\"]==1]"
   ]
  },
  {
   "cell_type": "code",
   "execution_count": 309,
   "id": "948b2606-aa72-44bb-9c3b-86f246984b3a",
   "metadata": {},
   "outputs": [
    {
     "data": {
      "text/html": [
       "<div>\n",
       "<style scoped>\n",
       "    .dataframe tbody tr th:only-of-type {\n",
       "        vertical-align: middle;\n",
       "    }\n",
       "\n",
       "    .dataframe tbody tr th {\n",
       "        vertical-align: top;\n",
       "    }\n",
       "\n",
       "    .dataframe thead th {\n",
       "        text-align: right;\n",
       "    }\n",
       "</style>\n",
       "<table border=\"1\" class=\"dataframe\">\n",
       "  <thead>\n",
       "    <tr style=\"text-align: right;\">\n",
       "      <th></th>\n",
       "      <th>C1</th>\n",
       "      <th>C2</th>\n",
       "      <th>C3</th>\n",
       "      <th>C4</th>\n",
       "    </tr>\n",
       "  </thead>\n",
       "  <tbody>\n",
       "    <tr>\n",
       "      <th>0</th>\n",
       "      <td>0</td>\n",
       "      <td>1</td>\n",
       "      <td>2</td>\n",
       "      <td>3</td>\n",
       "    </tr>\n",
       "    <tr>\n",
       "      <th>1</th>\n",
       "      <td>4</td>\n",
       "      <td>5</td>\n",
       "      <td>6</td>\n",
       "      <td>7</td>\n",
       "    </tr>\n",
       "  </tbody>\n",
       "</table>\n",
       "</div>"
      ],
      "text/plain": [
       "   C1  C2  C3  C4\n",
       "0   0   1   2   3\n",
       "1   4   5   6   7"
      ]
     },
     "execution_count": 309,
     "metadata": {},
     "output_type": "execute_result"
    }
   ],
   "source": [
    "df2[(df2[\"C2\"]==1) | (df2[\"C2\"]==5)]"
   ]
  },
  {
   "cell_type": "code",
   "execution_count": 311,
   "id": "6396eef7-ae13-4ff4-b9c7-9e911798fff7",
   "metadata": {},
   "outputs": [
    {
     "data": {
      "text/html": [
       "<div>\n",
       "<style scoped>\n",
       "    .dataframe tbody tr th:only-of-type {\n",
       "        vertical-align: middle;\n",
       "    }\n",
       "\n",
       "    .dataframe tbody tr th {\n",
       "        vertical-align: top;\n",
       "    }\n",
       "\n",
       "    .dataframe thead th {\n",
       "        text-align: right;\n",
       "    }\n",
       "</style>\n",
       "<table border=\"1\" class=\"dataframe\">\n",
       "  <thead>\n",
       "    <tr style=\"text-align: right;\">\n",
       "      <th></th>\n",
       "      <th>C1</th>\n",
       "      <th>C2</th>\n",
       "      <th>C3</th>\n",
       "      <th>C4</th>\n",
       "    </tr>\n",
       "  </thead>\n",
       "  <tbody>\n",
       "    <tr>\n",
       "      <th>0</th>\n",
       "      <td>0</td>\n",
       "      <td>1</td>\n",
       "      <td>2</td>\n",
       "      <td>3</td>\n",
       "    </tr>\n",
       "  </tbody>\n",
       "</table>\n",
       "</div>"
      ],
      "text/plain": [
       "   C1  C2  C3  C4\n",
       "0   0   1   2   3"
      ]
     },
     "execution_count": 311,
     "metadata": {},
     "output_type": "execute_result"
    }
   ],
   "source": [
    "df2[(df2[\"C2\"]==1) & (df2[\"C1\"]==0)]"
   ]
  },
  {
   "cell_type": "code",
   "execution_count": 323,
   "id": "68d84595-bcdc-412a-bebe-e3c565b577d4",
   "metadata": {},
   "outputs": [],
   "source": [
    "x = np.logical_or(df2[\"C1\"] == 4, df2[\"C2\"]==0)"
   ]
  },
  {
   "cell_type": "code",
   "execution_count": 325,
   "id": "3a825ef0-d2c4-422e-8b90-ac29ee01cbfc",
   "metadata": {},
   "outputs": [
    {
     "data": {
      "text/html": [
       "<div>\n",
       "<style scoped>\n",
       "    .dataframe tbody tr th:only-of-type {\n",
       "        vertical-align: middle;\n",
       "    }\n",
       "\n",
       "    .dataframe tbody tr th {\n",
       "        vertical-align: top;\n",
       "    }\n",
       "\n",
       "    .dataframe thead th {\n",
       "        text-align: right;\n",
       "    }\n",
       "</style>\n",
       "<table border=\"1\" class=\"dataframe\">\n",
       "  <thead>\n",
       "    <tr style=\"text-align: right;\">\n",
       "      <th></th>\n",
       "      <th>C1</th>\n",
       "      <th>C2</th>\n",
       "      <th>C3</th>\n",
       "      <th>C4</th>\n",
       "    </tr>\n",
       "  </thead>\n",
       "  <tbody>\n",
       "    <tr>\n",
       "      <th>1</th>\n",
       "      <td>4</td>\n",
       "      <td>5</td>\n",
       "      <td>6</td>\n",
       "      <td>7</td>\n",
       "    </tr>\n",
       "  </tbody>\n",
       "</table>\n",
       "</div>"
      ],
      "text/plain": [
       "   C1  C2  C3  C4\n",
       "1   4   5   6   7"
      ]
     },
     "execution_count": 325,
     "metadata": {},
     "output_type": "execute_result"
    }
   ],
   "source": [
    "df2[x]"
   ]
  },
  {
   "cell_type": "code",
   "execution_count": 331,
   "id": "88d77c3e-286d-455c-be36-967f4b2d54e2",
   "metadata": {},
   "outputs": [
    {
     "data": {
      "text/html": [
       "<div>\n",
       "<style scoped>\n",
       "    .dataframe tbody tr th:only-of-type {\n",
       "        vertical-align: middle;\n",
       "    }\n",
       "\n",
       "    .dataframe tbody tr th {\n",
       "        vertical-align: top;\n",
       "    }\n",
       "\n",
       "    .dataframe thead th {\n",
       "        text-align: right;\n",
       "    }\n",
       "</style>\n",
       "<table border=\"1\" class=\"dataframe\">\n",
       "  <thead>\n",
       "    <tr style=\"text-align: right;\">\n",
       "      <th></th>\n",
       "      <th>C1</th>\n",
       "      <th>C2</th>\n",
       "      <th>C3</th>\n",
       "      <th>C4</th>\n",
       "    </tr>\n",
       "  </thead>\n",
       "  <tbody>\n",
       "    <tr>\n",
       "      <th>3</th>\n",
       "      <td>12</td>\n",
       "      <td>13</td>\n",
       "      <td>14</td>\n",
       "      <td>15</td>\n",
       "    </tr>\n",
       "  </tbody>\n",
       "</table>\n",
       "</div>"
      ],
      "text/plain": [
       "   C1  C2  C3  C4\n",
       "3  12  13  14  15"
      ]
     },
     "execution_count": 331,
     "metadata": {},
     "output_type": "execute_result"
    }
   ],
   "source": [
    "df2[np.logical_and(df2[\"C2\"]==13,df2[\"C4\"]==15)]"
   ]
  },
  {
   "cell_type": "code",
   "execution_count": 335,
   "id": "90f59056-c571-4a22-b450-84937b6be9ad",
   "metadata": {},
   "outputs": [
    {
     "data": {
      "text/html": [
       "<div>\n",
       "<style scoped>\n",
       "    .dataframe tbody tr th:only-of-type {\n",
       "        vertical-align: middle;\n",
       "    }\n",
       "\n",
       "    .dataframe tbody tr th {\n",
       "        vertical-align: top;\n",
       "    }\n",
       "\n",
       "    .dataframe thead th {\n",
       "        text-align: right;\n",
       "    }\n",
       "</style>\n",
       "<table border=\"1\" class=\"dataframe\">\n",
       "  <thead>\n",
       "    <tr style=\"text-align: right;\">\n",
       "      <th></th>\n",
       "      <th>C1</th>\n",
       "      <th>C2</th>\n",
       "      <th>C3</th>\n",
       "      <th>C4</th>\n",
       "    </tr>\n",
       "  </thead>\n",
       "  <tbody>\n",
       "    <tr>\n",
       "      <th>0</th>\n",
       "      <td>0</td>\n",
       "      <td>1</td>\n",
       "      <td>2</td>\n",
       "      <td>3</td>\n",
       "    </tr>\n",
       "    <tr>\n",
       "      <th>1</th>\n",
       "      <td>4</td>\n",
       "      <td>5</td>\n",
       "      <td>6</td>\n",
       "      <td>7</td>\n",
       "    </tr>\n",
       "    <tr>\n",
       "      <th>3</th>\n",
       "      <td>12</td>\n",
       "      <td>13</td>\n",
       "      <td>14</td>\n",
       "      <td>15</td>\n",
       "    </tr>\n",
       "  </tbody>\n",
       "</table>\n",
       "</div>"
      ],
      "text/plain": [
       "   C1  C2  C3  C4\n",
       "0   0   1   2   3\n",
       "1   4   5   6   7\n",
       "3  12  13  14  15"
      ]
     },
     "execution_count": 335,
     "metadata": {},
     "output_type": "execute_result"
    }
   ],
   "source": [
    "#.isin\n",
    "y = df2[\"C2\"].isin([1,5,13])\n",
    "df2[y]"
   ]
  },
  {
   "cell_type": "code",
   "execution_count": 363,
   "id": "c07a7038-5690-413c-b7b7-1a83b10994e0",
   "metadata": {},
   "outputs": [
    {
     "data": {
      "text/plain": [
       "array([[0.40600317, 0.7466565 , 0.51230827, 0.22897383, 0.30117051],\n",
       "       [0.15163937, 0.60664452, 0.95508608, 0.91777906, 0.26447308],\n",
       "       [0.89396664, 0.32602418, 0.4690327 , 0.23594364, 0.67175846],\n",
       "       [0.79684702, 0.31528727, 0.36691845, 0.71575166, 0.70381881],\n",
       "       [0.52505781, 0.41570013, 0.40764601, 0.63861839, 0.58412934],\n",
       "       [0.21884215, 0.45177314, 0.49910727, 0.11278189, 0.46630949],\n",
       "       [0.42895061, 0.58015023, 0.15946149, 0.17678508, 0.48128785],\n",
       "       [0.9111408 , 0.65099294, 0.29496463, 0.1947107 , 0.00135619],\n",
       "       [0.69747131, 0.40051868, 0.17658725, 0.01853731, 0.40676329],\n",
       "       [0.84954299, 0.33942047, 0.91691634, 0.15705039, 0.77253285]])"
      ]
     },
     "execution_count": 363,
     "metadata": {},
     "output_type": "execute_result"
    }
   ],
   "source": [
    "data = np.random.rand(10,5)\n",
    "data"
   ]
  },
  {
   "cell_type": "code",
   "execution_count": 365,
   "id": "3c5d6a11-959e-46b3-8dca-16981acc093e",
   "metadata": {},
   "outputs": [
    {
     "data": {
      "text/html": [
       "<div>\n",
       "<style scoped>\n",
       "    .dataframe tbody tr th:only-of-type {\n",
       "        vertical-align: middle;\n",
       "    }\n",
       "\n",
       "    .dataframe tbody tr th {\n",
       "        vertical-align: top;\n",
       "    }\n",
       "\n",
       "    .dataframe thead th {\n",
       "        text-align: right;\n",
       "    }\n",
       "</style>\n",
       "<table border=\"1\" class=\"dataframe\">\n",
       "  <thead>\n",
       "    <tr style=\"text-align: right;\">\n",
       "      <th></th>\n",
       "      <th>Canada</th>\n",
       "      <th>USA</th>\n",
       "      <th>China</th>\n",
       "      <th>Italy</th>\n",
       "      <th>France</th>\n",
       "    </tr>\n",
       "  </thead>\n",
       "  <tbody>\n",
       "    <tr>\n",
       "      <th>2020</th>\n",
       "      <td>0.406003</td>\n",
       "      <td>0.746657</td>\n",
       "      <td>0.512308</td>\n",
       "      <td>0.228974</td>\n",
       "      <td>0.301171</td>\n",
       "    </tr>\n",
       "    <tr>\n",
       "      <th>2021</th>\n",
       "      <td>0.151639</td>\n",
       "      <td>0.606645</td>\n",
       "      <td>0.955086</td>\n",
       "      <td>0.917779</td>\n",
       "      <td>0.264473</td>\n",
       "    </tr>\n",
       "    <tr>\n",
       "      <th>2022</th>\n",
       "      <td>0.893967</td>\n",
       "      <td>0.326024</td>\n",
       "      <td>0.469033</td>\n",
       "      <td>0.235944</td>\n",
       "      <td>0.671758</td>\n",
       "    </tr>\n",
       "    <tr>\n",
       "      <th>2023</th>\n",
       "      <td>0.796847</td>\n",
       "      <td>0.315287</td>\n",
       "      <td>0.366918</td>\n",
       "      <td>0.715752</td>\n",
       "      <td>0.703819</td>\n",
       "    </tr>\n",
       "    <tr>\n",
       "      <th>2024</th>\n",
       "      <td>0.525058</td>\n",
       "      <td>0.415700</td>\n",
       "      <td>0.407646</td>\n",
       "      <td>0.638618</td>\n",
       "      <td>0.584129</td>\n",
       "    </tr>\n",
       "    <tr>\n",
       "      <th>2025</th>\n",
       "      <td>0.218842</td>\n",
       "      <td>0.451773</td>\n",
       "      <td>0.499107</td>\n",
       "      <td>0.112782</td>\n",
       "      <td>0.466309</td>\n",
       "    </tr>\n",
       "    <tr>\n",
       "      <th>2026</th>\n",
       "      <td>0.428951</td>\n",
       "      <td>0.580150</td>\n",
       "      <td>0.159461</td>\n",
       "      <td>0.176785</td>\n",
       "      <td>0.481288</td>\n",
       "    </tr>\n",
       "    <tr>\n",
       "      <th>2027</th>\n",
       "      <td>0.911141</td>\n",
       "      <td>0.650993</td>\n",
       "      <td>0.294965</td>\n",
       "      <td>0.194711</td>\n",
       "      <td>0.001356</td>\n",
       "    </tr>\n",
       "    <tr>\n",
       "      <th>2028</th>\n",
       "      <td>0.697471</td>\n",
       "      <td>0.400519</td>\n",
       "      <td>0.176587</td>\n",
       "      <td>0.018537</td>\n",
       "      <td>0.406763</td>\n",
       "    </tr>\n",
       "    <tr>\n",
       "      <th>2029</th>\n",
       "      <td>0.849543</td>\n",
       "      <td>0.339420</td>\n",
       "      <td>0.916916</td>\n",
       "      <td>0.157050</td>\n",
       "      <td>0.772533</td>\n",
       "    </tr>\n",
       "  </tbody>\n",
       "</table>\n",
       "</div>"
      ],
      "text/plain": [
       "        Canada       USA     China     Italy    France\n",
       "2020  0.406003  0.746657  0.512308  0.228974  0.301171\n",
       "2021  0.151639  0.606645  0.955086  0.917779  0.264473\n",
       "2022  0.893967  0.326024  0.469033  0.235944  0.671758\n",
       "2023  0.796847  0.315287  0.366918  0.715752  0.703819\n",
       "2024  0.525058  0.415700  0.407646  0.638618  0.584129\n",
       "2025  0.218842  0.451773  0.499107  0.112782  0.466309\n",
       "2026  0.428951  0.580150  0.159461  0.176785  0.481288\n",
       "2027  0.911141  0.650993  0.294965  0.194711  0.001356\n",
       "2028  0.697471  0.400519  0.176587  0.018537  0.406763\n",
       "2029  0.849543  0.339420  0.916916  0.157050  0.772533"
      ]
     },
     "execution_count": 365,
     "metadata": {},
     "output_type": "execute_result"
    }
   ],
   "source": [
    "df = pd.DataFrame(data, [2020, 2021, 2022, 2023, 2024, 2025, 2026, 2027, 2028, 2029], [\"Canada\", \"USA\", \"China\", \"Italy\", \"France\"])\n",
    "df"
   ]
  },
  {
   "cell_type": "code",
   "execution_count": 369,
   "id": "1fb5bf78-80dd-4413-b233-a9c5965ab76e",
   "metadata": {},
   "outputs": [],
   "source": [
    "df[\"Hungery\"] = np.random.rand(10,1)"
   ]
  },
  {
   "cell_type": "code",
   "execution_count": 374,
   "id": "c8776781-19e5-4d17-aed8-92681cc8fc07",
   "metadata": {},
   "outputs": [
    {
     "data": {
      "text/html": [
       "<div>\n",
       "<style scoped>\n",
       "    .dataframe tbody tr th:only-of-type {\n",
       "        vertical-align: middle;\n",
       "    }\n",
       "\n",
       "    .dataframe tbody tr th {\n",
       "        vertical-align: top;\n",
       "    }\n",
       "\n",
       "    .dataframe thead th {\n",
       "        text-align: right;\n",
       "    }\n",
       "</style>\n",
       "<table border=\"1\" class=\"dataframe\">\n",
       "  <thead>\n",
       "    <tr style=\"text-align: right;\">\n",
       "      <th></th>\n",
       "      <th>Canada</th>\n",
       "      <th>USA</th>\n",
       "      <th>China</th>\n",
       "      <th>Italy</th>\n",
       "      <th>France</th>\n",
       "      <th>Hungery</th>\n",
       "    </tr>\n",
       "  </thead>\n",
       "  <tbody>\n",
       "    <tr>\n",
       "      <th>2020</th>\n",
       "      <td>0.406003</td>\n",
       "      <td>0.746657</td>\n",
       "      <td>0.512308</td>\n",
       "      <td>0.228974</td>\n",
       "      <td>0.301171</td>\n",
       "      <td>0.986520</td>\n",
       "    </tr>\n",
       "    <tr>\n",
       "      <th>2021</th>\n",
       "      <td>0.151639</td>\n",
       "      <td>0.606645</td>\n",
       "      <td>0.955086</td>\n",
       "      <td>0.917779</td>\n",
       "      <td>0.264473</td>\n",
       "      <td>0.365165</td>\n",
       "    </tr>\n",
       "    <tr>\n",
       "      <th>2022</th>\n",
       "      <td>0.893967</td>\n",
       "      <td>0.326024</td>\n",
       "      <td>0.469033</td>\n",
       "      <td>0.235944</td>\n",
       "      <td>0.671758</td>\n",
       "      <td>0.225941</td>\n",
       "    </tr>\n",
       "    <tr>\n",
       "      <th>2023</th>\n",
       "      <td>0.796847</td>\n",
       "      <td>0.315287</td>\n",
       "      <td>0.366918</td>\n",
       "      <td>0.715752</td>\n",
       "      <td>0.703819</td>\n",
       "      <td>0.462242</td>\n",
       "    </tr>\n",
       "    <tr>\n",
       "      <th>2024</th>\n",
       "      <td>0.525058</td>\n",
       "      <td>0.415700</td>\n",
       "      <td>0.407646</td>\n",
       "      <td>0.638618</td>\n",
       "      <td>0.584129</td>\n",
       "      <td>0.843370</td>\n",
       "    </tr>\n",
       "    <tr>\n",
       "      <th>2025</th>\n",
       "      <td>0.218842</td>\n",
       "      <td>0.451773</td>\n",
       "      <td>0.499107</td>\n",
       "      <td>0.112782</td>\n",
       "      <td>0.466309</td>\n",
       "      <td>0.123360</td>\n",
       "    </tr>\n",
       "    <tr>\n",
       "      <th>2026</th>\n",
       "      <td>0.428951</td>\n",
       "      <td>0.580150</td>\n",
       "      <td>0.159461</td>\n",
       "      <td>0.176785</td>\n",
       "      <td>0.481288</td>\n",
       "      <td>0.742805</td>\n",
       "    </tr>\n",
       "    <tr>\n",
       "      <th>2027</th>\n",
       "      <td>0.911141</td>\n",
       "      <td>0.650993</td>\n",
       "      <td>0.294965</td>\n",
       "      <td>0.194711</td>\n",
       "      <td>0.001356</td>\n",
       "      <td>0.584605</td>\n",
       "    </tr>\n",
       "    <tr>\n",
       "      <th>2028</th>\n",
       "      <td>0.697471</td>\n",
       "      <td>0.400519</td>\n",
       "      <td>0.176587</td>\n",
       "      <td>0.018537</td>\n",
       "      <td>0.406763</td>\n",
       "      <td>0.671372</td>\n",
       "    </tr>\n",
       "    <tr>\n",
       "      <th>2029</th>\n",
       "      <td>0.849543</td>\n",
       "      <td>0.339420</td>\n",
       "      <td>0.916916</td>\n",
       "      <td>0.157050</td>\n",
       "      <td>0.772533</td>\n",
       "      <td>0.563398</td>\n",
       "    </tr>\n",
       "  </tbody>\n",
       "</table>\n",
       "</div>"
      ],
      "text/plain": [
       "        Canada       USA     China     Italy    France   Hungery\n",
       "2020  0.406003  0.746657  0.512308  0.228974  0.301171  0.986520\n",
       "2021  0.151639  0.606645  0.955086  0.917779  0.264473  0.365165\n",
       "2022  0.893967  0.326024  0.469033  0.235944  0.671758  0.225941\n",
       "2023  0.796847  0.315287  0.366918  0.715752  0.703819  0.462242\n",
       "2024  0.525058  0.415700  0.407646  0.638618  0.584129  0.843370\n",
       "2025  0.218842  0.451773  0.499107  0.112782  0.466309  0.123360\n",
       "2026  0.428951  0.580150  0.159461  0.176785  0.481288  0.742805\n",
       "2027  0.911141  0.650993  0.294965  0.194711  0.001356  0.584605\n",
       "2028  0.697471  0.400519  0.176587  0.018537  0.406763  0.671372\n",
       "2029  0.849543  0.339420  0.916916  0.157050  0.772533  0.563398"
      ]
     },
     "execution_count": 374,
     "metadata": {},
     "output_type": "execute_result"
    }
   ],
   "source": [
    "df"
   ]
  },
  {
   "cell_type": "code",
   "execution_count": 378,
   "id": "92f224a1-0375-4e94-94e8-ee4b5792ccfd",
   "metadata": {},
   "outputs": [
    {
     "data": {
      "text/plain": [
       "0.5879461861535991"
      ]
     },
     "execution_count": 378,
     "metadata": {},
     "output_type": "execute_result"
    }
   ],
   "source": [
    "df[\"Canada\"].mean()"
   ]
  },
  {
   "cell_type": "code",
   "execution_count": 397,
   "id": "3328a4c5-ec5c-4888-89e1-cedb19b506d8",
   "metadata": {},
   "outputs": [
    {
     "data": {
      "text/plain": [
       "Canada     0.587946\n",
       "USA        0.483317\n",
       "China      0.475803\n",
       "Italy      0.339693\n",
       "France     0.465360\n",
       "Hungery    0.556878\n",
       "dtype: float64"
      ]
     },
     "execution_count": 397,
     "metadata": {},
     "output_type": "execute_result"
    }
   ],
   "source": [
    "df.mean()"
   ]
  },
  {
   "cell_type": "code",
   "execution_count": 400,
   "id": "9e49f958-3001-48b4-becc-5680f2a5a576",
   "metadata": {},
   "outputs": [
    {
     "data": {
      "text/plain": [
       "2020    0.530272\n",
       "2021    0.543465\n",
       "2022    0.470444\n",
       "2023    0.560144\n",
       "2024    0.569087\n",
       "2025    0.312029\n",
       "2026    0.428240\n",
       "2027    0.439628\n",
       "2028    0.395208\n",
       "2029    0.599810\n",
       "dtype: float64"
      ]
     },
     "execution_count": 400,
     "metadata": {},
     "output_type": "execute_result"
    }
   ],
   "source": [
    "df.mean(axis=1)"
   ]
  },
  {
   "cell_type": "code",
   "execution_count": 415,
   "id": "675f6746-f234-4f7a-9a70-5f56feea801e",
   "metadata": {},
   "outputs": [],
   "source": [
    "pd2 = pd.DataFrame({\n",
    "    \"name\": [\"A\", \"M\", \"L\", \"J\", \"I\", \"V\", \"D\", \"F\"],\n",
    "    \"color\": [\"Red\", \"Black\", \"Green\",\"Red\", \"Black\",\"Black\", \"Green\",\"Red\"],\n",
    "    \"age\": [22, 34, 20, 22, 28, 20, 30, 23],\n",
    "    \"country\": [\"China\", \"France\", \"USA\",\"China\", \"France\", \"USA\", \"USA\", \"France\"]\n",
    "})"
   ]
  },
  {
   "cell_type": "code",
   "execution_count": 431,
   "id": "4b5201e2-8264-4ab5-933f-3586d6a87309",
   "metadata": {},
   "outputs": [
    {
     "data": {
      "text/html": [
       "<div>\n",
       "<style scoped>\n",
       "    .dataframe tbody tr th:only-of-type {\n",
       "        vertical-align: middle;\n",
       "    }\n",
       "\n",
       "    .dataframe tbody tr th {\n",
       "        vertical-align: top;\n",
       "    }\n",
       "\n",
       "    .dataframe thead th {\n",
       "        text-align: right;\n",
       "    }\n",
       "</style>\n",
       "<table border=\"1\" class=\"dataframe\">\n",
       "  <thead>\n",
       "    <tr style=\"text-align: right;\">\n",
       "      <th></th>\n",
       "      <th>name</th>\n",
       "      <th>color</th>\n",
       "      <th>age</th>\n",
       "      <th>country</th>\n",
       "    </tr>\n",
       "  </thead>\n",
       "  <tbody>\n",
       "    <tr>\n",
       "      <th>0</th>\n",
       "      <td>A</td>\n",
       "      <td>Red</td>\n",
       "      <td>22</td>\n",
       "      <td>China</td>\n",
       "    </tr>\n",
       "    <tr>\n",
       "      <th>1</th>\n",
       "      <td>M</td>\n",
       "      <td>Black</td>\n",
       "      <td>34</td>\n",
       "      <td>France</td>\n",
       "    </tr>\n",
       "    <tr>\n",
       "      <th>2</th>\n",
       "      <td>L</td>\n",
       "      <td>Green</td>\n",
       "      <td>20</td>\n",
       "      <td>USA</td>\n",
       "    </tr>\n",
       "    <tr>\n",
       "      <th>3</th>\n",
       "      <td>J</td>\n",
       "      <td>Red</td>\n",
       "      <td>22</td>\n",
       "      <td>China</td>\n",
       "    </tr>\n",
       "    <tr>\n",
       "      <th>4</th>\n",
       "      <td>I</td>\n",
       "      <td>Black</td>\n",
       "      <td>28</td>\n",
       "      <td>France</td>\n",
       "    </tr>\n",
       "    <tr>\n",
       "      <th>5</th>\n",
       "      <td>V</td>\n",
       "      <td>Black</td>\n",
       "      <td>20</td>\n",
       "      <td>USA</td>\n",
       "    </tr>\n",
       "    <tr>\n",
       "      <th>6</th>\n",
       "      <td>D</td>\n",
       "      <td>Green</td>\n",
       "      <td>30</td>\n",
       "      <td>USA</td>\n",
       "    </tr>\n",
       "    <tr>\n",
       "      <th>7</th>\n",
       "      <td>F</td>\n",
       "      <td>Red</td>\n",
       "      <td>23</td>\n",
       "      <td>France</td>\n",
       "    </tr>\n",
       "  </tbody>\n",
       "</table>\n",
       "</div>"
      ],
      "text/plain": [
       "  name  color  age country\n",
       "0    A    Red   22   China\n",
       "1    M  Black   34  France\n",
       "2    L  Green   20     USA\n",
       "3    J    Red   22   China\n",
       "4    I  Black   28  France\n",
       "5    V  Black   20     USA\n",
       "6    D  Green   30     USA\n",
       "7    F    Red   23  France"
      ]
     },
     "execution_count": 431,
     "metadata": {},
     "output_type": "execute_result"
    }
   ],
   "source": [
    "pd2"
   ]
  },
  {
   "cell_type": "code",
   "execution_count": 443,
   "id": "69a9fb6d-6299-48e6-8479-8af14674c16c",
   "metadata": {},
   "outputs": [
    {
     "data": {
      "text/html": [
       "<div>\n",
       "<style scoped>\n",
       "    .dataframe tbody tr th:only-of-type {\n",
       "        vertical-align: middle;\n",
       "    }\n",
       "\n",
       "    .dataframe tbody tr th {\n",
       "        vertical-align: top;\n",
       "    }\n",
       "\n",
       "    .dataframe thead th {\n",
       "        text-align: right;\n",
       "    }\n",
       "</style>\n",
       "<table border=\"1\" class=\"dataframe\">\n",
       "  <thead>\n",
       "    <tr style=\"text-align: right;\">\n",
       "      <th></th>\n",
       "      <th></th>\n",
       "      <th>age</th>\n",
       "    </tr>\n",
       "    <tr>\n",
       "      <th>color</th>\n",
       "      <th>country</th>\n",
       "      <th></th>\n",
       "    </tr>\n",
       "  </thead>\n",
       "  <tbody>\n",
       "    <tr>\n",
       "      <th rowspan=\"2\" valign=\"top\">Black</th>\n",
       "      <th>France</th>\n",
       "      <td>31.0</td>\n",
       "    </tr>\n",
       "    <tr>\n",
       "      <th>USA</th>\n",
       "      <td>20.0</td>\n",
       "    </tr>\n",
       "    <tr>\n",
       "      <th>Green</th>\n",
       "      <th>USA</th>\n",
       "      <td>25.0</td>\n",
       "    </tr>\n",
       "    <tr>\n",
       "      <th rowspan=\"2\" valign=\"top\">Red</th>\n",
       "      <th>China</th>\n",
       "      <td>22.0</td>\n",
       "    </tr>\n",
       "    <tr>\n",
       "      <th>France</th>\n",
       "      <td>23.0</td>\n",
       "    </tr>\n",
       "  </tbody>\n",
       "</table>\n",
       "</div>"
      ],
      "text/plain": [
       "                age\n",
       "color country      \n",
       "Black France   31.0\n",
       "      USA      20.0\n",
       "Green USA      25.0\n",
       "Red   China    22.0\n",
       "      France   23.0"
      ]
     },
     "execution_count": 443,
     "metadata": {},
     "output_type": "execute_result"
    }
   ],
   "source": [
    "pd.DataFrame(pd2.groupby([\"color\", \"country\"])[\"age\"].mean())\n"
   ]
  },
  {
   "cell_type": "code",
   "execution_count": null,
   "id": "de14d613-c3aa-4c16-8e7b-2193f22c9579",
   "metadata": {},
   "outputs": [],
   "source": []
  },
  {
   "cell_type": "code",
   "execution_count": null,
   "id": "eed137a5-a793-454c-85d2-7d308c2a1b82",
   "metadata": {},
   "outputs": [],
   "source": []
  },
  {
   "cell_type": "code",
   "execution_count": null,
   "id": "ee5d9368-a06a-4869-af29-58ba4c9d46bc",
   "metadata": {},
   "outputs": [],
   "source": []
  },
  {
   "cell_type": "code",
   "execution_count": null,
   "id": "56de16de-5ff9-4eb6-9ec0-d54898a29c8f",
   "metadata": {},
   "outputs": [],
   "source": []
  },
  {
   "cell_type": "code",
   "execution_count": null,
   "id": "591976e2-9838-4e98-9853-d087ff9336c9",
   "metadata": {},
   "outputs": [],
   "source": []
  },
  {
   "cell_type": "code",
   "execution_count": null,
   "id": "b148bfd9-04a7-43a1-be47-f30c38e197d9",
   "metadata": {},
   "outputs": [],
   "source": []
  },
  {
   "cell_type": "code",
   "execution_count": null,
   "id": "3c7be1a3-901b-4126-864d-b9ef7648db31",
   "metadata": {},
   "outputs": [],
   "source": []
  },
  {
   "cell_type": "code",
   "execution_count": null,
   "id": "5621d9c3-c862-4364-821d-f9b3875cfa7d",
   "metadata": {},
   "outputs": [],
   "source": []
  },
  {
   "cell_type": "code",
   "execution_count": null,
   "id": "4190cef8-4a59-4f8f-a2ce-d1e342e395fc",
   "metadata": {},
   "outputs": [],
   "source": []
  },
  {
   "cell_type": "code",
   "execution_count": null,
   "id": "c0e46837-c7c3-4701-a6f8-7a5ec2a37c95",
   "metadata": {},
   "outputs": [],
   "source": []
  },
  {
   "cell_type": "markdown",
   "id": "9703ca59-56e0-43d6-ac9c-490bde14c240",
   "metadata": {},
   "source": [
    "<div>\n",
    "    <h1>\n",
    "        string methods\n",
    "    </h1>\n",
    "</div>"
   ]
  }
 ],
 "metadata": {
  "kernelspec": {
   "display_name": "Python [conda env:base] *",
   "language": "python",
   "name": "conda-base-py"
  },
  "language_info": {
   "codemirror_mode": {
    "name": "ipython",
    "version": 3
   },
   "file_extension": ".py",
   "mimetype": "text/x-python",
   "name": "python",
   "nbconvert_exporter": "python",
   "pygments_lexer": "ipython3",
   "version": "3.12.7"
  }
 },
 "nbformat": 4,
 "nbformat_minor": 5
}
