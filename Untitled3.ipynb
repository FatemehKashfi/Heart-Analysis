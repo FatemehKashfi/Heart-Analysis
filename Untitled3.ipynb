{
 "cells": [
  {
   "cell_type": "code",
   "execution_count": 4,
   "id": "030a7af1-7d0d-41af-8bea-60c99a3af25d",
   "metadata": {},
   "outputs": [],
   "source": [
    "import numpy as np\n",
    "import pandas as pd\n",
    "from sklearn.neural_network import MLPClassifier\n",
    "from sklearn.model_selection import train_test_split\n",
    "from sklearn.preprocessing import StandardScaler\n",
    "from sklearn.datasets import load_iris"
   ]
  },
  {
   "cell_type": "code",
   "execution_count": 28,
   "id": "43d441f3-b751-44e2-a147-9540103f2f02",
   "metadata": {},
   "outputs": [],
   "source": [
    "# Load dataset (example: Iris dataset)\n",
    "data = pd.read_csv(\"/Users/mahsa/Downloads/ipynbs/Heart data.csv\")"
   ]
  },
  {
   "cell_type": "code",
   "execution_count": 30,
   "id": "6b6646fb-f17d-463e-af24-61c777ad7289",
   "metadata": {},
   "outputs": [],
   "source": [
    "data = data.fillna(0)"
   ]
  },
  {
   "cell_type": "code",
   "execution_count": 32,
   "id": "0186f1c3-5b05-4b1c-ac06-c915e4865afa",
   "metadata": {},
   "outputs": [],
   "source": [
    "x = data.drop('c', axis =1)\n",
    "y = data['c']"
   ]
  },
  {
   "cell_type": "code",
   "execution_count": 34,
   "id": "7efd51a3-d683-4615-a90c-e6226c9f1c1a",
   "metadata": {},
   "outputs": [
    {
     "name": "stdout",
     "output_type": "stream",
     "text": [
      "Training Accuracy: 0.83\n",
      "Test Accuracy: 0.81\n"
     ]
    }
   ],
   "source": [
    "\n",
    "# Split into features (X) and target (y)\n",
    "X = data.drop('c', axis=1)\n",
    "y = data['c']\n",
    "\n",
    "# Train-test split\n",
    "X_train, X_test, y_train, y_test = train_test_split(X, y, test_size=0.2, random_state=42)\n",
    "\n",
    "# Initialize and train the model\n",
    "mlp = MLPClassifier(hidden_layer_sizes=(100,), max_iter=500, random_state=42)\n",
    "mlp.fit(X_train, y_train)\n",
    "\n",
    "# Compute training and test accuracy\n",
    "train_score = mlp.score(X_train, y_train)  # Directly computes accuracy on training data\n",
    "y_pred = mlp.predict(X_test)  # Predictions on test data\n",
    "test_score = accuracy_score(y_test, y_pred)  # Accuracy on test data\n",
    "\n",
    "print(f\"Training Accuracy: {train_score:.2f}\")\n",
    "print(f\"Test Accuracy: {test_score:.2f}\")\n"
   ]
  },
  {
   "cell_type": "code",
   "execution_count": null,
   "id": "0f1cd3af-7462-41b8-b9f4-4abfd52b1fca",
   "metadata": {},
   "outputs": [],
   "source": []
  }
 ],
 "metadata": {
  "kernelspec": {
   "display_name": "Python [conda env:base] *",
   "language": "python",
   "name": "conda-base-py"
  },
  "language_info": {
   "codemirror_mode": {
    "name": "ipython",
    "version": 3
   },
   "file_extension": ".py",
   "mimetype": "text/x-python",
   "name": "python",
   "nbconvert_exporter": "python",
   "pygments_lexer": "ipython3",
   "version": "3.12.7"
  }
 },
 "nbformat": 4,
 "nbformat_minor": 5
}
